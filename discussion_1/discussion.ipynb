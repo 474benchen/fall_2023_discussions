{
 "cells": [
  {
   "cell_type": "markdown",
   "id": "9ac70a89",
   "metadata": {
    "slideshow": {
     "slide_type": "skip"
    }
   },
   "source": [
    "**note**: for anyone trying to view this as a slideshow, run 'pip install rise', reload your notebook, then click on the button that looks like a bar graph to the right of the command palette at the top."
   ]
  },
  {
   "cell_type": "markdown",
   "id": "0aaa7f3e",
   "metadata": {
    "slideshow": {
     "slide_type": "slide"
    }
   },
   "source": [
    "<center><h1>Discussion 1</h1></center>\n",
    "<center><h2>DSC 20, Fall 2023</h2><center>"
   ]
  },
  {
   "cell_type": "markdown",
   "id": "d963d1cf",
   "metadata": {
    "slideshow": {
     "slide_type": "slide"
    }
   },
   "source": [
    "<center><h2>Welcome to DSC 20! 🎉</h2></center>"
   ]
  },
  {
   "cell_type": "markdown",
   "id": "c8f91290",
   "metadata": {
    "slideshow": {
     "slide_type": "slide"
    }
   },
   "source": [
    "<center><h2>Agenda</h2></center>\n",
    "<ul>\n",
    "    <li> How discussion will work this quarter </li>\n",
    "    <li> Why bother learning how to code? </li>\n",
    "    <li> <b>Content</b> </li>\n",
    "    <ul>\n",
    "        <li> basic operators\n",
    "        <li> basic data types\n",
    "        <li> booleans\n",
    "        <li> return keyword (short-circuit)\n",
    "        <li> if conditions\n",
    "        <li> for/while loop\n",
    "        <li> mutability\n",
    "        <li> lists, tuples, sets\n",
    "    </ul>\n",
    "    <li> File Structure </li>\n",
    "    <li> Style </li>\n",
    "    <li> Doctests </li>\n",
    "    <li> Discussion Questions </li>\n",
    "    <li> Debugging (demo) </li>\n",
    "    <li> Class Advice (time permitting) </li>\n",
    "</ul>"
   ]
  },
  {
   "cell_type": "markdown",
   "id": "5b6ada72",
   "metadata": {
    "slideshow": {
     "slide_type": "slide"
    }
   },
   "source": [
    "<center><h2> About Me </h2></center>\n",
    "<center> <h3>Benjamin (call me Ben)</h3> </center>\n",
    "<ul>\n",
    "<li> Originally from the Bay Area (San Jose/Fremont)\n",
    "<li> Fourth year Data Science major\n",
    "<li> 7th(?) quarter teaching DSC 20\n",
    "<li> Outside the classroom 👨‍🏫: track & field, badminton, marching band, reading, video games, anime, cooking, eating, travelling, bracelet making, video/photo editing, etc.\n",
    "</ul>"
   ]
  },
  {
   "cell_type": "markdown",
   "id": "fb5aea9d",
   "metadata": {
    "slideshow": {
     "slide_type": "slide"
    }
   },
   "source": [
    "<center><h2> How discussion will work this quarter - participation / attendance (TODO)</h2></center>\n",
    "\n",
    "<center><img src='imgs/discussion_purpose.png' width=700></center>\n",
    "\n",
    "- after reinforcing content, discussions will feature 4 - 5 practice questions.\n",
    "- these questions will be on physical worksheets for exam prep (and good practice)\n",
    "- attendance is taken using webclicker; they will be feedback regarding the practice questions\n",
    "- webclicker is geo-locked; you have to be in/near the room to get points\n",
    "- each exam > 90% correlates to 3 skipped discussions"
   ]
  },
  {
   "cell_type": "markdown",
   "id": "968ad3b4",
   "metadata": {
    "slideshow": {
     "slide_type": "slide"
    }
   },
   "source": [
    "<center><h2>Why bother learning how to code?</h2></center>\n",
    "\n",
    "- \"gpt-x can do everything\"\n",
    "- \"*insert amazing futuristic model here* will replace our job\"\n",
    "- \"*insert amazing futuristic model here* will cure cancer\""
   ]
  },
  {
   "cell_type": "markdown",
   "id": "d48470de",
   "metadata": {
    "slideshow": {
     "slide_type": "fragment"
    }
   },
   "source": [
    "<center><h3> Scenario </h3></center>\n",
    "<br></br>\n",
    "<center>Overpopulation is a looming issue that lots of people are worried about. Clearly, people are not coming up with good enough solutions, so why don't we just ask chatGPT or some other machine learning algorithm and use its solution? What could possibly go wrong?</center>"
   ]
  },
  {
   "cell_type": "markdown",
   "id": "d629e571",
   "metadata": {
    "slideshow": {
     "slide_type": "slide"
    }
   },
   "source": [
    "<center><h3> Scenario Solution </h3></center>\n",
    "<center><img src='imgs/snap.jpeg' width=600></center>\n",
    "\n",
    "<br></br>\n",
    "\n",
    "<center>A pretty realistic machine output to this problem would be the same solution Thanos came to in the MCU - simply remove half of all life and overpopulation is solved. Does this solution work? Sure, it does! Is it one that we would accept? No!! (I hope...)</center>"
   ]
  },
  {
   "cell_type": "markdown",
   "id": "13a145dc",
   "metadata": {
    "slideshow": {
     "slide_type": "slide"
    }
   },
   "source": [
    "<center><h3> Problem Statement </h3></center>\n",
    "<br></br>\n",
    "\n",
    "<center>Although machine learning only gets better, at the end of the day, it is still a machine. It fails to capture all the qualities that go into complex scenarios. Yes, they are smart and honestly terrifying sometimes, but they are just <b>tools</b> at the end of the day.</center>\n",
    "\n",
    "<br>\n",
    "\n",
    "<center>Without a well versed user, tools are nothing more than scrap. This is where programmers come in. Until the day that machines are truly intelligent, we as programmers are the one who can use them effectively.</center>\n",
    "\n",
    "<br>\n",
    "\n",
    "<center>Programming is simply the language that translates human intention to computer actions. It instructs machines on how to carry out your logic.</center>\n",
    "\n",
    "<br>\n",
    "\n",
    "<center>So why bother learning how to code? So we can use cool tools like chatGPT or DALLE-2 to do amazing things!</center>"
   ]
  },
  {
   "cell_type": "markdown",
   "id": "2a46ddc8",
   "metadata": {
    "slideshow": {
     "slide_type": "slide"
    }
   },
   "source": [
    "<center><h1> Content Review </h1></center>\n",
    "\n",
    "Jargon:\n",
    "- function -> def function(x,y): # with code\n",
    "- expression -> line(s) of code\n",
    "- arguments -> what's passed into a function (function(<b style = \"color:red;\">x,y</b>))\n",
    "- evaluate -> code gets ran\n",
    "- operators -> symbols/words that have unique, built-in functions"
   ]
  },
  {
   "cell_type": "markdown",
   "id": "353b6fc4",
   "metadata": {
    "slideshow": {
     "slide_type": "slide"
    }
   },
   "source": [
    "<center> <h3>Basic Operations</h3> </center>\n",
    "<br></br>\n",
    "\n",
    "<b style=\"color:blue;\">+</b> - Numerical addition / concatenation operator\n",
    "\n",
    "<b style=\"color:blue;\">-</b> - Numerical Subtraction operator\n",
    "\n",
    "<b style=\"color:blue;\">/</b> - Classic Division operator\n",
    "\n",
    "<b style=\"color:blue;\">//</b> - Floor Division operator\n",
    "\n",
    "<b style=\"color:blue;\">*</b> - Numerical Multiplication / repetition operator\n",
    "\n",
    "<b style=\"color:blue;\">**</b> - Numerical Exponential operator\n",
    "\n",
    "<b style=\"color:blue;\">%</b> - Numeric remainder operator\n",
    "\n"
   ]
  },
  {
   "cell_type": "markdown",
   "id": "fc3e010c",
   "metadata": {
    "slideshow": {
     "slide_type": "slide"
    }
   },
   "source": [
    "<center> <h3>Basic Data Types</h3> </center>\n",
    "<br></br>\n",
    "\n",
    "\n",
    "<b style=\"color:blue;\">String</b> - Data type for text\n",
    "\n",
    "<b style=\"color:blue;\">Int</b> - Data type for whole numbers\n",
    "    \n",
    "<b style=\"color:blue;\">Float</b> - Data type for non-integers\n",
    "    \n",
    "<b style=\"color:blue;\">Bool</b> - True or False\n",
    " \n",
    "note: <b style=\"color:blue;\">None</b> is technically its own type"
   ]
  },
  {
   "cell_type": "markdown",
   "id": "1e282ad2",
   "metadata": {
    "slideshow": {
     "slide_type": "slide"
    }
   },
   "source": [
    "<center> <h3>Boolean Operators</h3> </center>\n",
    "\n",
    "<u>Logical Operators (in order priority)</u>:\n",
    "<ul>\n",
    "    <li> <b style = \"color:purple;\">not</b> - reverses the outcome of the following expression\n",
    "    <li> <b style = \"color:purple;\">and</b> - all expressions compared with “and” must be True to evaluate True\n",
    "    <li> <b style = \"color:purple;\">or</b> - at least one expression compared with “or” must be True to evaluate True\n",
    "</ul>\n",
    "\n",
    "<u>Comparison Operators (generates booleans)</u>:\n",
    "<ul>\n",
    "    <li> <b style = \"color:purple;\">==</b> - equality check\n",
    "    <li> <b style = \"color:purple;\">!=</b> - inequality check\n",
    "    <li> <b style = \"color:purple;\">>, >=, <, <=</b> directional check\n",
    "</ul>\n",
    "\n",
    "note: order of evaluation is overriden by parentheses (just like PEMDAS)"
   ]
  },
  {
   "cell_type": "markdown",
   "id": "20dda745",
   "metadata": {
    "slideshow": {
     "slide_type": "slide"
    }
   },
   "source": [
    "<center> <h3>Short-circuits, 'return', 'print'</h3> </center>\n",
    "\n",
    "- In python, expressions are evaluated from left to right\n",
    "- With certain operations, a \"short-ciruit\" can happen if conditions are met\n",
    "    - ex: True or 1/0 -> \"or\" only requires 1 True, so the expression is done evaluating before 1/0 can trigger an error.\n",
    "<br></br>\n",
    "- <b>'return'</b> is a very important and special keyword in python\n",
    "    - all statements with return will short-circuit the function afterwards\n",
    "    - It's python's functional way to pass a value out of a function\n",
    "    - not every function needs a return (but most do)\n",
    "<br></br>\n",
    "- <b>'print'</b> displays some object (int, str, bool, etc.) onto a console\n",
    "    - commonly used for debugging, sometimes integral to the purpose of a function.\n",
    "    - print's result is None (it doesn't \"return\" a meaningful value)"
   ]
  },
  {
   "cell_type": "markdown",
   "id": "6b9c441a",
   "metadata": {
    "slideshow": {
     "slide_type": "slide"
    }
   },
   "source": [
    "<center> <h3>Conditional Statements</h3> </center>\n",
    "\n",
    "if (boolean expression):\n",
    "\t<p> &emsp;<mark>//Do stuff</mark></p>\n",
    "    \n",
    "elif (other boolean expression):  \n",
    "\n",
    "<b>note: </b>elif is optional, can have as many elifs as necessary\n",
    "\t<p> &emsp;<mark>//Do other stuff</mark></p>\n",
    "    \n",
    "else: \n",
    "\n",
    "<b>note: </b>else is optional, will execute only if the conditions in the “if” and “elif” statements are not true. \"else\" is the final part of a chained conditional statement.\n",
    "\t<p> &emsp;<mark>//Do other other stuff</mark></p>\n",
    "\n"
   ]
  },
  {
   "cell_type": "markdown",
   "id": "857f70a2",
   "metadata": {
    "slideshow": {
     "slide_type": "slide"
    }
   },
   "source": [
    "<center> <h3>Loops</h3> </center>\n",
    "\n",
    "<center>Loops are used to <b style = 'color:blue'>repeat computations</b> many times.</center>\n",
    "\n",
    "- Two types of loops:\n",
    "    - <mark style= \"color:blue; background-color: white\" >While loop</mark>: Uses  logical conditions, useful for when the number of iterations is unknown (as long as a condition is true, code will run).\n",
    "    - <mark style= \"color:blue; background-color: white\" >For loop </mark>: Uses an iterable object (ex. list), usually for when the number repetition is known."
   ]
  },
  {
   "cell_type": "code",
   "execution_count": null,
   "id": "9525f5cb",
   "metadata": {
    "slideshow": {
     "slide_type": "fragment"
    }
   },
   "outputs": [],
   "source": [
    "while x is True:\n",
    "    # do something\n",
    "for value in x:\n",
    "    # do something"
   ]
  },
  {
   "cell_type": "markdown",
   "id": "b64f344a",
   "metadata": {
    "slideshow": {
     "slide_type": "slide"
    }
   },
   "source": [
    "<center> <h3>Mutability</h3> </center>\n",
    "\n",
    "<ul>\n",
    "    <li> Object is mutable if it can be changed after it is created\n",
    "    <li> If it can't, it is immutable\n",
    "    <li> Lists are <b style='color:blue'>mutable</b>\n",
    "    <li> strings, tuples, and numbers are <b style='color:red'>immutable</b>\n",
    "</ul>"
   ]
  },
  {
   "cell_type": "code",
   "execution_count": 4,
   "id": "bac6fd45",
   "metadata": {
    "slideshow": {
     "slide_type": "fragment"
    }
   },
   "outputs": [
    {
     "ename": "TypeError",
     "evalue": "'str' object does not support item assignment",
     "output_type": "error",
     "traceback": [
      "\u001b[0;31m---------------------------------------------------------------------------\u001b[0m",
      "\u001b[0;31mTypeError\u001b[0m                                 Traceback (most recent call last)",
      "Cell \u001b[0;32mIn[4], line 2\u001b[0m\n\u001b[1;32m      1\u001b[0m test_str \u001b[38;5;241m=\u001b[39m \u001b[38;5;124m'\u001b[39m\u001b[38;5;124mDSC20\u001b[39m\u001b[38;5;124m'\u001b[39m\n\u001b[0;32m----> 2\u001b[0m \u001b[43mtest_str\u001b[49m\u001b[43m[\u001b[49m\u001b[38;5;241;43m-\u001b[39;49m\u001b[38;5;241;43m2\u001b[39;49m\u001b[43m]\u001b[49m \u001b[38;5;241m=\u001b[39m \u001b[38;5;124m'\u001b[39m\u001b[38;5;124m3\u001b[39m\u001b[38;5;124m'\u001b[39m\n\u001b[1;32m      3\u001b[0m test_str\n",
      "\u001b[0;31mTypeError\u001b[0m: 'str' object does not support item assignment"
     ]
    }
   ],
   "source": [
    "test_str = 'DSC20'\n",
    "test_str[-2] = '3'\n",
    "test_str"
   ]
  },
  {
   "cell_type": "code",
   "execution_count": 5,
   "id": "a390c43b",
   "metadata": {
    "slideshow": {
     "slide_type": "fragment"
    }
   },
   "outputs": [
    {
     "data": {
      "text/plain": [
       "['D', 'S', 'C', '3', '0']"
      ]
     },
     "execution_count": 5,
     "metadata": {},
     "output_type": "execute_result"
    }
   ],
   "source": [
    "test_lst = ['D','S','C','2','0']\n",
    "test_lst[-2] = '3'\n",
    "test_lst"
   ]
  },
  {
   "cell_type": "markdown",
   "id": "1d959439",
   "metadata": {
    "slideshow": {
     "slide_type": "slide"
    }
   },
   "source": [
    "<center> <h3>Lists, Tuples, Sets</h3> </center>\n",
    "\n",
    "<u>List</u>\n",
    "- Mutable vector of values\n",
    "- Can store any data type, multiple types at a time\n",
    "- Elements are acccessed via indexing\n",
    "\n",
    "<u>Tuple</u>\n",
    "- <b>Immutable</b> vector of values\n",
    "- all else equal to list\n",
    "\n",
    "<u>Set</u>\n",
    "- Mutable vector of values\n",
    "- Only stores unique elements (removes duplicates)\n",
    "- otherwise, list like behavior"
   ]
  },
  {
   "cell_type": "code",
   "execution_count": 6,
   "id": "acb3c8a4",
   "metadata": {
    "slideshow": {
     "slide_type": "fragment"
    }
   },
   "outputs": [],
   "source": [
    "to_5_list = [1,2,3,4,5]\n",
    "to_5_tup = (1,2,3,4,5)\n",
    "to_5_set = {1,2,3,4,5}"
   ]
  },
  {
   "cell_type": "markdown",
   "id": "9b1ccd3c",
   "metadata": {
    "slideshow": {
     "slide_type": "skip"
    }
   },
   "source": [
    "<center><h3> Dictionaries </h3></center>\n",
    "<ul>\n",
    "    <li> Mutable storage of key, value pairs\n",
    "    <li> Can store any data type, multiple at a time\n",
    "    <li> Elements are acccessed via keys\n",
    "    <li> keys must be <b style = 'color:blue'>immutable</b> and <b style = 'color:blue'>unique</b>\n",
    "</ul>"
   ]
  },
  {
   "cell_type": "markdown",
   "id": "8bcd7520",
   "metadata": {
    "slideshow": {
     "slide_type": "slide"
    }
   },
   "source": [
    "<center><h2>File Structure</h2></center>\n",
    "\n",
    "- Staying organized is crucial to your success in both this class and later on\n",
    "- Use a file structure that makes sense (we subtly enforce this)\n",
    "- Enables tutors to help you faster, makes it easier for you to track things\n",
    "- sample file structure:\n",
    "<center><img src='imgs/file_structure.png' width=600></center>"
   ]
  },
  {
   "cell_type": "markdown",
   "id": "1d5dcb86",
   "metadata": {
    "slideshow": {
     "slide_type": "slide"
    }
   },
   "source": [
    "<center><h2>Style</h2></center>\n",
    "<center>Why enforce style? - having poor style while coding is a death sentence if you run into a bug. Having clean code makes identifying break points easy and smooths out your workflow if you don't finish in one sitting.</center>\n",
    "\n",
    "1. limit lines to 79 characters or less (use the ruler feature in your IDE)\n",
    "\n",
    "2. avoid magic numbers (using a number randomly instead of identifying it) except for -1,0,1\n",
    "\n",
    "3. avoid meaningless variable names (ex. ball, one=1)\n",
    "\n",
    "4. add docstrings to every function (inner, helper) you write!\n",
    "\n",
    "5. use snake_case for names\n",
    "\n",
    "\n",
    "<center><b>There are more rules, this is just a (very) brief overview. The entire ruleset can be found on the course website.</b></center>"
   ]
  },
  {
   "cell_type": "markdown",
   "id": "ae8bbde8",
   "metadata": {
    "slideshow": {
     "slide_type": "slide"
    }
   },
   "source": [
    "<center><h3>Doctests</h3></center>\n",
    "<ul>\n",
    "    <li> Tests to check that your function works as intended\n",
    "    <li> denoted by the '>>> ' symbol (space included)!\n",
    "    <li> the line right after the '>>> ' represents the intended output\n",
    "    <li> well written doctests make sure your code is logically sound\n",
    "</ul>\n",
    "\n",
    "to run doctests: terminal -> file location -> python -m doctest [filename].py\n",
    "\n",
    "<b>note</b>: if you want to see the doctests you passed when you run them, add a '-v' at the end."
   ]
  },
  {
   "cell_type": "markdown",
   "id": "3d54f436",
   "metadata": {
    "slideshow": {
     "slide_type": "slide"
    }
   },
   "source": [
    "<center><h2>How coding works in this class (demo)</h2></center>"
   ]
  },
  {
   "cell_type": "markdown",
   "id": "56638cf3",
   "metadata": {
    "slideshow": {
     "slide_type": "slide"
    }
   },
   "source": [
    "<center><h2>practice questions</h2></center>\n",
    "<br></br>\n",
    "<center>Time to do some practice questions! Take about 10 minutes to work on the questions. Feel free to flag me down if you need help/clarification.</center>\n",
    "<br></br>\n",
    "<center>Make sure to work on this physically! This is practice for your own sake.</center>"
   ]
  },
  {
   "cell_type": "code",
   "execution_count": 3,
   "id": "b625191e",
   "metadata": {
    "slideshow": {
     "slide_type": "skip"
    }
   },
   "outputs": [],
   "source": [
    "def power(x, a):\n",
    "    \"\"\"\n",
    "    Write a function that calculates x^a.\n",
    "    Assume both x and a are positive numbers.\n",
    "    \n",
    "    >>> power(2, 4)\n",
    "    16\n",
    "    >>> power(9,2)\n",
    "    81\n",
    "    \"\"\"\n",
    "    # Write your implementation here\n",
    "    \n",
    "def list_sorter(master_list):\n",
    "    \"\"\"\n",
    "    Write a function that sorts numbers from\n",
    "    master_list into a list of even numbers \n",
    "    and a list of odd numbers.\n",
    "    \n",
    "    >>> list_sorter([1,2,3,4,5,6,7,8])\n",
    "    ([1,3,5,7],[2,4,6,8])\n",
    "    >>> list_sorter([1,3,5,7])\n",
    "    ([1,3,5,7], [])\n",
    "    \"\"\"\n",
    "    # Write your implementation here\n",
    "\n",
    "    \n",
    "def checker(string_lst, comparer):\n",
    "    \"\"\"\n",
    "    Write a function that counts the number of strings in a list\n",
    "    that are equivalent to comparer.\n",
    "\n",
    "    >>> checker(['she','sells','sea','shells','at','the','sea','shore'], 'sea')\n",
    "    2\n",
    "    >>> checker([], 'blank')\n",
    "    0\n",
    "    \"\"\"\n",
    "    # Write your implementation here\n",
    "    \n",
    "def strictly_increasing(lst):\n",
    "    \"\"\"\n",
    "    Write a function that takes in a list of integers and \n",
    "    returns a new list containing only the numbers that are\n",
    "    in increasing order. Numbers should appear in the same \n",
    "    order in the input and output list.\n",
    "    \n",
    "    >>> increasing([1, 3, 2, 4, 5, 8, 7, 6, 9])\n",
    "    [1, 3, 4, 5, 8, 9]\n",
    "    \"\"\"\n",
    "    # Write your implementation here"
   ]
  },
  {
   "cell_type": "markdown",
   "id": "75204e7a",
   "metadata": {
    "slideshow": {
     "slide_type": "slide"
    }
   },
   "source": [
    "<center><h2>Practice Feedback</h2></center>\n",
    "\n",
    "<center>Go to webclicker: https://webclicker.web.app or open on your phone</center>"
   ]
  },
  {
   "cell_type": "markdown",
   "id": "c2a7f20a",
   "metadata": {
    "slideshow": {
     "slide_type": "slide"
    }
   },
   "source": [
    "<center><h3>How long have you been coding?</h3></center>\n",
    "\n",
    "A. Less than 1 year\n",
    "\n",
    "B. 1-2 years\n",
    "\n",
    "C. 3-4 years\n",
    "\n",
    "D. 4+ years"
   ]
  },
  {
   "cell_type": "markdown",
   "id": "f5833594",
   "metadata": {
    "slideshow": {
     "slide_type": "slide"
    }
   },
   "source": [
    "<center><h3>How many of the questions could you complete?</h3></center>\n",
    "\n",
    "A. 0\n",
    "\n",
    "B. 1\n",
    "\n",
    "C. 2\n",
    "\n",
    "D. 3\n",
    "\n",
    "E. 4"
   ]
  },
  {
   "cell_type": "markdown",
   "id": "320b88f9",
   "metadata": {
    "slideshow": {
     "slide_type": "slide"
    }
   },
   "source": [
    "<center><h3>Did you find the questions helpful?</h3></center>\n",
    "\n",
    "A. Yes\n",
    "\n",
    "B. Kind of\n",
    "\n",
    "C. No"
   ]
  },
  {
   "cell_type": "markdown",
   "id": "bb24baa5",
   "metadata": {
    "slideshow": {
     "slide_type": "slide"
    }
   },
   "source": [
    "<center><h2>practice question solutions</h2></center>"
   ]
  },
  {
   "cell_type": "code",
   "execution_count": 11,
   "id": "a9f81fae",
   "metadata": {
    "slideshow": {
     "slide_type": "slide"
    }
   },
   "outputs": [
    {
     "name": "stdout",
     "output_type": "stream",
     "text": [
      "16\n",
      "81\n"
     ]
    }
   ],
   "source": [
    "def power(x, a):\n",
    "    \"\"\"\n",
    "    Write a function that calculates x^a.\n",
    "    Assume both x and a are positive numbers.\n",
    "    \n",
    "    >>> power(2, 4)\n",
    "    16\n",
    "    >>> power(9,2)\n",
    "    81\n",
    "    \"\"\"\n",
    "    output = 1\n",
    "    while a > 0:\n",
    "        output *= x\n",
    "        a-=1\n",
    "    return output\n",
    "print(power(2, 4))\n",
    "print(power(9,2))"
   ]
  },
  {
   "cell_type": "code",
   "execution_count": 4,
   "id": "74e46606",
   "metadata": {
    "slideshow": {
     "slide_type": "fragment"
    }
   },
   "outputs": [],
   "source": [
    "# for loop solution\n",
    "def power(x,a):\n",
    "    output = 1\n",
    "    for _ in range(a): # can use i instead of _\n",
    "        output *= x\n",
    "    return output"
   ]
  },
  {
   "cell_type": "code",
   "execution_count": 18,
   "id": "7bc74e16",
   "metadata": {
    "slideshow": {
     "slide_type": "slide"
    }
   },
   "outputs": [
    {
     "name": "stdout",
     "output_type": "stream",
     "text": [
      "([1, 3, 5, 7], [2, 4, 6, 8])\n",
      "([1, 3, 5, 7], [])\n"
     ]
    }
   ],
   "source": [
    "def list_sorter(master_list):\n",
    "    \"\"\"\n",
    "    Write a function that sorts numbers from\n",
    "    master_list into a list of even numbers \n",
    "    and a list of odd numbers.\n",
    "    \n",
    "    >>> list_sorter([1,2,3,4,5,6,7,8])\n",
    "    ([1,3,5,7],[2,4,6,8])\n",
    "    >>> list_sorter([1,3,5,7])\n",
    "    ([1,3,5,7], [])\n",
    "    \"\"\"\n",
    "    odd_list = []\n",
    "    even_list = []\n",
    "    for num in master_list:\n",
    "        if num%2 == 1:\n",
    "            odd_list+=[num]\n",
    "        else:\n",
    "            even_list+=[num]\n",
    "    return (odd_list, even_list)\n",
    "\n",
    "print(list_sorter([1,2,3,4,5,6,7,8]))\n",
    "print(list_sorter([1,3,5,7]))"
   ]
  },
  {
   "cell_type": "code",
   "execution_count": 7,
   "id": "c0d0d3fa",
   "metadata": {
    "slideshow": {
     "slide_type": "slide"
    }
   },
   "outputs": [
    {
     "name": "stdout",
     "output_type": "stream",
     "text": [
      "2\n",
      "0\n"
     ]
    }
   ],
   "source": [
    "def checker(string_lst, comparer):\n",
    "    '''\n",
    "    Write a function that counts the number of strings in a list\n",
    "    that are equivalent to comparer.\n",
    "\n",
    "    >>> checker(['she','sells','sea','shells','at','the','sea','shore'], 'sea')\n",
    "    2\n",
    "    >>> checker([], 'blank')\n",
    "    0\n",
    "    '''\n",
    "    counter = 0\n",
    "    for word in string_lst:\n",
    "        if word == comparer:\n",
    "            counter+=1\n",
    "    return counter\n",
    "print(checker(['she','sells','sea','shells','at','the','sea','shore'], 'sea'))\n",
    "print(checker([], 'blank'))"
   ]
  },
  {
   "cell_type": "code",
   "execution_count": 2,
   "id": "7572e033",
   "metadata": {
    "slideshow": {
     "slide_type": "slide"
    }
   },
   "outputs": [
    {
     "name": "stdout",
     "output_type": "stream",
     "text": [
      "[1, 3, 4, 5, 8, 9]\n"
     ]
    }
   ],
   "source": [
    "def strictly_increasing(lst):\n",
    "    \"\"\"\n",
    "    Write a function that takes in a list of integers and \n",
    "    returns a new list containing only the numbers that are\n",
    "    in increasing order. Numbers should appear in the same \n",
    "    order in the input and output list.\n",
    "    \n",
    "    >>> increasing([1, 3, 2, 4, 5, 8, 7, 6, 9])\n",
    "    [1, 3, 4, 5, 8, 9]\n",
    "    \"\"\"\n",
    "    output = []\n",
    "    for num in lst:\n",
    "        if len(output) == 0:\n",
    "            output.append(num)\n",
    "        elif num > output[-1]:\n",
    "            output.append(num)\n",
    "    return output\n",
    "print(strictly_increasing([1, 3, 2, 4, 5, 8, 7, 6, 9]))"
   ]
  },
  {
   "cell_type": "markdown",
   "id": "255af87a",
   "metadata": {
    "slideshow": {
     "slide_type": "slide"
    }
   },
   "source": [
    "<center><h3> PythonTutor - Debugging (demo) </h3></center>\n",
    "\n",
    "<center><a href = 'https://pythontutor.com/visualize.html#mode=edit'>Python Tutor</a></center>"
   ]
  },
  {
   "cell_type": "code",
   "execution_count": null,
   "id": "23d83751",
   "metadata": {
    "slideshow": {
     "slide_type": "fragment"
    }
   },
   "outputs": [],
   "source": [
    "# Wrong code\n",
    "def list_sorter(master_list):\n",
    "    odd_list = []\n",
    "    even_list = []\n",
    "    for num in master_list:\n",
    "        if num%2 == 1:\n",
    "            odd_list+=num\n",
    "        else:\n",
    "            even_list+=num\n",
    "    return (odd_list, even_list)\n",
    "\n",
    "list_sorter([1,2,3,4,5,6,7,8])"
   ]
  },
  {
   "cell_type": "markdown",
   "id": "7b7a039b",
   "metadata": {
    "slideshow": {
     "slide_type": "slide"
    }
   },
   "source": [
    "<center><h2> Things I would do if I were a student taking DSC20 now </h2></center>\n",
    "\n",
    "### 1. Utilize Resources\n",
    "### 2. Use Online Content, don't depend on them\n",
    "### 3. Useful Tools\n",
    "### 4. Practice\n",
    "### 5. Take a break!"
   ]
  },
  {
   "cell_type": "markdown",
   "id": "061f26f3",
   "metadata": {
    "slideshow": {
     "slide_type": "slide"
    }
   },
   "source": [
    "### 1. Utilize Resources\n",
    "- Office hours are great, not just for getting help on assignments or studying for the class, but as interpersonal resources. All the tutors are amazing and they're open to just talking as peers - they're people you can ask about future classes, career advice, etc. Some tutors will have more input than others, but don't be shy! We're still students and we were/are in your shoes.\n",
    "\n",
    "- Discussions are intended to be particuarly helpful. Rather than just reinforcing class concepts, they will also occassionally teach side topics that will help you become a strong programmer and help you adjust to exams (paper coding).\n",
    "\n",
    "- If you're ever struggling, don't be afraid to reach out to the staff for help. We do our best to support students."
   ]
  },
  {
   "cell_type": "markdown",
   "id": "e13236a6",
   "metadata": {
    "slideshow": {
     "slide_type": "slide"
    }
   },
   "source": [
    "### 2. Use Online Content, don't depend on them\n",
    "- Tools like ChatGPT are amazing, but abusing them will only hurt your own learning\n",
    "- Copying code from medium articles or w3school can get you a quick grade, but teaches you nothing and can get you AI'd\n",
    "- Asking friends for a question can get not only you AI'd, but also your friend\n",
    "- This class is best traversed with class content and staff support. You can consult your peers on programming ideas, but not the implementation itself"
   ]
  },
  {
   "cell_type": "markdown",
   "id": "e64ed24b",
   "metadata": {
    "slideshow": {
     "slide_type": "slide"
    }
   },
   "source": [
    "### 3. Useful Tools\n",
    "1. <a href = 'https://pythontutor.com/visualize.html#mode=edit'>Python Tutor</a> - Debugging\n",
    "    - invaluable for debugging, amazing for understanding why some code works, and why others don't\n",
    "\n",
    "2. w3school, geeksforgeeks, other documentation and example websites - Reference\n",
    "    - Stores documentation for what functions/methods do with examples\n",
    "    - Always includes examples so that you can understand what's actually happening\n",
    "\n",
    "3. Fig - File Navigation\n",
    "    - terminal plugin for mac that autocompletes file names\n",
    "    - can help you navigate your files much more easily\n",
    "\n",
    "4. Iterm2\n",
    "    - mac terminal alternative; has a lot of useful features\n",
    "\n",
    "5. oh my zsh / power level 10k\n",
    "    - framework to modify your terminal (enables plugins)\n",
    "    - powerlevel10k is a ohmyzsh plugin to beautify terminal\n",
    "    - makes things a lot more readable!(why my terminal looks nice^)"
   ]
  },
  {
   "cell_type": "markdown",
   "id": "21b80701",
   "metadata": {
    "slideshow": {
     "slide_type": "slide"
    }
   },
   "source": [
    "### 4. Practice\n",
    "- like all new skills, practice makes perfect\n",
    "- staring at code and not writing any will ultimately do nothing to make you a better coder\n",
    "- Websites such as <a href = 'https://codingbat.com/python'>coding bat</a> has practice problems for you to familiarize yourself with python\n",
    "- <a href='https://www.codecademy.com/'> codecademy</a> is something that I personally used with DSC20 to help learn coding. It walks you through the fundamental functions of python and always frames it in sample code\n",
    "- more challenging questions can be found on <a href='https://leetcode.com/'> leetcode</a>, though I don't recommend this for people new to coding.\n",
    "more can be found on course website"
   ]
  },
  {
   "cell_type": "markdown",
   "id": "a0dd7983",
   "metadata": {
    "slideshow": {
     "slide_type": "slide"
    }
   },
   "source": [
    "### 5. Take a break!\n",
    "- parking at the desk for 3+ hours and staring at a screen never helped anyone\n",
    "- remember to take breaks while coding, sometimes your brain just comes up with the solution\n",
    "- I personally have a lot of solutions come to me after a shower"
   ]
  },
  {
   "cell_type": "markdown",
   "id": "49030538",
   "metadata": {
    "slideshow": {
     "slide_type": "slide"
    }
   },
   "source": [
    "<center> <h1>Thanks for coming!</h1></center>"
   ]
  },
  {
   "cell_type": "code",
   "execution_count": null,
   "id": "1e60d5be",
   "metadata": {
    "slideshow": {
     "slide_type": "skip"
    }
   },
   "outputs": [],
   "source": []
  }
 ],
 "metadata": {
  "celltoolbar": "Slideshow",
  "kernelspec": {
   "display_name": "Python 3 (ipykernel)",
   "language": "python",
   "name": "python3"
  },
  "language_info": {
   "codemirror_mode": {
    "name": "ipython",
    "version": 3
   },
   "file_extension": ".py",
   "mimetype": "text/x-python",
   "name": "python",
   "nbconvert_exporter": "python",
   "pygments_lexer": "ipython3",
   "version": "3.10.8"
  },
  "rise": {
   "enable_chalkboard": true
  }
 },
 "nbformat": 4,
 "nbformat_minor": 5
}
