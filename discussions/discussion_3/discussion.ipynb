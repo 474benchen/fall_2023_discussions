{
 "cells": [
  {
   "cell_type": "markdown",
   "id": "9ac70a89",
   "metadata": {
    "slideshow": {
     "slide_type": "skip"
    }
   },
   "source": [
    "**note**: for anyone trying to view this as a slideshow, run 'pip install rise', reload your notebook, then click on the button that looks like a bar graph to the right of the command palette at the top."
   ]
  },
  {
   "cell_type": "markdown",
   "id": "0aaa7f3e",
   "metadata": {
    "slideshow": {
     "slide_type": "slide"
    }
   },
   "source": [
    "<center><h1>Discussion 3</h1></center>\n",
    "<center><h2>DSC 20, Fall 2023</h2><center>"
   ]
  },
  {
   "cell_type": "markdown",
   "id": "da8e7259",
   "metadata": {
    "slideshow": {
     "slide_type": "slide"
    }
   },
   "source": [
    "<center><h2>Meme of the week</h2></center>\n",
    "\n",
    "<center><img src='imgs/meme_dragon.png' width=275></center>"
   ]
  },
  {
   "cell_type": "markdown",
   "id": "c8f91290",
   "metadata": {
    "slideshow": {
     "slide_type": "slide"
    }
   },
   "source": [
    "<center><h2>Agenda</h2></center>\n",
    "<ul>\n",
    "    <li> Homework Autograder </li>\n",
    "    <li> Homework Redemption Policy </li>\n",
    "    <li> <b>Content</b> </li>\n",
    "    <ul>\n",
    "        <li> Files\n",
    "        <li> Text Processing\n",
    "        <li> List Comprehension\n",
    "        <li> Dictionary Comprehension\n",
    "        <li> Assert Statements\n",
    "        <li> Lambda Functions\n",
    "        <li> map/filter\n",
    "    </ul>\n",
    "    <li> Practice Questions </li>\n",
    "</ul>"
   ]
  },
  {
   "cell_type": "markdown",
   "id": "6d184c5f",
   "metadata": {
    "slideshow": {
     "slide_type": "slide"
    }
   },
   "source": [
    "<center><h2>Homework Autograder</h2></center>\n",
    "<br>\n",
    "<center> PSA: Make sure that your code runs against our autograder after you submit on Gradescope. The autograder has an additional function as the logic check for the code you submit; if it cannot complete running your code, you will get a 0. If your code fails our autograder, make sure to fix your code and resubmit. </center>\n",
    "\n",
    "<u>Cases that may break autograder:</u>\n",
    "- fatal syntax errors\n",
    "- infinite loops"
   ]
  },
  {
   "cell_type": "markdown",
   "id": "87600ea9",
   "metadata": {
    "slideshow": {
     "slide_type": "slide"
    }
   },
   "source": [
    "<center><h2>Homework Redemption Policy</h2></center>\n",
    "<center><img src='imgs/regrade.png' width=800></center>\n",
    "\n",
    "<center> For those who want to fix some basic errors that caused a lot of errors in their homework, refer to Homework Redemption Policy on the course website for more detail </center>"
   ]
  },
  {
   "cell_type": "markdown",
   "id": "a59f5516",
   "metadata": {
    "slideshow": {
     "slide_type": "slide"
    }
   },
   "source": [
    "<center><h2> Content</h2></center>"
   ]
  },
  {
   "cell_type": "markdown",
   "id": "d3238a8c",
   "metadata": {
    "slideshow": {
     "slide_type": "slide"
    }
   },
   "source": [
    "<center><h3> Files </h3></center>\n",
    "<ul>\n",
    "    <li> storage for data (think csv's from DSC10, txt's from assignments, etc.)\n",
    "    <li> unique methods to access within code\n",
    "</ul>\n",
    "\n",
    "<u> Access Modes </u>\n",
    "\n",
    "<b> Write </b>: 'w' -> every time the file is opened in write mode, the file is wiped. Calling file.write() will add in your data.\n",
    "\n",
    "<b> Append </b>: 'a' -> file.write() will append your data to what existed in the file beforehand.\n",
    "\n",
    "<b> Read </b>: 'r' -> no writing privilege, can only pull the data from the file with relevant methods.\n",
    "\n",
    "<b>note</b>: If you try to open a file in write mode that doesn't exist, python will create it.\n",
    "\n",
    "<b>note</b>: you should almost NEVER use the eval() function when opening files you don't trust -> eval() automatically runs any code without protections (you could get a virus, or worse)."
   ]
  },
  {
   "cell_type": "code",
   "execution_count": 1,
   "id": "c7df750a",
   "metadata": {
    "slideshow": {
     "slide_type": "slide"
    }
   },
   "outputs": [],
   "source": [
    "# method 1 NOT RECOMMENDED // OUTDATED\n",
    "file_object = open('files/disc.txt', 'w')\n",
    "file_object.write('Marina Langlois')\n",
    "file_object.close() # required for this method"
   ]
  },
  {
   "cell_type": "code",
   "execution_count": 2,
   "id": "be1bc79e",
   "metadata": {
    "slideshow": {
     "slide_type": "fragment"
    }
   },
   "outputs": [],
   "source": [
    "# method 2 The cool way to do it\n",
    "with open('files/data.txt', 'w') as f:\n",
    "    f.write('Marina Langlois is the DSC20 professor\\nSuraj Rampure is the DSC180A professor')"
   ]
  },
  {
   "cell_type": "markdown",
   "id": "c3abcc98",
   "metadata": {
    "slideshow": {
     "slide_type": "slide"
    }
   },
   "source": [
    "<center><h3>Text Processing</h3></center>\n",
    "\n",
    "<u>reading data</u>:\n",
    "- file.read() -> reads in all the data as a single string\n",
    "- file.readline() -> reads in data line by line (has to be recalled)\n",
    "- file.readlines() -> reads in all the data as a list where each line is another element of the list\n",
    "\n",
    "<center> After reading in the data, you can transform it however you'd like, and then rewrite it back into the file using .write() (if this is relevant).</center>"
   ]
  },
  {
   "cell_type": "code",
   "execution_count": 3,
   "id": "fb4692d5",
   "metadata": {
    "slideshow": {
     "slide_type": "slide"
    }
   },
   "outputs": [
    {
     "name": "stdout",
     "output_type": "stream",
     "text": [
      "the data in the file currently is: \n",
      "Marina Langlois is the DSC20 professor\n",
      "Suraj Rampure is the DSC180A professor\n",
      "\n",
      "the data in the file is now: \n",
      "Marina Langlois is the DSC20 professor\n",
      "Suraj Rampure is the DSC10 professor\n"
     ]
    }
   ],
   "source": [
    "with open('files/data.txt', 'r') as f:\n",
    "    # notice to read the data, I have to open in 'r' mode first\n",
    "    data = f.read() \n",
    "print(\"the data in the file currently is: \")\n",
    "print(data)\n",
    "\n",
    "print()\n",
    "\n",
    "with open('files/data.txt', 'w') as f:\n",
    "    data = data.replace('DSC180A', 'DSC10')\n",
    "    f.write(data)\n",
    "print(\"the data in the file is now: \")\n",
    "with open('files/data.txt', 'r') as f: print(f.read())"
   ]
  },
  {
   "cell_type": "markdown",
   "id": "7f9f3ccb",
   "metadata": {
    "slideshow": {
     "slide_type": "slide"
    }
   },
   "source": [
    "<center><h3> List Comprehension </h3> </center>\n",
    "<ul>\n",
    "    <li> Fancy, shorthand method of writing for loops\n",
    "    <li> Syntax changes depending on use case\n",
    "    <li> can be nested, just like lists\n",
    "    <li> Can contain multiple for loops in one list comp\n",
    "        \n",
    "<br>\n",
    "<b style='color:blue'>Syntax</b>\n",
    "<ul>\n",
    "    <li> [x for x in iterable]\n",
    "    <li> [x for x in iterable if (condition)]\n",
    "    <li> [x if (condition) else y for x in iterable]\n",
    "    <li> [x if (condition) else y if (condition) else z for x in iterable]"
   ]
  },
  {
   "cell_type": "markdown",
   "id": "a9c406f2",
   "metadata": {
    "slideshow": {
     "slide_type": "slide"
    }
   },
   "source": [
    "<center><h3 style = 'color:blue'> Checkpoint </h3></center>\n",
    "\n",
    "<center>What is the result of the following list comp?</center>"
   ]
  },
  {
   "cell_type": "code",
   "execution_count": null,
   "id": "a90cb3ce",
   "metadata": {
    "slideshow": {
     "slide_type": "fragment"
    }
   },
   "outputs": [],
   "source": [
    "[(x*2, x**2) for x in range(0,10) if x**2 % 2 == 1]"
   ]
  },
  {
   "cell_type": "markdown",
   "id": "10227eb1",
   "metadata": {
    "slideshow": {
     "slide_type": "slide"
    }
   },
   "source": [
    "<center><h3 style = 'color:blue'> Checkpoint Solution </h3></center>"
   ]
  },
  {
   "cell_type": "code",
   "execution_count": 7,
   "id": "adf22e0d",
   "metadata": {
    "slideshow": {
     "slide_type": "fragment"
    }
   },
   "outputs": [
    {
     "data": {
      "text/plain": [
       "[(2, 1), (6, 9), (10, 25), (14, 49), (18, 81)]"
      ]
     },
     "execution_count": 7,
     "metadata": {},
     "output_type": "execute_result"
    }
   ],
   "source": [
    "[(x*2, x**2) for x in range(0,10) if x**2 % 2 == 1]"
   ]
  },
  {
   "cell_type": "markdown",
   "id": "789def9c",
   "metadata": {
    "slideshow": {
     "slide_type": "slide"
    }
   },
   "source": [
    "<center><h3>Dictionary Comprehension</h3></center>\n",
    "\n",
    "<ul>\n",
    "    <li> Fancy, shorthand method of populating dictionaries\n",
    "    <li> Syntax changes depending on use case\n",
    "</ul>\n",
    "\n",
    "<b style='color:blue'>Syntax</b>\n",
    "\n",
    "- basically the same as list comp, but now it expects key:value\n",
    "- can include a list comp!"
   ]
  },
  {
   "cell_type": "markdown",
   "id": "136dfa8d",
   "metadata": {
    "slideshow": {
     "slide_type": "slide"
    }
   },
   "source": [
    "<center><h3 style = 'color:blue'> Checkpoint </h3></center>\n",
    "\n",
    "<center>What is the result of the following dict comp?</center>"
   ]
  },
  {
   "cell_type": "code",
   "execution_count": null,
   "id": "5dc634f3",
   "metadata": {
    "slideshow": {
     "slide_type": "fragment"
    }
   },
   "outputs": [],
   "source": [
    "{x*2:[x + 2 for x in range(x)] for x in range(0,5) if x%2==0}"
   ]
  },
  {
   "cell_type": "markdown",
   "id": "9332b05e",
   "metadata": {
    "slideshow": {
     "slide_type": "slide"
    }
   },
   "source": [
    "<center><h3 style = 'color:blue'> Checkpoint Solution </h3></center>"
   ]
  },
  {
   "cell_type": "code",
   "execution_count": 1,
   "id": "52188ded",
   "metadata": {
    "slideshow": {
     "slide_type": "fragment"
    }
   },
   "outputs": [
    {
     "data": {
      "text/plain": [
       "{0: [], 4: [2, 3], 8: [2, 3, 4, 5]}"
      ]
     },
     "execution_count": 1,
     "metadata": {},
     "output_type": "execute_result"
    }
   ],
   "source": [
    "{x*2:[x + 2 for x in range(x)] for x in range(0,5) if x%2==0}"
   ]
  },
  {
   "cell_type": "markdown",
   "id": "bbc539bf",
   "metadata": {
    "slideshow": {
     "slide_type": "slide"
    }
   },
   "source": [
    "<center><h3>Assert Statements</h3></center>\n",
    "<ul>\n",
    "    <li> Used to evaluate written code\n",
    "    <li> <b style='color:blue'>asserts</b> -> input validation (are the arguments the correct types?)\n",
    "    <li> Often combined with boolean functions (any(), all(), etc.)"
   ]
  },
  {
   "cell_type": "markdown",
   "id": "056660a4",
   "metadata": {
    "slideshow": {
     "slide_type": "fragment"
    }
   },
   "source": [
    "<u> Corollary </u>\n",
    "- docstrings should include a \"raises\" section that explains what errors are raised in what case\n",
    "- for assert failures, you would write as AssertError"
   ]
  },
  {
   "cell_type": "markdown",
   "id": "1ac372d6",
   "metadata": {
    "slideshow": {
     "slide_type": "slide"
    }
   },
   "source": [
    "<center><h3 style = 'color:blue'> Checkpoint </h3></center>\n",
    "\n",
    "<center>Given the following  code, select all assert statements that logically check the input</center>"
   ]
  },
  {
   "cell_type": "code",
   "execution_count": 12,
   "id": "335d1b04",
   "metadata": {
    "slideshow": {
     "slide_type": "fragment"
    }
   },
   "outputs": [
    {
     "data": {
      "text/plain": [
       "['a', 'b', 'c']"
      ]
     },
     "execution_count": 12,
     "metadata": {},
     "output_type": "execute_result"
    }
   ],
   "source": [
    "def foo(input_lst):\n",
    "    \"\"\"\n",
    "    function to flatten a nested list of strings\n",
    "    \"\"\"\n",
    "    return [x for lst in input_lst for x in lst]\n",
    "foo([['a'], ['b'], ['c']])"
   ]
  },
  {
   "cell_type": "code",
   "execution_count": null,
   "id": "d92b8536",
   "metadata": {
    "slideshow": {
     "slide_type": "fragment"
    }
   },
   "outputs": [],
   "source": [
    "1. assert isinstance(input_lst, list)\n",
    "2. assert all([isinstance(lst, list) for lst in input_lst])\n",
    "3. assert all([isinstance(x, str) for x in input_lst])\n",
    "4. assert all([isinstance(x, str) for lst in input_lst for x in lst])"
   ]
  },
  {
   "cell_type": "markdown",
   "id": "4ffb04b3",
   "metadata": {
    "slideshow": {
     "slide_type": "slide"
    }
   },
   "source": [
    "<center><h3 style = 'color:blue'> Checkpoint Solution </h3></center>"
   ]
  },
  {
   "cell_type": "code",
   "execution_count": 14,
   "id": "19d587a1",
   "metadata": {
    "slideshow": {
     "slide_type": "fragment"
    }
   },
   "outputs": [],
   "source": [
    "# modify initialization for each assert\n",
    "input_lst = []\n",
    "assert isinstance(input_lst, list)\n",
    "assert all([isinstance(lst, list) for lst in input_lst])\n",
    "assert all([isinstance(x, str) for lst in input_lst for x in lst])"
   ]
  },
  {
   "cell_type": "markdown",
   "id": "7becb74e",
   "metadata": {
    "slideshow": {
     "slide_type": "slide"
    }
   },
   "source": [
    "<center><h3> Lambda Functions </h3></center>\n",
    "<ul>\n",
    "    <li> known as anonymous functions (their functions are so simple, they don't need a name)\n",
    "    <li> syntax: lambda (input): (some operation)\n",
    "    <li> ex: lambda x: x + 2 (adds 2 to every element encountered)\n",
    "    <li> within the scope of this course, lambda is used in conjunction with map and filter"
   ]
  },
  {
   "cell_type": "markdown",
   "id": "65b98af7",
   "metadata": {
    "slideshow": {
     "slide_type": "slide"
    }
   },
   "source": [
    "<center><h3>Map/Filter</h3></center>\n",
    "Map -\n",
    "<b>Syntax: map(function, iterable)</b>\n",
    "<ul>\n",
    "    <li> Map allows you to apply a function to all elements to an iterable input\n",
    "    <li> very common to use a lambda function as the function to apply\n",
    "    <li> returns an iterator through the iterable object, applying the function as it traverses\n",
    "</ul>\n",
    "\n",
    "Filter - \n",
    "<b>Syntax: filter(function, iterable)</b>\n",
    "<ul>\n",
    "    <li> Filter takes in a function that returns a boolean and only keeps elements that satisfy the function (i.e. return True).\n",
    "    <li> Very common to use a lambda function as the function to apply, but keep in mind the function <b>must return a boolean</b>.\n",
    "    <li> Returns an iterator through the iterable object that only yields values that pass the function.\n",
    "</ul>"
   ]
  },
  {
   "cell_type": "markdown",
   "id": "b40a280b",
   "metadata": {
    "slideshow": {
     "slide_type": "slide"
    }
   },
   "source": [
    "<center><h2>practice questions</h2></center>\n",
    "<br>\n",
    "<center>Time to do some practice questions! Take about 10-15 minutes to work on the questions. Feel free to flag me down if you need help/clarification.</center>\n",
    "<br>\n",
    "<center>Make sure to handwrite! This is practice for your own sake.</center>\n",
    "<br>\n",
    "<center>YOU MAY KEEP YOUR WORKSHEETS!!</center>\n",
    "<br>\n",
    "<center> If you finish early, feel free to head over to gradescope and complete the discussion attendance assignment </center>"
   ]
  },
  {
   "cell_type": "code",
   "execution_count": 42,
   "id": "f15ea8c1",
   "metadata": {
    "slideshow": {
     "slide_type": "skip"
    }
   },
   "outputs": [],
   "source": [
    "def convert_negs(lsts):\n",
    "    \"\"\"\n",
    "    Write a function that uses list comprehension to\n",
    "    convert negative numbers to positive and \n",
    "    multiplies positive numbers by 2.\n",
    "    \n",
    "    >>> lsts = [[1,3,-11,6], [2,-5,-9,12], [3,19,-42]]\n",
    "    >>> convert_negs(lsts)\n",
    "    [[2, 6, 11, 12], [4, 5, 9, 24], [6, 38, 42]]\n",
    "    \"\"\"\n",
    "    # Write your implementation here\n",
    "    return\n",
    "\n",
    "def dict_comp(key_lst, val_lst):\n",
    "    \"\"\"\n",
    "    Write a function that takes in 2 lists\n",
    "    and transforms them before converting them\n",
    "    into a dictionary using dict comp.\n",
    "    Transformations:\n",
    "        1) keys should all be upper case\n",
    "        2) values should be the square root of the\n",
    "            original value\n",
    "    \n",
    "    >>> dict_comp(['max','ben','nikki'],[4,16,64])\n",
    "    {'MAX': 2.0, 'BEN': 4.0, 'NIKKI': 8.0}\n",
    "    \"\"\"\n",
    "    # Write your implementation here\n",
    "    return\n",
    "\n",
    "def class_reviews(reviews_filepath):\n",
    "    \"\"\"\n",
    "    Write a function that finds all reviews that mention \"DSC20\".\n",
    "    Each review is separated by a newline character \"\\n\".\n",
    "    Write the result into a new file named \"files/DSC20_reviews\".\n",
    "    \n",
    "    >>> class_reviews('files/raw_reviews.txt')\n",
    "    >>> with open('files/DSC20_reviews.txt', 'r') as f:\n",
    "    print(\"the number of reviews mentioning DSC20: \" + \\\n",
    "      str(len(f.read().split('\\n'))))\n",
    "    3\n",
    "    \"\"\"\n",
    "    # Write your implementation here\n",
    "    return \n",
    "\n",
    "def convert_lst(lst):\n",
    "    \"\"\"\n",
    "    Function that multiplies every odd \n",
    "    element by 3 and even element by -2.\n",
    "    >>> convert_lst([1,2,3,4,5])\n",
    "    [3, -4, 9, -8, 15]\n",
    "    \"\"\"\n",
    "    return [x*3 if x%2==1 else x*-2 for x in lst]"
   ]
  },
  {
   "cell_type": "markdown",
   "id": "fb1e47a3",
   "metadata": {
    "slideshow": {
     "slide_type": "slide"
    }
   },
   "source": [
    "<center><h2>practice question solutions</h2></center>"
   ]
  },
  {
   "cell_type": "code",
   "execution_count": 16,
   "id": "2f9a5a1b",
   "metadata": {
    "slideshow": {
     "slide_type": "slide"
    }
   },
   "outputs": [
    {
     "data": {
      "text/plain": [
       "[[2, 6, 11, 12], [4, 5, 9, 24], [6, 38, 42]]"
      ]
     },
     "execution_count": 16,
     "metadata": {},
     "output_type": "execute_result"
    }
   ],
   "source": [
    "def convert_negs(lsts):\n",
    "    \"\"\"\n",
    "    Write a function that uses list comprehension to\n",
    "    convert negative numbers to positive and \n",
    "    multiplies positive numbers by 2.\n",
    "    \n",
    "    >>> lsts = [[1,3,-11,6], [2,-5,-9,12], [3,19,-42]]\n",
    "    >>> convert_negs(lsts)\n",
    "    [[2, 6, 11, 12], [4, 5, 9, 24], [6, 38, 42]]\n",
    "    \"\"\"\n",
    "    return [[element * -1 if element < 0 else \\\n",
    "    element * 2 for element in sublist] for sublist in lsts]\n",
    "\n",
    "lsts = [[1,3,-11,6], [2,-5,-9,12], [3,19,-42]]\n",
    "convert_negs(lsts)"
   ]
  },
  {
   "cell_type": "markdown",
   "id": "a8973383",
   "metadata": {
    "slideshow": {
     "slide_type": "slide"
    }
   },
   "source": [
    "Write 3 assert statements for the previous function that validate the input"
   ]
  },
  {
   "cell_type": "code",
   "execution_count": 2,
   "id": "5ffbd6f8",
   "metadata": {
    "slideshow": {
     "slide_type": "fragment"
    }
   },
   "outputs": [
    {
     "ename": "AssertionError",
     "evalue": "",
     "output_type": "error",
     "traceback": [
      "\u001b[0;31m---------------------------------------------------------------------------\u001b[0m",
      "\u001b[0;31mAssertionError\u001b[0m                            Traceback (most recent call last)",
      "Cell \u001b[0;32mIn[2], line 4\u001b[0m\n\u001b[1;32m      2\u001b[0m \u001b[38;5;28;01massert\u001b[39;00m \u001b[38;5;28misinstance\u001b[39m(lsts, \u001b[38;5;28mlist\u001b[39m)\n\u001b[1;32m      3\u001b[0m \u001b[38;5;28;01massert\u001b[39;00m \u001b[38;5;28mall\u001b[39m([\u001b[38;5;28misinstance\u001b[39m(sublist, \u001b[38;5;28mlist\u001b[39m) \u001b[38;5;28;01mfor\u001b[39;00m sublist \u001b[38;5;129;01min\u001b[39;00m lsts])\n\u001b[0;32m----> 4\u001b[0m \u001b[38;5;28;01massert\u001b[39;00m \u001b[38;5;28mall\u001b[39m([\u001b[38;5;28misinstance\u001b[39m(element, \u001b[38;5;28mint\u001b[39m) \u001b[38;5;28;01mfor\u001b[39;00m sublist \u001b[38;5;129;01min\u001b[39;00m lsts \u001b[38;5;28;01mfor\u001b[39;00m element \u001b[38;5;129;01min\u001b[39;00m sublist])\n",
      "\u001b[0;31mAssertionError\u001b[0m: "
     ]
    }
   ],
   "source": [
    "lsts = [['a',1]]\n",
    "assert isinstance(lsts, list)\n",
    "assert all([isinstance(sublist, list) for sublist in lsts])\n",
    "assert all([isinstance(element, int) for sublist in lsts for element in sublist])"
   ]
  },
  {
   "cell_type": "code",
   "execution_count": 22,
   "id": "be2375a5",
   "metadata": {
    "slideshow": {
     "slide_type": "slide"
    }
   },
   "outputs": [
    {
     "data": {
      "text/plain": [
       "{'MAX': 2.0, 'BEN': 4.0, 'NIKKI': 8.0}"
      ]
     },
     "execution_count": 22,
     "metadata": {},
     "output_type": "execute_result"
    }
   ],
   "source": [
    "def dict_comp(key_lst, val_lst):\n",
    "    \"\"\"\n",
    "    Write a function that takes in 2 lists\n",
    "    and transforms them before converting them\n",
    "    into a dictionary using dict comp.\n",
    "    Transformations:\n",
    "        1) keys should all be upper case\n",
    "        2) values should be the square root of the\n",
    "            original value\n",
    "    \n",
    "    >>> dict_comp(['max','ben','nikki'],[4,16,64])\n",
    "    {'MAX': 2.0, 'BEN': 4.0, 'NIKKI': 8.0}\n",
    "    \"\"\"\n",
    "    return {key.upper():val**0.5 for key,val in zip(key_lst,val_lst)}\n",
    "dict_comp(['max','ben','nikki'],[4,16,64])"
   ]
  },
  {
   "cell_type": "code",
   "execution_count": 6,
   "id": "e51caee6",
   "metadata": {
    "slideshow": {
     "slide_type": "slide"
    }
   },
   "outputs": [
    {
     "name": "stdout",
     "output_type": "stream",
     "text": [
      "the number of reviews mentioning DSC20: 3\n"
     ]
    }
   ],
   "source": [
    "def class_reviews(reviews_filepath):\n",
    "    \"\"\"\n",
    "    Write a function that finds all reviews that mention \"DSC20\".\n",
    "    Each review is separated by a newline character \"\\n\".\n",
    "    Write the result into a new file named \"files/DSC20_reviews\".\n",
    "    \n",
    "    >>> class_reviews('files/raw_reviews.txt')\n",
    "    >>> with open('files/DSC20_reviews.txt', 'r') as f:\n",
    "    print(\"the number of reviews mentioning DSC20: \" + \\\n",
    "      str(len(f.read().split('\\n'))))\n",
    "    3\n",
    "    \"\"\"\n",
    "    output = ''\n",
    "    with open(reviews_filepath, 'r') as f:\n",
    "        data = f.read()\n",
    "        \n",
    "    data = data.split('\\n')\n",
    "    for review in data:\n",
    "        if \"DSC20\" in review:\n",
    "            output+=(review + \"\\n\")\n",
    "    \n",
    "    with open(\"files/DSC20_reviews.txt\", 'w') as f:\n",
    "        f.write(output)\n",
    "class_reviews('files/raw_reviews.txt')\n",
    "\n",
    "with open('files/DSC20_reviews.txt', 'r') as f:\n",
    "    print(\"the number of reviews mentioning DSC20: \" + \\\n",
    "      str(len(f.read().split('\\n'))))"
   ]
  },
  {
   "cell_type": "markdown",
   "id": "cf3951d7",
   "metadata": {
    "slideshow": {
     "slide_type": "slide"
    }
   },
   "source": [
    "Translate the following function into a lambda that is equivalent:"
   ]
  },
  {
   "cell_type": "code",
   "execution_count": 40,
   "id": "6b3e19c6",
   "metadata": {
    "slideshow": {
     "slide_type": "fragment"
    }
   },
   "outputs": [
    {
     "data": {
      "text/plain": [
       "[3, -4, 9, -8, 15]"
      ]
     },
     "execution_count": 40,
     "metadata": {},
     "output_type": "execute_result"
    }
   ],
   "source": [
    "def convert_lst(lst): #translate into a lambda equivalent\n",
    "    \"\"\"\n",
    "    Function that multiplies every odd \n",
    "    element by 3 and even element by -2.\n",
    "    >>> convert_lst([1,2,3,4,5])\n",
    "    [3, -4, 9, -8, 15]\n",
    "    \"\"\"\n",
    "    return [x*3 if x%2==1 else x*-2 for x in lst]\n",
    "convert_lst([1,2,3,4,5])"
   ]
  },
  {
   "cell_type": "code",
   "execution_count": 44,
   "id": "5e7a06d1",
   "metadata": {
    "slideshow": {
     "slide_type": "fragment"
    }
   },
   "outputs": [
    {
     "name": "stdout",
     "output_type": "stream",
     "text": [
      "[3, -4, 9, -8, 15]\n"
     ]
    }
   ],
   "source": [
    "lst = [1,2,3,4,5]\n",
    "converter = lambda x: x*3 if x%2==1 else x*-2\n",
    "print(list(map(converter, lst)))"
   ]
  },
  {
   "cell_type": "markdown",
   "id": "4cfad092",
   "metadata": {
    "slideshow": {
     "slide_type": "slide"
    }
   },
   "source": [
    "<center><h2>Discussion Attendance</h2></center>\n",
    "<center>Take 2 minutes and head to gradescope to complete discussion attendance. The assignment is called Discussion X Participation.</center>"
   ]
  },
  {
   "cell_type": "markdown",
   "id": "49030538",
   "metadata": {
    "slideshow": {
     "slide_type": "slide"
    }
   },
   "source": [
    "<center> <h1>Thanks for coming!</h1></center>"
   ]
  },
  {
   "cell_type": "code",
   "execution_count": null,
   "id": "1e60d5be",
   "metadata": {
    "slideshow": {
     "slide_type": "skip"
    }
   },
   "outputs": [],
   "source": []
  }
 ],
 "metadata": {
  "celltoolbar": "Slideshow",
  "kernelspec": {
   "display_name": "Python 3 (ipykernel)",
   "language": "python",
   "name": "python3"
  },
  "language_info": {
   "codemirror_mode": {
    "name": "ipython",
    "version": 3
   },
   "file_extension": ".py",
   "mimetype": "text/x-python",
   "name": "python",
   "nbconvert_exporter": "python",
   "pygments_lexer": "ipython3",
   "version": "3.10.8"
  },
  "rise": {
   "enable_chalkboard": true
  }
 },
 "nbformat": 4,
 "nbformat_minor": 5
}
