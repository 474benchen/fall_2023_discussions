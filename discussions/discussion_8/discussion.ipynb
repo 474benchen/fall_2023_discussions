{
 "cells": [
  {
   "cell_type": "markdown",
   "id": "9ac70a89",
   "metadata": {
    "slideshow": {
     "slide_type": "skip"
    }
   },
   "source": [
    "**note**: for anyone trying to view this as a slideshow, run 'pip install rise', reload your notebook, then click on the button that looks like a bar graph to the right of the command palette at the top."
   ]
  },
  {
   "cell_type": "markdown",
   "id": "0aaa7f3e",
   "metadata": {
    "slideshow": {
     "slide_type": "slide"
    }
   },
   "source": [
    "<center><h1>Discussion 8</h1></center>\n",
    "<center><h2>DSC 20, Fall 2023</h2><center>"
   ]
  },
  {
   "cell_type": "markdown",
   "id": "172f9b03",
   "metadata": {
    "slideshow": {
     "slide_type": "slide"
    }
   },
   "source": [
    "<center><h3>Meme of the Week</h3></center>\n",
    "<br>\n",
    "\n",
    "<center><img src='imgs/meme.png' width = 550></center>"
   ]
  },
  {
   "cell_type": "markdown",
   "id": "f6f574e9",
   "metadata": {
    "slideshow": {
     "slide_type": "slide"
    }
   },
   "source": [
    "<center><h2>Announcement</h2></center>\n",
    "\n",
    "<center> There will be a substitute for me this week - I will be out of town for work </center>\n",
    "\n",
    "<center> Discussion participation will be in the form of a gradescope quiz again - make sure to get answers right, your attendance will be contingent on your score</center>"
   ]
  },
  {
   "cell_type": "markdown",
   "id": "c8f91290",
   "metadata": {
    "slideshow": {
     "slide_type": "slide"
    }
   },
   "source": [
    "<center><h3>Agenda</h3></center>\n",
    "\n",
    "- Classes (again)\n",
    "- Inheritance\n",
    "- super\n",
    "- Multiple Inheritance"
   ]
  },
  {
   "cell_type": "markdown",
   "id": "242665e0",
   "metadata": {
    "slideshow": {
     "slide_type": "slide"
    }
   },
   "source": [
    "<center><h3> Classes </h3></center>\n",
    "\n",
    "<center>Classes aggregate code together into a functional body. A lot of effective python code is written as classes (every time you install a new package, it's basically written as a lot of different classes). For example, recall the pandas dataframe. If you look at the source code for <a href='https://github.com/pandas-dev/pandas/blob/main/pandas/core/frame.py'>pandas</a>, you'll see that it's a very complicated class definition.</center>\n",
    "\n",
    "<center>Classes all generally have (at the minimum) a constructor (__init__) function and  other object related methods that are used.</center>"
   ]
  },
  {
   "cell_type": "code",
   "execution_count": 1,
   "id": "df85e9b2",
   "metadata": {
    "slideshow": {
     "slide_type": "fragment"
    }
   },
   "outputs": [],
   "source": [
    "class phone:\n",
    "    \"\"\"\n",
    "    Class representation of a regular phone.\n",
    "    \"\"\"\n",
    "    pass"
   ]
  },
  {
   "cell_type": "markdown",
   "id": "dae32a26",
   "metadata": {
    "slideshow": {
     "slide_type": "slide"
    }
   },
   "source": [
    "<center><h3> Constructors </h3></center>\n",
    "\n",
    "- denoted by \\_\\_init\\_\\_ (special function)\n",
    "- should ingest self as the first parameter (ALWAYS)\n",
    "- populates instance with attributes"
   ]
  },
  {
   "cell_type": "markdown",
   "id": "a64c283c",
   "metadata": {
    "slideshow": {
     "slide_type": "fragment"
    }
   },
   "source": [
    "<center><h3> Instances </h3></center>\n",
    "\n",
    "<center> When an object is created from a class, each individual unit is referred to as an instance.</center>\n",
    "\n",
    "<center> Think of it as \"one of x\" (for example, an instance of the iPhone class is \"1/my iPhone\")</center>"
   ]
  },
  {
   "cell_type": "markdown",
   "id": "e64b6cd2",
   "metadata": {
    "slideshow": {
     "slide_type": "slide"
    }
   },
   "source": [
    "<center><h3> Working with self </h3></center>\n",
    "\n",
    "- Think of classes as a blueprint and everytime you create an instance of one, you've produced a \"physical\" manifestation. \n",
    "- We use the self keyword to interact with THIS specific instance of the class. \n",
    "- Try to think of 'self' as referencing a <b>specific, singular</b> instance of the class. Every method that works with a specific instance's values must be passed in self as an argument.</center>"
   ]
  },
  {
   "cell_type": "code",
   "execution_count": 2,
   "id": "6834cabb",
   "metadata": {
    "slideshow": {
     "slide_type": "slide"
    }
   },
   "outputs": [],
   "source": [
    "class phone:\n",
    "    \"\"\"\n",
    "    Class representation of a regular phone.\n",
    "    \"\"\"\n",
    "    def __init__(self, maker, version, owner):\n",
    "        self.maker = maker\n",
    "        self.version = version\n",
    "        self.owner = owner\n",
    "        \n",
    "        self.apps = []\n",
    "        self.free_memory = 800"
   ]
  },
  {
   "cell_type": "code",
   "execution_count": 3,
   "id": "7da926e4",
   "metadata": {
    "slideshow": {
     "slide_type": "fragment"
    }
   },
   "outputs": [
    {
     "name": "stdout",
     "output_type": "stream",
     "text": [
      "Apple\n",
      "Nikki\n",
      "[]\n",
      "\n",
      "Google\n",
      "Sailesh\n",
      "[]\n"
     ]
    }
   ],
   "source": [
    "iphone = phone('Apple', 'XR', 'Nikki')\n",
    "pixel = phone('Google', 'P3', 'Sailesh')\n",
    "print(iphone.maker)\n",
    "print(iphone.owner)\n",
    "print(iphone.apps)\n",
    "print()\n",
    "print(pixel.maker)\n",
    "print(pixel.owner)\n",
    "print(pixel.apps)"
   ]
  },
  {
   "cell_type": "markdown",
   "id": "3134a4bc",
   "metadata": {
    "slideshow": {
     "slide_type": "slide"
    }
   },
   "source": [
    "<center><h3> Instance vs Class variables </h3></center>\n",
    "\n",
    "<center>Instance variables are attached to instances of a class by keyword self (usually done in the constructor). Class variables are variables attached to the class itself.</center>"
   ]
  },
  {
   "cell_type": "code",
   "execution_count": 4,
   "id": "49782c0f",
   "metadata": {
    "slideshow": {
     "slide_type": "slide"
    }
   },
   "outputs": [],
   "source": [
    "class phone:\n",
    "    \"\"\"\n",
    "    Class representation of a regular phone.\n",
    "    \"\"\"\n",
    "    id_num = 1 # class variable\n",
    "    o_type = 'phone' # class variable\n",
    "    def __init__(self, maker, version, owner):\n",
    "        self.maker = maker\n",
    "        self.version = version\n",
    "        self.owner = owner\n",
    "        self.id = phone.id_num\n",
    "        phone.id_num+=1\n",
    "        \n",
    "        self.apps = []\n",
    "        self.free_memory = 800"
   ]
  },
  {
   "cell_type": "code",
   "execution_count": 5,
   "id": "4867502a",
   "metadata": {
    "slideshow": {
     "slide_type": "fragment"
    }
   },
   "outputs": [
    {
     "name": "stdout",
     "output_type": "stream",
     "text": [
      "1\n",
      "phone\n",
      "\n",
      "2\n",
      "phone\n"
     ]
    }
   ],
   "source": [
    "iphone = phone('Apple', 'XR', 'Nikki')\n",
    "pixel = phone('Google', 'P3', 'Sailesh')\n",
    "print(iphone.id)\n",
    "print(iphone.o_type)\n",
    "print()\n",
    "print(pixel.id)\n",
    "print(pixel.o_type)"
   ]
  },
  {
   "cell_type": "markdown",
   "id": "8c819b79",
   "metadata": {
    "slideshow": {
     "slide_type": "slide"
    }
   },
   "source": [
    "<center><h3> (Class) Methods </h3></center>"
   ]
  },
  {
   "cell_type": "code",
   "execution_count": 6,
   "id": "780fa241",
   "metadata": {
    "slideshow": {
     "slide_type": "fragment"
    }
   },
   "outputs": [],
   "source": [
    "class phone:\n",
    "    \"\"\"\n",
    "    Class representation of a regular phone.\n",
    "    \"\"\"\n",
    "    id_num = 1\n",
    "    def __init__(self, maker, version, owner):\n",
    "        self.maker = maker\n",
    "        self.version = version\n",
    "        self.owner = owner\n",
    "        self.id = phone.id_num\n",
    "        phone.id_num+=1\n",
    "        \n",
    "        self.apps = []\n",
    "        self.free_memory = 800\n",
    "    \n",
    "    def install_app(self, app, memory):\n",
    "        if self.free_memory - memory >= 0:\n",
    "            self.apps.append(app)\n",
    "            self.free_memory -= memory\n",
    "            return True\n",
    "        return False"
   ]
  },
  {
   "cell_type": "code",
   "execution_count": 7,
   "id": "902c0310",
   "metadata": {
    "slideshow": {
     "slide_type": "slide"
    }
   },
   "outputs": [
    {
     "name": "stdout",
     "output_type": "stream",
     "text": [
      "True\n",
      "False\n",
      "['duolingo']\n"
     ]
    }
   ],
   "source": [
    "iphone = phone('Apple', 'XR', 'Nikki')\n",
    "print(iphone.install_app('duolingo', 600))\n",
    "print(iphone.install_app('genshin impact', 1000))\n",
    "print(iphone.apps)"
   ]
  },
  {
   "cell_type": "markdown",
   "id": "ba96da0d",
   "metadata": {
    "slideshow": {
     "slide_type": "slide"
    }
   },
   "source": [
    "<center><h3> Inheritance </h3></center>\n",
    "\n",
    "- classes can have a \"parent-child\" relationship\n",
    "- child class(es) \"inherit\" methods from their parent class\n",
    "- use \"is-a\" paradigm to distinguish; given a parent class phone and a child class pearphone:\n",
    "    - pearphones are phones (child is a parent)\n",
    "    - but not all phones are pearphones (parents are not children)"
   ]
  },
  {
   "cell_type": "code",
   "execution_count": 8,
   "id": "4f92d893",
   "metadata": {
    "slideshow": {
     "slide_type": "fragment"
    }
   },
   "outputs": [],
   "source": [
    "class pearphone(phone):\n",
    "    pass\n",
    "    # since nothing is changed in my pearphone class,\n",
    "    # it is currently just another name for phone class"
   ]
  },
  {
   "cell_type": "code",
   "execution_count": 9,
   "id": "ab967026",
   "metadata": {
    "slideshow": {
     "slide_type": "fragment"
    }
   },
   "outputs": [
    {
     "name": "stdout",
     "output_type": "stream",
     "text": [
      "True\n",
      "True\n",
      "False\n",
      "True\n"
     ]
    }
   ],
   "source": [
    "pear = pearphone('pear', '9', 'Tim Raw')\n",
    "print(isinstance(pear, pearphone))\n",
    "print(isinstance(pear, phone))\n",
    "print(isinstance(iphone, pearphone))\n",
    "print(isinstance(iphone, phone))"
   ]
  },
  {
   "cell_type": "markdown",
   "id": "6713ce0a",
   "metadata": {
    "slideshow": {
     "slide_type": "slide"
    }
   },
   "source": [
    "<center><h3> Inheritance (cont.)</h3></center>\n",
    "\n",
    "- Though not required, child classes can **overwrite** methods of their parent class\n",
    "- if certain things are to be retained, super() is a useful function to use\n",
    "\n",
    "note: super refers to the direct parent of a class"
   ]
  },
  {
   "cell_type": "code",
   "execution_count": 10,
   "id": "e41f607c",
   "metadata": {
    "slideshow": {
     "slide_type": "fragment"
    }
   },
   "outputs": [],
   "source": [
    "class pearphone(phone):\n",
    "    def __init__(self, maker, version, owner, age):\n",
    "        self.maker = maker\n",
    "        self.version = version\n",
    "        self.age = age\n",
    "        self.id = phone.id_num\n",
    "        phone.id_num+=1\n",
    "        # notice how I can still use ID from phone!\n",
    "        \n",
    "        self.apps = []\n",
    "        self.free_memory = 800"
   ]
  },
  {
   "cell_type": "code",
   "execution_count": 11,
   "id": "2f53d6a5",
   "metadata": {
    "slideshow": {
     "slide_type": "slide"
    }
   },
   "outputs": [
    {
     "name": "stdout",
     "output_type": "stream",
     "text": [
      "age of pear: 2\n",
      "True\n",
      "['duolingo']\n",
      "pear id number: 3\n"
     ]
    }
   ],
   "source": [
    "pear = pearphone('pear', '9', 'Tim Raw', 2)\n",
    "print(f'age of pear: {pear.age}')\n",
    "print(pear.install_app('duolingo', 600))\n",
    "print(pear.apps)\n",
    "print(f'pear id number: {pear.id}')"
   ]
  },
  {
   "cell_type": "markdown",
   "id": "8013cd9d",
   "metadata": {
    "slideshow": {
     "slide_type": "slide"
    }
   },
   "source": [
    "<center><h3>super()</h3></center>\n",
    "\n",
    "<center>In pearphone, even though we want a different constructor, you can see that we actually reused a lot of the same code as the constructor for its parent class, phone. To avoid this, we can directly access the parent method using super(), and then add parameters we need.</center>\n",
    "\n",
    "<center> explore super() more on your own :) </center>"
   ]
  },
  {
   "cell_type": "code",
   "execution_count": 12,
   "id": "24693c23",
   "metadata": {
    "slideshow": {
     "slide_type": "slide"
    }
   },
   "outputs": [],
   "source": [
    "class pearphone(phone):\n",
    "    def __init__(self, maker, version, owner, age):\n",
    "        # self is implicitly passed with super()\n",
    "        super().__init__(maker, version, owner)\n",
    "        self.age = age #2\n"
   ]
  },
  {
   "cell_type": "code",
   "execution_count": 13,
   "id": "65f9bcc6",
   "metadata": {
    "slideshow": {
     "slide_type": "fragment"
    }
   },
   "outputs": [
    {
     "name": "stdout",
     "output_type": "stream",
     "text": [
      "age of pear: 2\n",
      "True\n",
      "['duolingo']\n",
      "pear id number: 4\n"
     ]
    }
   ],
   "source": [
    "pear = pearphone('pear', '9', 'Tim Raw', 2)\n",
    "print(f'age of pear: {pear.age}')\n",
    "print(pear.install_app('duolingo', 600))\n",
    "print(pear.apps)\n",
    "print(f'pear id number: {pear.id}')"
   ]
  },
  {
   "cell_type": "markdown",
   "id": "51721465",
   "metadata": {
    "slideshow": {
     "slide_type": "slide"
    }
   },
   "source": [
    "<center><h3>Overwriting inherited methods</h3></center>\n"
   ]
  },
  {
   "cell_type": "code",
   "execution_count": 14,
   "id": "112fca98",
   "metadata": {
    "slideshow": {
     "slide_type": "fragment"
    }
   },
   "outputs": [],
   "source": [
    "class pearphone(phone):\n",
    "    def __init__(self, maker, version, owner, age):\n",
    "        # self is implicitly passed with super()\n",
    "        super().__init__(maker, version, owner)\n",
    "        self.age = age\n",
    "        \n",
    "        self.apps = []\n",
    "        self.free_memory = 800\n",
    "        \n",
    "    def install_app(self, app, memory):\n",
    "        '''install_app but better (whoo pear phones!)'''\n",
    "        if self.free_memory - memory//2 >= 0:\n",
    "            self.apps.append(app)\n",
    "            self.free_memory -= memory//2\n",
    "            return True\n",
    "        return False"
   ]
  },
  {
   "cell_type": "code",
   "execution_count": 15,
   "id": "3ead15d1",
   "metadata": {
    "slideshow": {
     "slide_type": "fragment"
    }
   },
   "outputs": [
    {
     "name": "stdout",
     "output_type": "stream",
     "text": [
      "pear id number: 5\n",
      "True\n"
     ]
    }
   ],
   "source": [
    "pear = pearphone('pear', '9', 'Tim Raw', 2)\n",
    "print(f'pear id number: {pear.id}')\n",
    "print(pear.install_app('duolingo', 1600))"
   ]
  },
  {
   "cell_type": "markdown",
   "id": "32e28051",
   "metadata": {
    "slideshow": {
     "slide_type": "slide"
    }
   },
   "source": [
    "<center><h3>Using super...</h3></center>"
   ]
  },
  {
   "cell_type": "code",
   "execution_count": 1,
   "id": "086eed93",
   "metadata": {
    "slideshow": {
     "slide_type": "fragment"
    }
   },
   "outputs": [
    {
     "ename": "NameError",
     "evalue": "name 'phone' is not defined",
     "output_type": "error",
     "traceback": [
      "\u001b[0;31m---------------------------------------------------------------------------\u001b[0m",
      "\u001b[0;31mNameError\u001b[0m                                 Traceback (most recent call last)",
      "Cell \u001b[0;32mIn[1], line 1\u001b[0m\n\u001b[0;32m----> 1\u001b[0m \u001b[38;5;28;01mclass\u001b[39;00m \u001b[38;5;21;01mpearphone\u001b[39;00m(\u001b[43mphone\u001b[49m):\n\u001b[1;32m      2\u001b[0m     \u001b[38;5;28;01mdef\u001b[39;00m \u001b[38;5;21m__init__\u001b[39m(\u001b[38;5;28mself\u001b[39m, maker, version, owner, age):\n\u001b[1;32m      3\u001b[0m         \u001b[38;5;66;03m# self is implicitly passed with super()\u001b[39;00m\n\u001b[1;32m      4\u001b[0m         \u001b[38;5;66;03m# if you pass inself again, will result in an error\u001b[39;00m\n\u001b[1;32m      5\u001b[0m         \u001b[38;5;28msuper\u001b[39m()\u001b[38;5;241m.\u001b[39m\u001b[38;5;21m__init__\u001b[39m(maker, version, owner)\n",
      "\u001b[0;31mNameError\u001b[0m: name 'phone' is not defined"
     ]
    }
   ],
   "source": [
    "class pearphone(phone):\n",
    "    def __init__(self, maker, version, owner, age):\n",
    "        # self is implicitly passed with super()\n",
    "        # if you pass inself again, will result in an error\n",
    "        super().__init__(maker, version, owner)\n",
    "        self.age = age\n",
    "        \n",
    "        self.apps = []\n",
    "        self.free_memory = 800\n",
    "        \n",
    "    def install_app(self, app, memory):\n",
    "        '''install_app but cheaper (whoo pear phones!)'''\n",
    "        return super().install_app(app,memory//2)"
   ]
  },
  {
   "cell_type": "code",
   "execution_count": null,
   "id": "6b612033",
   "metadata": {
    "slideshow": {
     "slide_type": "fragment"
    }
   },
   "outputs": [],
   "source": [
    "pear = pearphone('pear', '9', 'Tim Raw', 2)\n",
    "print(f'pear id number: {pear.id}')\n",
    "print(pear.install_app('duolingo', 1600))"
   ]
  },
  {
   "cell_type": "markdown",
   "id": "d96d8e67",
   "metadata": {
    "slideshow": {
     "slide_type": "slide"
    }
   },
   "source": [
    "<center><h3> Multiple Inheritance </h3></center>\n",
    "\n",
    "- a class can inherit from multiple parent classes\n",
    "- the order you list classes determines the order in which methods are inherited\n",
    "- can get very messy, good luck!"
   ]
  },
  {
   "cell_type": "code",
   "execution_count": 19,
   "id": "340f6e0d",
   "metadata": {
    "slideshow": {
     "slide_type": "slide"
    }
   },
   "outputs": [],
   "source": [
    "class black:\n",
    "    def __init__(self, name):\n",
    "        self.name = name   \n",
    "    def fizz(self, num):\n",
    "        return num\n",
    "    def buzz(self):\n",
    "        return 'something idk'\n",
    "class berry:\n",
    "    def __init__(self, name):\n",
    "        self.name = name\n",
    "    def fizz(self, num):\n",
    "        return num*2\n",
    "    def foo(self, string):\n",
    "        return string*2\n",
    "        \n",
    "class blackberry(black, berry):\n",
    "    def __init__(self, name):\n",
    "        self.name = name\n",
    "    def buzz(self):\n",
    "        return 'not idk'"
   ]
  },
  {
   "cell_type": "code",
   "execution_count": 27,
   "id": "309b18db",
   "metadata": {
    "slideshow": {
     "slide_type": "slide"
    }
   },
   "outputs": [
    {
     "name": "stdout",
     "output_type": "stream",
     "text": [
      "fizz result is: 4\n",
      "buzz result is: not idk\n",
      "foo result is: gobblegobble\n"
     ]
    }
   ],
   "source": [
    "phone = blackberry('bankrupt')\n",
    "print(f'fizz result is: {phone.fizz(4)}')\n",
    "print(f'buzz result is: {phone.buzz()}')\n",
    "print(f'foo result is: {phone.foo(\"gobble\")}')"
   ]
  },
  {
   "cell_type": "markdown",
   "id": "113dd367",
   "metadata": {
    "slideshow": {
     "slide_type": "fragment"
    }
   },
   "source": [
    "<center> fizz is inherited from class black because it was first in the order of classes passed for inheritance (even though the same method exists in class berry).</center>\n",
    "<br>\n",
    "<center>buzz was overwritten and foo was inherited from class berry.</center>"
   ]
  },
  {
   "cell_type": "markdown",
   "id": "49030538",
   "metadata": {
    "slideshow": {
     "slide_type": "slide"
    }
   },
   "source": [
    "<center> <h1>Thanks for coming!</h1></center>\n",
    "\n",
    "<center><b>Make sure to complete the quiz, I will not be giving grace periods (there is no ID to forget)</b></center>"
   ]
  },
  {
   "cell_type": "markdown",
   "id": "8755743a",
   "metadata": {
    "slideshow": {
     "slide_type": "skip"
    }
   },
   "source": [
    "<center><a href=\"https://pythontutor.com/visualize.html#code=class%20store%3A%0A%20%20%20%20def%20__init__%28self,%20open,%20close,%20orders%3D%7B%7D%29%3A%0A%20%20%20%20%20%20%20%20self.open%20%3D%20open%0A%20%20%20%20%20%20%20%20self.close%20%3D%20close%0A%20%20%20%20%20%20%20%20self.orders%20%3D%20orders%0A%0A%20%20%20%20def%20sale%28self,%20item,%20amount%29%3A%0A%20%20%20%20%20%20%20%20if%20item%20in%20self.orders%3A%20%0A%20%20%20%20%20%20%20%20%20%20%20%20self.orders%5Bitem%5D%20%2B%3D%20amount%0A%20%20%20%20%20%20%20%20if%20item%20not%20in%20self.orders%3A%20%0A%20%20%20%20%20%20%20%20%20%20%20%20self.orders%5Bitem%5D%20%3D%20amount%0A%20%20%20%20%20%20%20%20%20%20%20%20%0Aclass%20restaurant%28store%29%3A%0A%20%20%20%20def%20__init__%28self,%20open,%20close,%20orders%3D%7B%7D,%20inventory%3D%7B%7D%29%3A%0A%20%20%20%20%20%20%20%20super%28%29.__init__%28open,close,orders%29%0A%20%20%20%20%20%20%20%20self.inventory%20%3D%20inventory%0A%0A%20%20%20%20def%20sale%28self,%20item,%20amount%29%3A%0A%20%20%20%20%20%20%20%20if%20item%20in%20self.inventory%20and%20self.inventory%5Bitem%5D%20%3E%3D%20amount%3A%0A%20%20%20%20%20%20%20%20%20%20%20%20super%28%29.sale%28item,%20amount%29%0A%20%20%20%20%20%20%20%20%20%20%20%20self.inventory%5Bitem%5D%20-%3D%20amount%0A%0Aminiso%20%3D%20store%288,21,%20%7B'blind%20box'%3A10,%20'candy'%3A3%7D%29%0Aminiso.sale%28'blind%20box',%203%29%0Aminiso.sale%28'candy',%2020%29%0Aminiso.sale%28'pompompurin',%20999%29%0A%0Aanjin%20%3D%20restaurant%2817,%2021,%20%7B%7D,%20%7B'tongue'%3A20,%20'belly'%3A10%7D%29%0Aanjin.sale%28'tongue',%2010%29%0Aanjin.sale%28'belly',%2010%29%0Aanjin.sale%28'belly',%2010%29&cumulative=false&heapPrimitives=nevernest&mode=edit&origin=opt-frontend.js&py=3&rawInputLstJSON=%5B%5D&textReferences=false\">pythontutor</a></center>"
   ]
  },
  {
   "cell_type": "code",
   "execution_count": null,
   "id": "acbd5cdb",
   "metadata": {
    "slideshow": {
     "slide_type": "skip"
    }
   },
   "outputs": [],
   "source": []
  }
 ],
 "metadata": {
  "celltoolbar": "Slideshow",
  "kernelspec": {
   "display_name": "Python 3 (ipykernel)",
   "language": "python",
   "name": "python3"
  },
  "language_info": {
   "codemirror_mode": {
    "name": "ipython",
    "version": 3
   },
   "file_extension": ".py",
   "mimetype": "text/x-python",
   "name": "python",
   "nbconvert_exporter": "python",
   "pygments_lexer": "ipython3",
   "version": "3.10.8"
  },
  "rise": {
   "enable_chalkboard": true
  }
 },
 "nbformat": 4,
 "nbformat_minor": 5
}
