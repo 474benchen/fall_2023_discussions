{
 "cells": [
  {
   "cell_type": "markdown",
   "id": "9ac70a89",
   "metadata": {
    "slideshow": {
     "slide_type": "skip"
    }
   },
   "source": [
    "**note**: for anyone trying to view this as a slideshow, run 'pip install rise', reload your notebook, then click on the button that looks like a bar graph to the right of the command palette at the top."
   ]
  },
  {
   "cell_type": "markdown",
   "id": "0aaa7f3e",
   "metadata": {
    "slideshow": {
     "slide_type": "slide"
    }
   },
   "source": [
    "<center><h1>Discussion 4</h1></center>\n",
    "<center><h2>DSC 20, Fall 2023</h2><center>"
   ]
  },
  {
   "cell_type": "markdown",
   "id": "00203057",
   "metadata": {
    "slideshow": {
     "slide_type": "slide"
    }
   },
   "source": [
    "<center><h2>Midterm 1 Review 🫡</h2><center>"
   ]
  },
  {
   "cell_type": "markdown",
   "id": "d3553d72",
   "metadata": {
    "slideshow": {
     "slide_type": "slide"
    }
   },
   "source": [
    "<center><h2>Meme of the week</h2></center>\n",
    "\n",
    "<center><img src='imgs/meme.png' width=500></center>"
   ]
  },
  {
   "cell_type": "markdown",
   "id": "0bca6afb",
   "metadata": {
    "slideshow": {
     "slide_type": "slide"
    }
   },
   "source": [
    "<center><h3>Logistics</h3></center>\n",
    "\n",
    "<center>- Midterm 1 takes place during lecture, Friday October 27th (CENTR 214 // normal lecture hall) </center>\n",
    "\n",
    "<center>- No questions asked during exam </center>\n",
    "\n",
    "<center>- Closed notes. Make sure to bring writing tools and your student ID(!!!)</center>"
   ]
  },
  {
   "cell_type": "markdown",
   "id": "c8f91290",
   "metadata": {
    "slideshow": {
     "slide_type": "slide"
    }
   },
   "source": [
    "<center><h3>Topics</h3></center>\n",
    "\n",
    "- Basic Operations\n",
    "- Basic Data Types\n",
    "- Boolean Operators\n",
    "- Conditional Statements\n",
    "- short-circuits, return, print\n",
    "- Doctests\n",
    "- Asserts\n",
    "- Loops\n",
    "- Mutability\n",
    "- Lists, tuples, sets\n",
    "- List comprehension\n",
    "- Slicing\n",
    "- Dictionaries\n",
    "- Dictionary comprehension (not explicit)\n",
    "- Files"
   ]
  },
  {
   "cell_type": "markdown",
   "id": "5d0942b6",
   "metadata": {
    "slideshow": {
     "slide_type": "slide"
    }
   },
   "source": [
    "<center> <h3>Basic Operations</h3> </center>\n",
    "<br></br>\n",
    "\n",
    "<b style=\"color:blue;\">+</b> - Numerical addition / concatenation operator\n",
    "\n",
    "<b style=\"color:blue;\">-</b> - Numerical Subtraction operator\n",
    "\n",
    "<b style=\"color:blue;\">/</b> - Classic Division operator\n",
    "\n",
    "<b style=\"color:blue;\">//</b> - Floor Division operator\n",
    "\n",
    "<b style=\"color:blue;\">*</b> - Numerical Multiplication / repetition operator\n",
    "\n",
    "<b style=\"color:blue;\">**</b> - Numerical Exponential operator\n",
    "\n",
    "<b style=\"color:blue;\">%</b> - Numeric remainder operator\n",
    "\n"
   ]
  },
  {
   "cell_type": "markdown",
   "id": "41ad2fd5",
   "metadata": {
    "slideshow": {
     "slide_type": "slide"
    }
   },
   "source": [
    "<center> <h3>Basic Data Types</h3> </center>\n",
    "<br></br>\n",
    "\n",
    "\n",
    "<b style=\"color:blue;\">String</b> - Data type for text\n",
    "\n",
    "<b style=\"color:blue;\">Int</b> - Data type for whole numbers\n",
    "    \n",
    "<b style=\"color:blue;\">Float</b> - Data type for non-integers\n",
    "    \n",
    "<b style=\"color:blue;\">Bool</b> - True or False\n",
    " \n",
    "note: <b style=\"color:blue;\">None</b> is technically its own type"
   ]
  },
  {
   "cell_type": "markdown",
   "id": "6ad20c63",
   "metadata": {
    "slideshow": {
     "slide_type": "slide"
    }
   },
   "source": [
    "<center> <h3>Boolean Operators</h3> </center>\n",
    "\n",
    "<u>Logical Operators (in order priority)</u>:\n",
    "<ul>\n",
    "    <li> <b style = \"color:purple;\">not</b> - reverses the outcome of the following expression\n",
    "    <li> <b style = \"color:purple;\">and</b> - all expressions compared with “and” must be True to evaluate True\n",
    "    <li> <b style = \"color:purple;\">or</b> - at least one expression compared with “or” must be True to evaluate True\n",
    "</ul>\n",
    "\n",
    "<u>Comparison Operators (generates booleans)</u>:\n",
    "<ul>\n",
    "    <li> <b style = \"color:purple;\">==</b> - equality check\n",
    "    <li> <b style = \"color:purple;\">!=</b> - inequality check\n",
    "    <li> <b style = \"color:purple;\">>, >=, <, <=</b> directional check\n",
    "</ul>\n",
    "\n",
    "note: order of evaluation is overriden by parentheses (just like PEMDAS)"
   ]
  },
  {
   "cell_type": "markdown",
   "id": "f9df3447",
   "metadata": {
    "slideshow": {
     "slide_type": "slide"
    }
   },
   "source": [
    "<center><h3 style = 'color:blue'> Checkpoint </h3></center>\n",
    "\n",
    "<center>What is the output of the following code?</center>"
   ]
  },
  {
   "cell_type": "code",
   "execution_count": null,
   "id": "36f56cd6",
   "metadata": {
    "slideshow": {
     "slide_type": "fragment"
    }
   },
   "outputs": [],
   "source": [
    "bool(-100)"
   ]
  },
  {
   "cell_type": "markdown",
   "id": "2cdfdefc",
   "metadata": {
    "slideshow": {
     "slide_type": "slide"
    }
   },
   "source": [
    "<center><h3 style = 'color:blue'> Checkpoint Solution </h3></center>"
   ]
  },
  {
   "cell_type": "code",
   "execution_count": 3,
   "id": "90f6f163",
   "metadata": {
    "slideshow": {
     "slide_type": "fragment"
    }
   },
   "outputs": [
    {
     "data": {
      "text/plain": [
       "True"
      ]
     },
     "execution_count": 3,
     "metadata": {},
     "output_type": "execute_result"
    }
   ],
   "source": [
    "bool(-100)"
   ]
  },
  {
   "cell_type": "markdown",
   "id": "1b67be95",
   "metadata": {
    "slideshow": {
     "slide_type": "slide"
    }
   },
   "source": [
    "<center> <h3>Conditional Statements</h3> </center>\n",
    "\n",
    "if (boolean expression):\n",
    "\t<p> &emsp;<mark>//Do stuff</mark></p>\n",
    "    \n",
    "elif (other boolean expression):  \n",
    "\n",
    "<b>note: </b>elif is optional, can have as many elifs as necessary\n",
    "\t<p> &emsp;<mark>//Do other stuff</mark></p>\n",
    "    \n",
    "else: \n",
    "\n",
    "<b>note: </b>else is optional, will execute only if the conditions in the “if” and “elif” statements are not true\n",
    "\t<p> &emsp;<mark>//Do other other stuff</mark></p>\n",
    "\n"
   ]
  },
  {
   "cell_type": "markdown",
   "id": "16aa5eb2",
   "metadata": {
    "slideshow": {
     "slide_type": "slide"
    }
   },
   "source": [
    "<center> <h3>Short-circuits, 'return', 'print'</h3> </center>\n",
    "\n",
    "- In python, expressions are evaluated from left to right\n",
    "- With certain operations, a \"short-ciruit\" can happen if conditions are met\n",
    "    - ex: True or 1/0 -> \"or\" only requires 1 True, so the expression is done evaluating before 1/0 can trigger an error.\n",
    "<br></br>\n",
    "- <b>'return'</b> is a very important and special keyword in python\n",
    "    - all statements with return will short-circuit the function afterwards\n",
    "    - It's python's functional way to pass a value out of a function\n",
    "    - not every function needs a return (but most do)\n",
    "<br></br>\n",
    "- <b>'print'</b> displays some object (int, str, bool, etc.) onto a console\n",
    "    - commonly used for debugging, sometimes integral to the purpose of a function.\n",
    "    - print's result is None (it doesn't \"return\" a meaningful value)"
   ]
  },
  {
   "cell_type": "markdown",
   "id": "18cf11bd",
   "metadata": {
    "slideshow": {
     "slide_type": "slide"
    }
   },
   "source": [
    "<center><h3 style = 'color:blue'> Checkpoint </h3></center>\n",
    "\n",
    "<center>Which terminal command(s) runs all doctests?</center>\n",
    "\n",
    "1. python -m doctest code.py -v\n",
    "2. python -i doctest code.py\n",
    "3. python -m doctest code.py\n",
    "4. python -m -v doctest code.py"
   ]
  },
  {
   "cell_type": "markdown",
   "id": "c0793a98",
   "metadata": {
    "slideshow": {
     "slide_type": "slide"
    }
   },
   "source": [
    "<center><h3 style = 'color:blue'> Checkpoint Solution </h3></center>\n",
    "\n",
    "1 - python -m doctest code.py -v\n",
    "\n",
    "3 - python -m doctest code.py"
   ]
  },
  {
   "cell_type": "markdown",
   "id": "5dc4761c",
   "metadata": {
    "slideshow": {
     "slide_type": "slide"
    }
   },
   "source": [
    "<center><h3>Doctests</h3></center>\n",
    "<ul>\n",
    "    <li> Tests to check that your function works as intended\n",
    "    <li> denoted by the '>>> ' symbol (space included)!\n",
    "    <li> the line right after the '>>> ' represents the intended output\n",
    "    <li> well written doctests make sure your code is logically sound\n",
    "</ul>\n",
    "\n",
    "to run doctests: terminal -> file location -> <b>python -m doctest [filename].py</b>\n",
    "\n",
    "<b>note</b>: if you want to see the doctests you passed when you run them, add a '-v' at the end."
   ]
  },
  {
   "cell_type": "markdown",
   "id": "c10f1048",
   "metadata": {
    "slideshow": {
     "slide_type": "slide"
    }
   },
   "source": [
    "<center><h3>Assert Statements</h3></center>\n",
    "<ul>\n",
    "    <li> Used to evaluate written code\n",
    "    <li> <b style='color:blue'>asserts</b> -> input validation (are the arguments the correct types?)\n",
    "    <li> Often combined with boolean functions (any(), all(), etc.) and list comp\n",
    "    <li> result should be a boolean (True = pass, False = error)\n",
    "    <li> check naive cases first, then more specific cases"
   ]
  },
  {
   "cell_type": "markdown",
   "id": "6af695a6",
   "metadata": {
    "slideshow": {
     "slide_type": "slide"
    }
   },
   "source": [
    "<center> <h3>Loops</h3> </center>\n",
    "\n",
    "<center>Loops are used to <b style = 'color:blue'>repeat computations</b> many times.</center>\n",
    "\n",
    "- Two types of loops:\n",
    "    - <mark style= \"color:blue; background-color: white\" >While loop</mark>: Uses  logical conditions, useful for when the number of iterations is unknown (as long as a condition is true, code will run).\n",
    "    - <mark style= \"color:blue; background-color: white\" >For loop </mark>: Uses an iterable object (ex. list), usually for when the number repetition is known."
   ]
  },
  {
   "cell_type": "code",
   "execution_count": null,
   "id": "1a31aa1f",
   "metadata": {
    "slideshow": {
     "slide_type": "fragment"
    }
   },
   "outputs": [],
   "source": [
    "while x is True:\n",
    "    # do something\n",
    "for value in x:\n",
    "    # do something"
   ]
  },
  {
   "cell_type": "markdown",
   "id": "723bf84c",
   "metadata": {
    "slideshow": {
     "slide_type": "slide"
    }
   },
   "source": [
    "<center><h3 style = 'color:blue'> Checkpoint </h3></center>\n",
    "\n",
    "<center> Which of the following are valid ways to create a list from 0-10 (inclusive)?</center>\n",
    "\n",
    "1. list(range(0,10))\n",
    "2. list(range(10, -1, -1))[::-1]\n",
    "3. list(range(0,11, 1))\n",
    "4. None of the above"
   ]
  },
  {
   "cell_type": "markdown",
   "id": "5b4704bc",
   "metadata": {
    "slideshow": {
     "slide_type": "slide"
    }
   },
   "source": [
    "<center><h3 style = 'color:blue'> Checkpoint Solution</h3></center>"
   ]
  },
  {
   "cell_type": "code",
   "execution_count": 13,
   "id": "522c464c",
   "metadata": {
    "slideshow": {
     "slide_type": "fragment"
    }
   },
   "outputs": [
    {
     "name": "stdout",
     "output_type": "stream",
     "text": [
      "1: [0, 1, 2, 3, 4, 5, 6, 7, 8, 9]\n",
      "2: [0, 1, 2, 3, 4, 5, 6, 7, 8, 9, 10]\n",
      "3: [0, 1, 2, 3, 4, 5, 6, 7, 8, 9, 10]\n"
     ]
    }
   ],
   "source": [
    "print(\"1: \" + str(list(range(0,10))))\n",
    "print(\"2: \" + str(list(range(10, -1, -1))[::-1]))\n",
    "print(\"3: \" + str(list(range(0,11, 1))))"
   ]
  },
  {
   "cell_type": "markdown",
   "id": "91f7db81",
   "metadata": {
    "slideshow": {
     "slide_type": "slide"
    }
   },
   "source": [
    "<center> <h3>Mutability</h3> </center>\n",
    "\n",
    "<ul>\n",
    "    <li> Object is mutable if it can be changed after it is created\n",
    "    <li> If it can't, it is immutable\n",
    "    <li> Lists are <b style='color:blue'>mutable</b>\n",
    "    <li> strings, tuples, and numbers are <b style='color:red'>immutable</b>\n",
    "</ul>"
   ]
  },
  {
   "cell_type": "markdown",
   "id": "c94f7edd",
   "metadata": {
    "slideshow": {
     "slide_type": "slide"
    }
   },
   "source": [
    "<center> <h3>Lists, Tuples, Sets</h3> </center>\n",
    "\n",
    "<u>List</u>\n",
    "- Mutable vector of values\n",
    "- Can store any data type, multiple types at a time\n",
    "- Elements are acccessed via indexing\n",
    "\n",
    "<u>Tuple</u>\n",
    "- <b>Immutable</b> vector of values\n",
    "- all else equal to list\n",
    "\n",
    "<u>Set</u>\n",
    "- Mutable vector of values\n",
    "- Only stores unique elements (removes duplicates)\n",
    "- Order is not preserved"
   ]
  },
  {
   "cell_type": "markdown",
   "id": "af01cc4a",
   "metadata": {
    "slideshow": {
     "slide_type": "slide"
    }
   },
   "source": [
    "<center><h3> List Comprehension </h3> </center>\n",
    "<ul>\n",
    "    <li> Fancy, shorthand method of writing for loops\n",
    "    <li> Syntax changes depending on use case\n",
    "    <li> can be nested, just like lists\n",
    "    <li> Can contain multiple for loops in one list comp\n",
    "        \n",
    "<br>\n",
    "<b style='color:blue'>Syntax</b>\n",
    "<ul>\n",
    "    <li> [x for x in iterable]\n",
    "    <li> [x for x in iterable if (condition)]\n",
    "    <li> [x if (condition) else y for x in iterable]\n",
    "    <li> [x if (condition) else y if (condition) else z for x in iterable]"
   ]
  },
  {
   "cell_type": "markdown",
   "id": "01dd5e54",
   "metadata": {
    "slideshow": {
     "slide_type": "slide"
    }
   },
   "source": [
    "<center><h3 style = 'color:blue'> Checkpoint </h3></center>\n",
    "\n",
    "<center>Which of the following list comprehensions will extract odd indexed elements from lst=[1,2,3,4,5,6] and convert them into a string and even indexed elements multiplied by 2?</center>\n",
    "\n",
    "1. [str(i) if i%2==1 else i*2 for i in lst]\n",
    "2. [str(lst[i]) if i%2==1 else i*2 for i in range(len(lst))]\n",
    "3. [str(lst[i]) if i%2==1 else i*2 for i in len(lst)]\n",
    "4. None of the above"
   ]
  },
  {
   "cell_type": "markdown",
   "id": "fa38ccc6",
   "metadata": {
    "slideshow": {
     "slide_type": "slide"
    }
   },
   "source": [
    "<center><h3 style = 'color:blue'> Checkpoint Solution</h3></center>"
   ]
  },
  {
   "cell_type": "code",
   "execution_count": 18,
   "id": "564b7554",
   "metadata": {
    "slideshow": {
     "slide_type": "fragment"
    }
   },
   "outputs": [
    {
     "name": "stdout",
     "output_type": "stream",
     "text": [
      "1: [4, '3', 8, '5', 12]\n",
      "2: [0, '3', 4, '5', 8]\n"
     ]
    },
    {
     "ename": "TypeError",
     "evalue": "'int' object is not iterable",
     "output_type": "error",
     "traceback": [
      "\u001b[0;31m---------------------------------------------------------------------------\u001b[0m",
      "\u001b[0;31mTypeError\u001b[0m                                 Traceback (most recent call last)",
      "Cell \u001b[0;32mIn[18], line 3\u001b[0m\n\u001b[1;32m      1\u001b[0m \u001b[38;5;28mprint\u001b[39m(\u001b[38;5;124m'\u001b[39m\u001b[38;5;124m1: \u001b[39m\u001b[38;5;124m'\u001b[39m\u001b[38;5;241m+\u001b[39m\u001b[38;5;28mstr\u001b[39m([\u001b[38;5;28mstr\u001b[39m(i) \u001b[38;5;28;01mif\u001b[39;00m i\u001b[38;5;241m%\u001b[39m\u001b[38;5;241m2\u001b[39m\u001b[38;5;241m==\u001b[39m\u001b[38;5;241m1\u001b[39m \u001b[38;5;28;01melse\u001b[39;00m i\u001b[38;5;241m*\u001b[39m\u001b[38;5;241m2\u001b[39m \u001b[38;5;28;01mfor\u001b[39;00m i \u001b[38;5;129;01min\u001b[39;00m lst]))\n\u001b[1;32m      2\u001b[0m \u001b[38;5;28mprint\u001b[39m(\u001b[38;5;124m'\u001b[39m\u001b[38;5;124m2: \u001b[39m\u001b[38;5;124m'\u001b[39m\u001b[38;5;241m+\u001b[39m\u001b[38;5;28mstr\u001b[39m([\u001b[38;5;28mstr\u001b[39m(lst[i]) \u001b[38;5;28;01mif\u001b[39;00m i\u001b[38;5;241m%\u001b[39m\u001b[38;5;241m2\u001b[39m\u001b[38;5;241m==\u001b[39m\u001b[38;5;241m1\u001b[39m \u001b[38;5;28;01melse\u001b[39;00m i\u001b[38;5;241m*\u001b[39m\u001b[38;5;241m2\u001b[39m \u001b[38;5;28;01mfor\u001b[39;00m i \u001b[38;5;129;01min\u001b[39;00m \u001b[38;5;28mrange\u001b[39m(\u001b[38;5;28mlen\u001b[39m(lst))]))\n\u001b[0;32m----> 3\u001b[0m \u001b[38;5;28mprint\u001b[39m(\u001b[38;5;124m'\u001b[39m\u001b[38;5;124m3: \u001b[39m\u001b[38;5;124m'\u001b[39m\u001b[38;5;241m+\u001b[39m[\u001b[38;5;28mstr\u001b[39m(lst[i]) \u001b[38;5;28;01mif\u001b[39;00m i\u001b[38;5;241m%\u001b[39m\u001b[38;5;241m2\u001b[39m\u001b[38;5;241m==\u001b[39m\u001b[38;5;241m1\u001b[39m \u001b[38;5;28;01melse\u001b[39;00m i\u001b[38;5;241m*\u001b[39m\u001b[38;5;241m2\u001b[39m \u001b[38;5;28;01mfor\u001b[39;00m i \u001b[38;5;129;01min\u001b[39;00m \u001b[38;5;28mlen\u001b[39m(lst)])\n",
      "\u001b[0;31mTypeError\u001b[0m: 'int' object is not iterable"
     ]
    }
   ],
   "source": [
    "print('1: '+str([str(i) if i%2==1 else i*2 for i in lst]))\n",
    "print('2: '+str([str(lst[i]) if i%2==1 else i*2 for i in range(len(lst))]))\n",
    "print('3: '+[str(lst[i]) if i%2==1 else i*2 for i in len(lst)])"
   ]
  },
  {
   "cell_type": "markdown",
   "id": "d6575a4a",
   "metadata": {
    "slideshow": {
     "slide_type": "slide"
    }
   },
   "source": [
    "<center><h3>Indexing/Slicing</h3></center>\n",
    "\n",
    "<center> Indexing/slicing refers to accessing specific element(s) from an iterable object. Two of the most common cases for this are lists and strings. Indexing results in a copy (unless reassigned)!</center>\n",
    "\n",
    "- iterable[start:stop:skip] (start:inclusive, stop: NOT inclusive)\n",
    "- not every section needs to be specified (can just use start or stop or skip)\n",
    "- sub indexes can be applied (ex. lst[0][0] -> takes the first element of the first element)\n",
    "- Trying to access an index that doesn't exist in the list will result in an error"
   ]
  },
  {
   "cell_type": "code",
   "execution_count": 2,
   "id": "404d705e",
   "metadata": {
    "slideshow": {
     "slide_type": "fragment"
    }
   },
   "outputs": [
    {
     "name": "stdout",
     "output_type": "stream",
     "text": [
      "original list: [2, 3, 4, 5, 6]\n",
      "reversed list: [6, 5, 4, 3, 2]\n",
      "the 2nd to 4th element: [4, 5]\n",
      "every third element from the 1st to 10th element: [3, 6]\n"
     ]
    }
   ],
   "source": [
    "lst = list(range(2,7))\n",
    "print(\"original list: \" + str(lst))\n",
    "print(\"reversed list: \" + str(lst[::-1]))\n",
    "print(\"the 2nd to 4th element: \" + str(lst[2:4]))\n",
    "print(\"every third element from the 1st to 10th element: \" + str(lst[1:10:3]))"
   ]
  },
  {
   "cell_type": "markdown",
   "id": "2687dace",
   "metadata": {
    "slideshow": {
     "slide_type": "slide"
    }
   },
   "source": [
    "<center><h3 style = 'color:blue'> Checkpoint </h3></center>\n",
    "\n",
    "<center> Assume the following code has been ran. What are the results of the following expressions? </center>"
   ]
  },
  {
   "cell_type": "code",
   "execution_count": 19,
   "id": "ea10c6fe",
   "metadata": {
    "slideshow": {
     "slide_type": "fragment"
    }
   },
   "outputs": [],
   "source": [
    "lst = [(1,2), (3,'a'), ([4],5)]"
   ]
  },
  {
   "cell_type": "code",
   "execution_count": null,
   "id": "663fd6ac",
   "metadata": {
    "slideshow": {
     "slide_type": "fragment"
    }
   },
   "outputs": [],
   "source": [
    "x = lst[2][0] # what is x?"
   ]
  },
  {
   "cell_type": "code",
   "execution_count": null,
   "id": "fd421f5c",
   "metadata": {
    "slideshow": {
     "slide_type": "fragment"
    }
   },
   "outputs": [],
   "source": [
    "x+=[6] # what is x now?"
   ]
  },
  {
   "cell_type": "code",
   "execution_count": null,
   "id": "702b39d4",
   "metadata": {
    "slideshow": {
     "slide_type": "fragment"
    }
   },
   "outputs": [],
   "source": [
    "print(lst) # what is the output?"
   ]
  },
  {
   "cell_type": "markdown",
   "id": "69936f0f",
   "metadata": {
    "slideshow": {
     "slide_type": "slide"
    }
   },
   "source": [
    "<center><h3 style = 'color:blue'> Checkpoint Solution </h3></center>"
   ]
  },
  {
   "cell_type": "code",
   "execution_count": 20,
   "id": "101fca3d",
   "metadata": {
    "slideshow": {
     "slide_type": "fragment"
    }
   },
   "outputs": [
    {
     "data": {
      "text/plain": [
       "[4]"
      ]
     },
     "execution_count": 20,
     "metadata": {},
     "output_type": "execute_result"
    }
   ],
   "source": [
    "x = lst[2][0]\n",
    "x"
   ]
  },
  {
   "cell_type": "code",
   "execution_count": 21,
   "id": "9357e132",
   "metadata": {
    "slideshow": {
     "slide_type": "fragment"
    }
   },
   "outputs": [
    {
     "data": {
      "text/plain": [
       "[4, 6]"
      ]
     },
     "execution_count": 21,
     "metadata": {},
     "output_type": "execute_result"
    }
   ],
   "source": [
    "x+=[6]\n",
    "x"
   ]
  },
  {
   "cell_type": "code",
   "execution_count": 22,
   "id": "bd7fab6c",
   "metadata": {
    "slideshow": {
     "slide_type": "fragment"
    }
   },
   "outputs": [
    {
     "name": "stdout",
     "output_type": "stream",
     "text": [
      "[(1, 2), (3, 'a'), ([4, 6], 5)]\n"
     ]
    }
   ],
   "source": [
    "print(lst)"
   ]
  },
  {
   "cell_type": "markdown",
   "id": "085e0275",
   "metadata": {
    "slideshow": {
     "slide_type": "fragment"
    }
   },
   "source": [
    "https://pythontutor.com/visualize.html#code=lst%20%3D%20%5B%281,2%29,%20%283,'a'%29,%20%28%5B4%5D,5%29%5D%0Ax%20%3D%20lst%5B2%5D%5B0%5D%0Ax%2B%3D%5B6%5D%0Aprint%28lst%29&cumulative=false&heapPrimitives=nevernest&mode=edit&origin=opt-frontend.js&py=3&rawInputLstJSON=%5B%5D&textReferences=false"
   ]
  },
  {
   "cell_type": "markdown",
   "id": "5821222b",
   "metadata": {
    "slideshow": {
     "slide_type": "slide"
    }
   },
   "source": [
    "<center><h3> Dictionaries </h3></center>\n",
    "<ul>\n",
    "    <li> Mutable storage of key, value pairs\n",
    "    <li> Can store any data type, multiple at a time\n",
    "    <li> Elements are acccessed via keys (dct[key])\n",
    "    <li> keys must be <b style = 'color:blue'>hashable</b> and <b style = 'color:blue'>unique</b>\n",
    "</ul>\n",
    "\n",
    "<u> methods </u>\n",
    "- accessing keys (as a list) -> dict.keys()\n",
    "- accessing values (as a list) -> dict.values()\n",
    "- accessing key,value pairs (as a list of tuples) -> dict.items()\n",
    "\n",
    "<center>\n",
    "<b style = 'color:blue'>note</b>: hashablility correlates to the stability of the data - essentially, <b>data that <b style = 'color:blue'>can't</b> change is hashable</b> (int, str, tuple, etc.) while <b>data that <b style = 'color:blue'>can</b> change is not hashable (list, dictionary). Basically, it's all about mutability!</b> </center>"
   ]
  },
  {
   "cell_type": "markdown",
   "id": "8c7907c4",
   "metadata": {
    "slideshow": {
     "slide_type": "slide"
    }
   },
   "source": [
    "<center><h3>Dictionary Comprehension</h3></center>\n",
    "\n",
    "<ul>\n",
    "    <li> Fancy, shorthand method of populating dictionaries\n",
    "    <li> Syntax changes depending on use case\n",
    "</ul>\n",
    "\n",
    "<b style='color:blue'>Syntax</b>\n",
    "\n",
    "- basically the same as list comp, but now it expects key:value\n",
    "- can include a list comp!"
   ]
  },
  {
   "cell_type": "markdown",
   "id": "77341c7d",
   "metadata": {
    "slideshow": {
     "slide_type": "slide"
    }
   },
   "source": [
    "<center><h3 style = 'color:blue'> Checkpoint </h3></center>\n",
    "\n",
    "<center> Assume the following code has been ran. What are the results of the following expressions? </center>"
   ]
  },
  {
   "cell_type": "code",
   "execution_count": 23,
   "id": "64e392b3",
   "metadata": {
    "slideshow": {
     "slide_type": "fragment"
    }
   },
   "outputs": [],
   "source": [
    "data = {'a':['b','c','d'], 2:[3,4,10,5], 3:{'a':['b','c','d']}}"
   ]
  },
  {
   "cell_type": "code",
   "execution_count": null,
   "id": "6425af24",
   "metadata": {
    "slideshow": {
     "slide_type": "fragment"
    }
   },
   "outputs": [],
   "source": [
    "data['a'][-1]\n",
    "max(data[2])\n",
    "data[3]['a'][2]"
   ]
  },
  {
   "cell_type": "markdown",
   "id": "bb93f74e",
   "metadata": {
    "slideshow": {
     "slide_type": "slide"
    }
   },
   "source": [
    "<center><h3 style = 'color:blue'> Checkpoint Solution </h3></center>"
   ]
  },
  {
   "cell_type": "code",
   "execution_count": 27,
   "id": "7bfa0818",
   "metadata": {
    "slideshow": {
     "slide_type": "fragment"
    }
   },
   "outputs": [
    {
     "data": {
      "text/plain": [
       "{'a': ['b', 'c', 'd'], 2: [3, 4, 5], 3: {'a': ['b', 'c', 'd']}}"
      ]
     },
     "execution_count": 27,
     "metadata": {},
     "output_type": "execute_result"
    }
   ],
   "source": [
    "data"
   ]
  },
  {
   "cell_type": "code",
   "execution_count": 24,
   "id": "a6c1e117",
   "metadata": {
    "slideshow": {
     "slide_type": "fragment"
    }
   },
   "outputs": [
    {
     "data": {
      "text/plain": [
       "'d'"
      ]
     },
     "execution_count": 24,
     "metadata": {},
     "output_type": "execute_result"
    }
   ],
   "source": [
    "data['a'][-1]"
   ]
  },
  {
   "cell_type": "code",
   "execution_count": 25,
   "id": "00a996ab",
   "metadata": {
    "slideshow": {
     "slide_type": "fragment"
    }
   },
   "outputs": [
    {
     "data": {
      "text/plain": [
       "5"
      ]
     },
     "execution_count": 25,
     "metadata": {},
     "output_type": "execute_result"
    }
   ],
   "source": [
    "max(data[2])"
   ]
  },
  {
   "cell_type": "code",
   "execution_count": 26,
   "id": "2afa1668",
   "metadata": {
    "slideshow": {
     "slide_type": "fragment"
    }
   },
   "outputs": [
    {
     "data": {
      "text/plain": [
       "'d'"
      ]
     },
     "execution_count": 26,
     "metadata": {},
     "output_type": "execute_result"
    }
   ],
   "source": [
    "data[3]['a'][2]"
   ]
  },
  {
   "cell_type": "markdown",
   "id": "cbc187cf",
   "metadata": {
    "slideshow": {
     "slide_type": "slide"
    }
   },
   "source": [
    "<center><h3> Files </h3></center>\n",
    "<ul>\n",
    "    <li> storage for data (csv, txt, json, parquet, etc.)\n",
    "    <li> unique methods to access within code\n",
    "</ul>\n",
    "\n",
    "<u> Access Modes </u>\n",
    "\n",
    "<b> Write </b>: 'w' -> every time the file is opened in write mode, the file is wiped. Calling file.write() will add in your data.\n",
    "\n",
    "<b> Append </b>: 'a' -> file.write() will append your data to what existed in the file beforehand.\n",
    "\n",
    "<b> Read </b>: 'r' -> no writing privilege, can only pull the data from the file with relevant methods."
   ]
  },
  {
   "cell_type": "markdown",
   "id": "a7193a9a",
   "metadata": {
    "slideshow": {
     "slide_type": "slide"
    }
   },
   "source": [
    "<center><h3 style = 'color:blue'> Checkpoint </h3></center>\n",
    "\n",
    "<center> What happens when I try to open a file in my current folder that doesn't exist yet in write mode? </center>"
   ]
  },
  {
   "cell_type": "markdown",
   "id": "bb714c52",
   "metadata": {
    "slideshow": {
     "slide_type": "slide"
    }
   },
   "source": [
    "<center><h3 style = 'color:blue'> Checkpoint Solution</h3></center>\n",
    "\n",
    "<center>Python will automatically write an empty file with the provided filename.</center>"
   ]
  },
  {
   "cell_type": "markdown",
   "id": "1023a709",
   "metadata": {
    "slideshow": {
     "slide_type": "slide"
    }
   },
   "source": [
    "<center><h3>Text Processing</h3></center>\n",
    "\n",
    "<u>reading data</u>:\n",
    "- file.read() -> reads in all the data as a single string\n",
    "- file.readline() -> reads in data line by line (has to be recalled)\n",
    "- file.readlines() -> reads in all the data as a list where each line is another element of the list\n",
    "\n",
    "<center> After reading in the data, you can transform it however you'd like, and then rewrite it back into the file using .write() (if this is relevant).</center>"
   ]
  },
  {
   "cell_type": "markdown",
   "id": "b40a280b",
   "metadata": {
    "slideshow": {
     "slide_type": "slide"
    }
   },
   "source": [
    "<center><h2>practice questions</h2></center>\n",
    "<br>\n",
    "<center>Time to do some practice questions! Take about 10-15 minutes to work on the questions. Feel free to flag me down if you need help/clarification.</center>\n",
    "<br>\n",
    "<center>Make sure to handwrite! This is practice for your own sake. Since this is 2 days before the midterm, try to complete all the questions :)</center>\n",
    "<br>\n",
    "<center> If you finish early, feel free to head over to gradescope and complete the discussion attendance assignment </center>"
   ]
  },
  {
   "cell_type": "code",
   "execution_count": 60,
   "id": "06231304",
   "metadata": {
    "slideshow": {
     "slide_type": "skip"
    }
   },
   "outputs": [],
   "source": [
    "def indexer(item, index, new_val):\n",
    "    \"\"\"\n",
    "    Function to assign a new value to an iterable\n",
    "    item at a specific index.\n",
    "    \n",
    "    args:\n",
    "        item (iterable): iterable object to be manipulated\n",
    "        index (int): int representing index of iterable\n",
    "        new_val (any): item to be assigned to index.\n",
    "    \n",
    "    returns:\n",
    "        None\n",
    "    \"\"\"\n",
    "    item[index] = new_val\n",
    "    return\n",
    "    \n",
    "def string_comparer(lst, comparer):\n",
    "    \"\"\"\n",
    "    Write a function that counts the number of equivalent strings in a list.\n",
    "    Requirement: 1 line list comp\n",
    "    \n",
    "    Args:\n",
    "        lst (list): list of strings to be considered\n",
    "        comparer (str): string to be considered\n",
    "    Returns: \n",
    "        The number of equivalent elements\n",
    "    Throws:\n",
    "        AssertionError: if lst is not a list\n",
    "        AssertionError: if comparer is not a string\n",
    "        AssertionError: if there are non-strings in lst\n",
    "\n",
    "    >>> test(['good', 'luck', 'on', 'mt', 'luck'], 'luck')\n",
    "    2\n",
    "    >>> test([], 'lol')\n",
    "    0\n",
    "    \"\"\"\n",
    "    # Write your implementation here\n",
    "    return\n",
    "\n",
    "def extract_text(sentences):\n",
    "    \"\"\"\n",
    "    Write a function that processes sentences by creating a dictionary that \n",
    "    tracks the index of the sentences in which the word shows up.\n",
    "    \n",
    "    Args:\n",
    "        sentences (list): list of strings to be considered\n",
    "    Returns:\n",
    "        a dictionary that tracks each word and the index\n",
    "        of the sentences it appeared in.\n",
    "    Throws:\n",
    "        AssertionError: if sentences is not a list\n",
    "        AssertionError: if elements of sentences is not a string\n",
    "    \n",
    "        >>> sentences = [\"a quick brown fox jumps\",\n",
    "    \"a brown dog jumps at the fox\", \"dog\"]\n",
    "    >>> extract_text(sentences)\n",
    "    {'a': [0, 1], 'quick': [0], 'brown': [0, 1], 'fox': [0, 1], \\\n",
    "    'jumps': [0, 1], 'dog': [1, 2], 'at': [1], 'the': [1]}    \n",
    "    \"\"\"\n",
    "    # Write your implementation here\n",
    "    return \n",
    "    \n",
    "\n",
    "def process_file(file_path, sub):\n",
    "    \"\"\"\n",
    "    Write a function that processes a file by replacing each instance of a specified string with another\n",
    "    and returns the number of substitutes that occur as well as the corrected file content.\n",
    "    \n",
    "    args:\n",
    "        file_path (str): filepath for relevant file\n",
    "        sub (tup): tuple representing (target, replacement)\n",
    "            target(str): target to be replaced\n",
    "            replacement(str): replacement value\n",
    "    \n",
    "    returns:\n",
    "        the number of substitutes made during processing\n",
    "        \n",
    "    raises:\n",
    "        AssertionError: if file_path is not a string\n",
    "        AssertionError: if sub is not a tuple\n",
    "        AssertionError: if either element of sub is not a str\n",
    "    \n",
    "    >>> process_file('files/review.txt', ('hard', 'easy'))\n",
    "    (\"DSC20 is so easy. It's probably the easyest class I've taken! I have so many easy classes this quarter. \",\\\n",
    "    3)\n",
    "    \"\"\"\n",
    "    # Write your implementation here\n",
    "    return"
   ]
  },
  {
   "cell_type": "markdown",
   "id": "fb1e47a3",
   "metadata": {
    "slideshow": {
     "slide_type": "slide"
    }
   },
   "source": [
    "<center><h2>practice question solutions</h2></center>"
   ]
  },
  {
   "cell_type": "markdown",
   "id": "7c33b962",
   "metadata": {
    "slideshow": {
     "slide_type": "slide"
    }
   },
   "source": [
    "<center>Given the following function and subsequent statement, what is the result? Why? </center>"
   ]
  },
  {
   "cell_type": "code",
   "execution_count": 48,
   "id": "a87ec289",
   "metadata": {
    "slideshow": {
     "slide_type": "fragment"
    }
   },
   "outputs": [],
   "source": [
    "def indexer(item, index, new_val):\n",
    "    \"\"\"\n",
    "    Function to assign a new value to an iterable\n",
    "    item at a specific index.\n",
    "    \"\"\"\n",
    "    item[index] = new_val\n",
    "    return"
   ]
  },
  {
   "cell_type": "code",
   "execution_count": 49,
   "id": "20e18566",
   "metadata": {
    "slideshow": {
     "slide_type": "fragment"
    }
   },
   "outputs": [
    {
     "ename": "TypeError",
     "evalue": "'str' object does not support item assignment",
     "output_type": "error",
     "traceback": [
      "\u001b[0;31m---------------------------------------------------------------------------\u001b[0m",
      "\u001b[0;31mTypeError\u001b[0m                                 Traceback (most recent call last)",
      "Cell \u001b[0;32mIn[49], line 1\u001b[0m\n\u001b[0;32m----> 1\u001b[0m \u001b[43mindexer\u001b[49m\u001b[43m(\u001b[49m\u001b[38;5;124;43m'\u001b[39;49m\u001b[38;5;124;43mstar wars\u001b[39;49m\u001b[38;5;124;43m'\u001b[39;49m\u001b[43m,\u001b[49m\u001b[43m \u001b[49m\u001b[38;5;241;43m2\u001b[39;49m\u001b[43m,\u001b[49m\u001b[43m \u001b[49m\u001b[38;5;124;43m'\u001b[39;49m\u001b[38;5;124;43m@\u001b[39;49m\u001b[38;5;124;43m'\u001b[39;49m\u001b[43m)\u001b[49m\n",
      "Cell \u001b[0;32mIn[48], line 6\u001b[0m, in \u001b[0;36mindexer\u001b[0;34m(item, index, new_val)\u001b[0m\n\u001b[1;32m      1\u001b[0m \u001b[38;5;28;01mdef\u001b[39;00m \u001b[38;5;21mindexer\u001b[39m(item, index, new_val):\n\u001b[1;32m      2\u001b[0m \u001b[38;5;250m    \u001b[39m\u001b[38;5;124;03m\"\"\"\u001b[39;00m\n\u001b[1;32m      3\u001b[0m \u001b[38;5;124;03m    Function to assign a new value to an iterable\u001b[39;00m\n\u001b[1;32m      4\u001b[0m \u001b[38;5;124;03m    item at a specific index.\u001b[39;00m\n\u001b[1;32m      5\u001b[0m \u001b[38;5;124;03m    \"\"\"\u001b[39;00m\n\u001b[0;32m----> 6\u001b[0m     \u001b[43mitem\u001b[49m\u001b[43m[\u001b[49m\u001b[43mindex\u001b[49m\u001b[43m]\u001b[49m \u001b[38;5;241m=\u001b[39m new_val\n\u001b[1;32m      7\u001b[0m     \u001b[38;5;28;01mreturn\u001b[39;00m\n",
      "\u001b[0;31mTypeError\u001b[0m: 'str' object does not support item assignment"
     ]
    }
   ],
   "source": [
    "indexer('star wars', 2, '@')"
   ]
  },
  {
   "cell_type": "code",
   "execution_count": 33,
   "id": "0b587c05",
   "metadata": {
    "slideshow": {
     "slide_type": "slide"
    }
   },
   "outputs": [
    {
     "name": "stdout",
     "output_type": "stream",
     "text": [
      "{'a': [0, 1], 'quick': [0], 'brown': [0, 1], 'fox': [0, 1], 'jumps': [0, 1], 'dog': [1, 2], 'at': [1], 'the': [1]}\n"
     ]
    }
   ],
   "source": [
    "def extract_text(sentences):\n",
    "    \"\"\"\n",
    "    Write a function that processes sentences by creating\n",
    "    a dictionary that tracks the index of the sentences \n",
    "    in which the word shows up.\n",
    "    \n",
    "    >>> sentences = [\"a quick brown fox jumps\",\n",
    "    \"a brown dog jumps at the fox\", \"dog\"]\n",
    "    >>> extract_text(sentences)\n",
    "    {'a': [0, 1], 'quick': [0], 'brown': [0, 1], 'fox': [0, 1], \\\n",
    "    'jumps': [0, 1], 'dog': [1, 2], 'at': [1], 'the': [1]}\n",
    "    \"\"\"\n",
    "    assert isinstance(sentences, list)\n",
    "    assert all([isinstance(x, str) for x in sentences])\n",
    "    output = {}\n",
    "    for idx in range(len(sentences)):\n",
    "        for word in sentences[idx].split():\n",
    "            if word in output:\n",
    "                output[word].append(idx)\n",
    "            else:\n",
    "                output[word] = [idx]\n",
    "    return output\n",
    "    \n",
    "sentences = [\"a quick brown fox jumps\",\n",
    "    \"a brown dog jumps at the fox\", \"dog\"]\n",
    "print(extract_text(sentences))"
   ]
  },
  {
   "cell_type": "code",
   "execution_count": 4,
   "id": "49f561f7",
   "metadata": {
    "slideshow": {
     "slide_type": "slide"
    }
   },
   "outputs": [
    {
     "name": "stdout",
     "output_type": "stream",
     "text": [
      "2\n",
      "0\n"
     ]
    }
   ],
   "source": [
    "def string_comparer(lst, comparer):\n",
    "    \"\"\"\n",
    "    Write a function that counts the number of equivalent \n",
    "    strings in a list.\n",
    "    Requirement: 1 line list comp\n",
    "\n",
    "    >>> test(['good', 'luck', 'on', 'mt', 'luck'], 'luck')\n",
    "    2\n",
    "    >>> test([], 'lol')\n",
    "    0\n",
    "    \"\"\"\n",
    "    assert isinstance(lst, list)\n",
    "    assert isinstance(comparer, str)\n",
    "    assert all([isinstance(x,str) for x in lst]) \n",
    "    \n",
    "    return len([item for item in lst if item==comparer])\n",
    "print(string_comparer(['good','on','mt','luck','luck'],'luck'))\n",
    "print(string_comparer([],'lol'))"
   ]
  },
  {
   "cell_type": "code",
   "execution_count": 64,
   "id": "65bb1f93",
   "metadata": {
    "slideshow": {
     "slide_type": "slide"
    }
   },
   "outputs": [
    {
     "data": {
      "text/plain": [
       "(\"DSC20 is so easy. It's probably the easyest class I've taken! I have so many easy classes this quarter.\",\n",
       " 3)"
      ]
     },
     "execution_count": 64,
     "metadata": {},
     "output_type": "execute_result"
    }
   ],
   "source": [
    "def process_file(file_path, sub):\n",
    "    \"\"\"\n",
    "    Write a function that processes a file by replacing\n",
    "    each instance of a specified string with another\n",
    "    and returns the number of substitutes that occur\n",
    "    as well as the corrected file content.\n",
    "    \n",
    "    >>> process_file('files/review.txt', ('hard', 'easy'))\n",
    "    (\"DSC20 is so easy. It's probably the easyest class \\\n",
    "    I've taken! I have so many easy classes this quarter. \",\\\n",
    "    3)\n",
    "    \"\"\"\n",
    "    output = ''\n",
    "    counter = 0\n",
    "    with open(file_path, 'r') as fr:\n",
    "        data = fr.read()\n",
    "        for word in data.split():\n",
    "            if sub[0] in word:\n",
    "                counter+=1\n",
    "                word = word.replace(sub[0], sub[1])\n",
    "            output += word + ' '\n",
    "    return output.strip(), counter\n",
    "\n",
    "process_file('files/review.txt', ('hard', 'easy'))"
   ]
  },
  {
   "cell_type": "markdown",
   "id": "4cfad092",
   "metadata": {
    "slideshow": {
     "slide_type": "slide"
    }
   },
   "source": [
    "<center><h2>Discussion Attendance</h2></center>\n",
    "<center>Take 2 minutes and head to gradescope to complete discussion attendance. The assignment is called Discussion 4 Participation.</center>"
   ]
  },
  {
   "cell_type": "markdown",
   "id": "49030538",
   "metadata": {
    "slideshow": {
     "slide_type": "slide"
    }
   },
   "source": [
    "<center> <h1>Thanks for coming!</h1></center>"
   ]
  },
  {
   "cell_type": "code",
   "execution_count": null,
   "id": "1e60d5be",
   "metadata": {
    "slideshow": {
     "slide_type": "skip"
    }
   },
   "outputs": [],
   "source": []
  }
 ],
 "metadata": {
  "celltoolbar": "Slideshow",
  "kernelspec": {
   "display_name": "Python 3",
   "language": "python",
   "name": "python3"
  },
  "language_info": {
   "codemirror_mode": {
    "name": "ipython",
    "version": 3
   },
   "file_extension": ".py",
   "mimetype": "text/x-python",
   "name": "python",
   "nbconvert_exporter": "python",
   "pygments_lexer": "ipython3",
   "version": "3.9.18"
  },
  "rise": {
   "enable_chalkboard": true
  }
 },
 "nbformat": 4,
 "nbformat_minor": 5
}
