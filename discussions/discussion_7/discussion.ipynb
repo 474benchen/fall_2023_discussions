{
 "cells": [
  {
   "cell_type": "markdown",
   "id": "9ac70a89",
   "metadata": {
    "slideshow": {
     "slide_type": "skip"
    }
   },
   "source": [
    "**note**: for anyone trying to view this as a slideshow, run 'pip install rise', reload your notebook, then click on the button that looks like a bar graph to the right of the command palette at the top."
   ]
  },
  {
   "cell_type": "markdown",
   "id": "0aaa7f3e",
   "metadata": {
    "slideshow": {
     "slide_type": "slide"
    }
   },
   "source": [
    "<center><h1>Discussion 7</h1></center>\n",
    "<center><h2>DSC 20, Fall 2023</h2><center>"
   ]
  },
  {
   "cell_type": "markdown",
   "id": "172f9b03",
   "metadata": {
    "slideshow": {
     "slide_type": "slide"
    }
   },
   "source": [
    "<center><h3>Meme of the Week</h3></center>\n",
    "<br>\n",
    "\n",
    "<center><img src='imgs/meme.png' width = 550></center>"
   ]
  },
  {
   "cell_type": "markdown",
   "id": "c8f91290",
   "metadata": {
    "slideshow": {
     "slide_type": "slide"
    }
   },
   "source": [
    "<center><h3>Agenda</h3></center>\n",
    "\n",
    "- Classes\n",
    "- Lab Review\n",
    "- Side topic: f strings\n",
    "- SIde topic: shallow vs deep copies"
   ]
  },
  {
   "cell_type": "markdown",
   "id": "40580c88",
   "metadata": {
    "slideshow": {
     "slide_type": "slide"
    }
   },
   "source": [
    "<center><h3>Functions vs Methods</h3></center>\n",
    "\n",
    "- Functions are independent code that ingest an object directly\n",
    "- Methods are code that operate attached to a class\n",
    "\n",
    "<center> (this is just semantic, I like separating the two) </center>"
   ]
  },
  {
   "cell_type": "code",
   "execution_count": 45,
   "id": "b8dc62cd",
   "metadata": {
    "slideshow": {
     "slide_type": "fragment"
    }
   },
   "outputs": [
    {
     "data": {
      "text/plain": [
       "['1', '2', '3']"
      ]
     },
     "execution_count": 45,
     "metadata": {},
     "output_type": "execute_result"
    }
   ],
   "source": [
    "sorted('321') # function"
   ]
  },
  {
   "cell_type": "code",
   "execution_count": 47,
   "id": "270d7c3d",
   "metadata": {
    "slideshow": {
     "slide_type": "fragment"
    }
   },
   "outputs": [
    {
     "data": {
      "text/plain": [
       "['1', '2', '3']"
      ]
     },
     "execution_count": 47,
     "metadata": {},
     "output_type": "execute_result"
    }
   ],
   "source": [
    "temp = ['3','2','1']\n",
    "temp.sort()\n",
    "temp"
   ]
  },
  {
   "cell_type": "markdown",
   "id": "242665e0",
   "metadata": {
    "slideshow": {
     "slide_type": "slide"
    }
   },
   "source": [
    "<center><h3> Classes </h3></center>\n",
    "\n",
    "<center>Classes aggregate code together into a functional body. A lot of effective python code is written as classes (every time you install a new package, it's basically written as a lot of different classes). For example, recall the pandas dataframe. If you look at the source code for <a href='https://github.com/pandas-dev/pandas/blob/main/pandas/core/frame.py'>pandas</a>, you'll see that it's a very complicated class definition.</center>\n",
    "\n",
    "<center>Classes all generally have (at the minimum) a constructor (__init__) function and  other object related methods that are used.</center>"
   ]
  },
  {
   "cell_type": "code",
   "execution_count": 28,
   "id": "df85e9b2",
   "metadata": {
    "slideshow": {
     "slide_type": "fragment"
    }
   },
   "outputs": [],
   "source": [
    "class phone:\n",
    "    \"\"\"\n",
    "    Class representation of a regular phone.\n",
    "    \"\"\"\n",
    "    pass"
   ]
  },
  {
   "cell_type": "markdown",
   "id": "dae32a26",
   "metadata": {
    "slideshow": {
     "slide_type": "slide"
    }
   },
   "source": [
    "<center><h3> Constructors </h3></center>\n",
    "\n",
    "- denoted by \\_\\_init\\_\\_ (special function)\n",
    "- should ingest self as the first parameter (ALWAYS)\n",
    "- populates instance with attributes"
   ]
  },
  {
   "cell_type": "markdown",
   "id": "a64c283c",
   "metadata": {
    "slideshow": {
     "slide_type": "fragment"
    }
   },
   "source": [
    "<center><h3> Instances </h3></center>\n",
    "\n",
    "<center> When an object is created from a class, each individual unit is referred to as an instance.</center>\n",
    "\n",
    "<center> Think of it as \"one of x\" (for example, an instance of the iPhone class is \"1/my iPhone\")</center>"
   ]
  },
  {
   "cell_type": "markdown",
   "id": "e64b6cd2",
   "metadata": {
    "slideshow": {
     "slide_type": "slide"
    }
   },
   "source": [
    "<center><h3> Working with self </h3></center>\n",
    "\n",
    "- Think of classes as a blueprint and everytime you create an instance of one, you've produced a \"physical\" manifestation. \n",
    "- We use the self keyword to interact with THIS specific instance of the class. \n",
    "- Try to think of 'self' as referencing a <b>specific, singular</b> instance of the class. Every method that works with a specific instance's values must be passed in self as an argument.</center>"
   ]
  },
  {
   "cell_type": "code",
   "execution_count": 8,
   "id": "6834cabb",
   "metadata": {
    "slideshow": {
     "slide_type": "slide"
    }
   },
   "outputs": [],
   "source": [
    "class phone:\n",
    "    \"\"\"\n",
    "    Class representation of a regular phone.\n",
    "    \"\"\"\n",
    "    def __init__(self, maker, version, owner):\n",
    "        self.maker = maker\n",
    "        self.version = version\n",
    "        self.owner = owner\n",
    "        \n",
    "        self.apps = []\n",
    "        self.free_memory = 800"
   ]
  },
  {
   "cell_type": "code",
   "execution_count": 12,
   "id": "7da926e4",
   "metadata": {
    "slideshow": {
     "slide_type": "fragment"
    }
   },
   "outputs": [
    {
     "name": "stdout",
     "output_type": "stream",
     "text": [
      "Apple\n",
      "Nikki\n",
      "[]\n",
      "\n",
      "Google\n",
      "Sailesh\n",
      "[]\n"
     ]
    }
   ],
   "source": [
    "iphone = phone('Apple', 'XR', 'Nikki')\n",
    "pixel = phone('Google', 'P3', 'Sailesh')\n",
    "print(iphone.maker)\n",
    "print(iphone.owner)\n",
    "print(iphone.apps)\n",
    "print()\n",
    "print(pixel.maker)\n",
    "print(pixel.owner)\n",
    "print(pixel.apps)"
   ]
  },
  {
   "cell_type": "markdown",
   "id": "3134a4bc",
   "metadata": {
    "slideshow": {
     "slide_type": "slide"
    }
   },
   "source": [
    "<center><h3> Instance vs Class variables </h3></center>\n",
    "\n",
    "<center>Instance variables are attached to instances of a class by keyword self (usually done in the constructor). Class variables are variables attached to the class itself.</center>"
   ]
  },
  {
   "cell_type": "code",
   "execution_count": 4,
   "id": "49782c0f",
   "metadata": {
    "slideshow": {
     "slide_type": "slide"
    }
   },
   "outputs": [],
   "source": [
    "class phone:\n",
    "    \"\"\"\n",
    "    Class representation of a regular phone.\n",
    "    \"\"\"\n",
    "    id_num = 1 # class variable\n",
    "    o_type = 'phone' # class variable\n",
    "    def __init__(self, maker, version, owner):\n",
    "        self.maker = maker\n",
    "        self.version = version\n",
    "        self.owner = owner\n",
    "        self.id = phone.id_num\n",
    "        phone.id_num+=1\n",
    "        \n",
    "        self.apps = []\n",
    "        self.free_memory = 800"
   ]
  },
  {
   "cell_type": "code",
   "execution_count": 5,
   "id": "4867502a",
   "metadata": {
    "slideshow": {
     "slide_type": "fragment"
    }
   },
   "outputs": [
    {
     "name": "stdout",
     "output_type": "stream",
     "text": [
      "1\n",
      "phone\n",
      "\n",
      "2\n",
      "phone\n",
      "3\n"
     ]
    }
   ],
   "source": [
    "iphone = phone('Apple', 'XR', 'Nikki')\n",
    "pixel = phone('Google', 'P3', 'Sailesh')\n",
    "print(iphone.id)\n",
    "print(iphone.o_type)\n",
    "print()\n",
    "print(pixel.id)\n",
    "print(pixel.o_type)\n",
    "\n",
    "print(phone.id_num)"
   ]
  },
  {
   "cell_type": "markdown",
   "id": "8c819b79",
   "metadata": {
    "slideshow": {
     "slide_type": "slide"
    }
   },
   "source": [
    "<center><h3> (Class) Methods </h3></center>"
   ]
  },
  {
   "cell_type": "code",
   "execution_count": 13,
   "id": "780fa241",
   "metadata": {
    "slideshow": {
     "slide_type": "fragment"
    }
   },
   "outputs": [],
   "source": [
    "class phone:\n",
    "    \"\"\"\n",
    "    Class representation of a regular phone.\n",
    "    \"\"\"\n",
    "    id_num = 1\n",
    "    def __init__(self, maker, version, owner):\n",
    "        self.maker = maker\n",
    "        self.version = version\n",
    "        self.owner = owner\n",
    "        self.id = phone.id_num\n",
    "        phone.id_num+=1\n",
    "        \n",
    "        self.apps = []\n",
    "        self.free_memory = 800\n",
    "    \n",
    "    def install_app(self, app, memory):\n",
    "        if self.free_memory - memory > 0:\n",
    "            self.apps.append(app)\n",
    "            self.free_memory -= memory\n",
    "            return True\n",
    "        return False"
   ]
  },
  {
   "cell_type": "code",
   "execution_count": 14,
   "id": "902c0310",
   "metadata": {
    "slideshow": {
     "slide_type": "slide"
    }
   },
   "outputs": [
    {
     "name": "stdout",
     "output_type": "stream",
     "text": [
      "True\n",
      "False\n",
      "['duolingo']\n"
     ]
    }
   ],
   "source": [
    "iphone = phone('Apple', 'XR', 'Nikki')\n",
    "print(iphone.install_app('duolingo', 600))\n",
    "print(iphone.install_app('genshin impact', 1000))\n",
    "print(iphone.apps)"
   ]
  },
  {
   "cell_type": "markdown",
   "id": "66f918ea",
   "metadata": {
    "slideshow": {
     "slide_type": "slide"
    }
   },
   "source": [
    "<center><h3>Lab Review</h3></center>"
   ]
  },
  {
   "cell_type": "markdown",
   "id": "9d24f4a2",
   "metadata": {
    "slideshow": {
     "slide_type": "slide"
    }
   },
   "source": [
    "<center><h3>Question 1</h3></center>\n",
    "\n",
    "def q2_01(n):\n",
    "\n",
    "    for i in range(abs(20-n) * n):\n",
    "        print(i)\n",
    "\n",
    "\n",
    "<center>Solution: $O(n^2)$</center>\n",
    "\n",
    "<center>abs(20-n) -> n - 20 -> O$(n*(n-20))$ = O(n^2)</center>"
   ]
  },
  {
   "cell_type": "markdown",
   "id": "cd7ed5ab",
   "metadata": {
    "slideshow": {
     "slide_type": "slide"
    }
   },
   "source": [
    "<center><h3>Question 2</h3></center>\n",
    "\n",
    "def q2_02(n):\n",
    "\n",
    "    dictionary = {}\n",
    "    for num in range(0, 100):\n",
    "        if num < n:\n",
    "            dictionary[num] = n - num\n",
    "\n",
    "\n",
    "<center>Solution: $O(1)$</center>\n",
    "\n",
    "<center> No matter the size of n, the number of iterations is always the same </center>"
   ]
  },
  {
   "cell_type": "markdown",
   "id": "992728a6",
   "metadata": {
    "slideshow": {
     "slide_type": "slide"
    }
   },
   "source": [
    "<center><h3>Question 3</h3></center>\n",
    "\n",
    "def q2_03(n):\n",
    "\n",
    "    t = 1\n",
    "    for i in range(n*n):\n",
    "        for j in range(i):\n",
    "            t = t * 2\n",
    "\n",
    "\n",
    "\n",
    "<center>Solution: $O(n^3)$</center>\n",
    "\n",
    "<center> equivalent to $\\sum_{i=1}^{n} i^2 = \\frac{n(2n+1)(n+1)}{6} = n^3$"
   ]
  },
  {
   "cell_type": "markdown",
   "id": "573fa808",
   "metadata": {
    "slideshow": {
     "slide_type": "slide"
    }
   },
   "source": [
    "<center><h3>Question 4</h3></center>\n",
    "\n",
    "def q2_04(n):\n",
    "\n",
    "    result = 10\n",
    "    for i in range(0, 300 * n, 3):\n",
    "        result = result + i\n",
    "    for k in range(n):\n",
    "        result = result + (2 ** n)\n",
    "    for j in range(n * n * n * n):\n",
    "        result = result + 5*j\n",
    "    \n",
    "    return result\n",
    "\n",
    "\n",
    "<center>Solution: $O(n^4)$</center>\n",
    "\n",
    "<center> Largest term comes from the final for loop, which is n times itself 4 times </center>"
   ]
  },
  {
   "cell_type": "markdown",
   "id": "d2bbf95d",
   "metadata": {
    "slideshow": {
     "slide_type": "slide"
    }
   },
   "source": [
    "<center><h3>Question 5</h3></center>\n",
    "\n",
    "def q2_05(n):\n",
    "\n",
    "    i = 1\n",
    "    while i < n:\n",
    "        i = i * 5\n",
    "        j = n\n",
    "        while j > 0:\n",
    "            j = j // 2\n",
    "\n",
    "\n",
    "<center>Solution: $O((log(n))^2)$</center>\n",
    "\n",
    "<center> nested loops compound their complexity - we have a log complexity loop inside another one, meaning that we get $log(n)*log(n)$ </center>"
   ]
  },
  {
   "cell_type": "markdown",
   "id": "339f35f6",
   "metadata": {
    "slideshow": {
     "slide_type": "slide"
    }
   },
   "source": [
    "<center><h3>Question 6</h3></center>\n",
    "\n",
    "def q2_06(n):\n",
    "\n",
    "    i = n\n",
    "    for j in range(2 * n):\n",
    "        while i > 1:\n",
    "            i = i // 2\n",
    "        i = n\n",
    "\n",
    "\n",
    "<center>Solution: $O(nlog(n))$</center>\n",
    "\n",
    "<center> nested loops compound their complexity - we have a log complexity loop inside a linear complexity loop, meaning we get $n *log(n)$</center>"
   ]
  },
  {
   "cell_type": "markdown",
   "id": "30521ea7",
   "metadata": {
    "slideshow": {
     "slide_type": "slide"
    }
   },
   "source": [
    "<center><h3>Question 7</h3></center>\n",
    "\n",
    "def q2_07(lst):\n",
    "\n",
    "    for i in range(len(lst)):\n",
    "        for j in range(len(lst)*10+1):\n",
    "            if i == 1:\n",
    "                return True\n",
    "\n",
    "\n",
    "<center>Solution: $O(n)$</center>\n",
    "\n",
    "<center> the outer loop can only run twice, for value $i={0,1}$. The inner loop has a time complexity of O(n) and on the second iteration of the outer loop, i=1, which means that when the inner loop tries to run again, it will short-circuit due to the return and condition </center>"
   ]
  },
  {
   "cell_type": "markdown",
   "id": "06f731f6",
   "metadata": {
    "slideshow": {
     "slide_type": "slide"
    }
   },
   "source": [
    "<center><h3>Question 8</h3></center>\n",
    "\n",
    "def q2_08(lst):\n",
    "\n",
    "    for item1 in lst:\n",
    "        for item2 in lst[::-1]:\n",
    "            for i in range(len(lst)+10, len(lst)-10, -1):\n",
    "                print(str(item1) + str(item2) + str(i))\n",
    "\n",
    "<center>Solution: $O(n^2)$</center>\n",
    "\n",
    "<center> inner most for loop is O(1), so we just have a nested for loop </center>"
   ]
  },
  {
   "cell_type": "markdown",
   "id": "02baab25",
   "metadata": {
    "slideshow": {
     "slide_type": "slide"
    }
   },
   "source": [
    "<center><h3>Question 9</h3></center>\n",
    "\n",
    "def q2_09(n):\n",
    "\n",
    "    total = 0\n",
    "    for j in range(n):\n",
    "        if j**2 > n:\n",
    "            break\n",
    "        else:\n",
    "            total += j\n",
    "    return total\n",
    "\n",
    "<center>Solution: $O(\\sqrt{n})$</center>\n",
    "<center> the break condition is when $j^2$ is greater than n. This can be rephrased as the loop breaks when $j=\\sqrt{n+1}$, meaning that the loop will run for O($\\sqrt{n}$) times.</center>"
   ]
  },
  {
   "cell_type": "markdown",
   "id": "c7d08587",
   "metadata": {
    "slideshow": {
     "slide_type": "slide"
    }
   },
   "source": [
    "<center><h3>Question 10</h3></center>\n",
    "\n",
    "def q2_10(n):\n",
    "\n",
    "    def q2_10_helper(n):\n",
    "        return sum([1 for i in range(n) if i%2 == 0])\n",
    "\n",
    "    total = 0\n",
    "    for j in range(n):\n",
    "        total = total + q2_10_helper(n)\n",
    "    return total\n",
    "\n",
    "<center>Solution: $O(n^2)$</center>\n",
    "\n",
    "<center> the helper function has a linear time complexity - it takes linear time for the list comp and another linear time to calculate the sum. The for loop that calls the helper function is also linear complexity, resulting in a compounding time complexity again. </center>"
   ]
  },
  {
   "cell_type": "markdown",
   "id": "ab26bccd",
   "metadata": {
    "slideshow": {
     "slide_type": "slide"
    }
   },
   "source": [
    "<center><h3> f-strings </h3></center>\n",
    "\n",
    "- strings with embedded expressions\n",
    "- python can evaluate snippets as subsections of strings\n",
    "- must be denoted be f and {}'s"
   ]
  },
  {
   "cell_type": "code",
   "execution_count": 27,
   "id": "bd13eb7e",
   "metadata": {
    "slideshow": {
     "slide_type": "fragment"
    }
   },
   "outputs": [
    {
     "name": "stdout",
     "output_type": "stream",
     "text": [
      "the program started at 30 seconds and completed at 100 seconds\n",
      "the total runtime was 70 seconds\n"
     ]
    }
   ],
   "source": [
    "start = 30\n",
    "end = 100\n",
    "\n",
    "print(f'the program started at {start} seconds and \\\n",
    "completed at {end} seconds')\n",
    "print(f'the total runtime was {end-start} seconds')"
   ]
  },
  {
   "cell_type": "markdown",
   "id": "7eb21ad9",
   "metadata": {
    "slideshow": {
     "slide_type": "slide"
    }
   },
   "source": [
    "<center><h3> alternatives </h3></center>"
   ]
  },
  {
   "cell_type": "code",
   "execution_count": 51,
   "id": "a4d9fe61",
   "metadata": {
    "slideshow": {
     "slide_type": "fragment"
    }
   },
   "outputs": [
    {
     "name": "stdout",
     "output_type": "stream",
     "text": [
      "the program started at 30 seconds and completed at 100 seconds\n",
      "the total runtime was 70 seconds\n"
     ]
    }
   ],
   "source": [
    "print('the program started at {} seconds and \\\n",
    "completed at {} seconds'.format(start,end))\n",
    "print('the total runtime was {} seconds'.format(end-start))"
   ]
  },
  {
   "cell_type": "code",
   "execution_count": 55,
   "id": "21812c7c",
   "metadata": {
    "slideshow": {
     "slide_type": "fragment"
    }
   },
   "outputs": [
    {
     "name": "stdout",
     "output_type": "stream",
     "text": [
      "the program started at 30 seconds and completed at 100 seconds\n",
      "the total runtime was 70 seconds\n"
     ]
    }
   ],
   "source": [
    "print('the program started at %s seconds and \\\n",
    "completed at %s seconds' %(start,end))\n",
    "print('the total runtime was %s seconds' %(end-start))"
   ]
  },
  {
   "cell_type": "markdown",
   "id": "9042531c",
   "metadata": {
    "slideshow": {
     "slide_type": "slide"
    }
   },
   "source": [
    "<center><h3> Deep vs Shallow Copies </h3></center>\n",
    "\n",
    "<center>In short, shallow copies copy the <b style='color:blue'>reference</b> while deep copies copy the <b style='color:blue'>object</b>. Changes made to a shallow copy are reflected in the original object because the reference is maintained. Changes made to a deep copy are <b>not reflected</b> in the original object because it's a completely different object with a difference reference.</center>\n",
    "\n",
    "<center><a href='https://pythontutor.com/visualize.html#code=even_nums%20%3D%20%5B2,4,6,8,10%5D%0Aodd_nums%20%3D%20%5B1,3,5,7,9%5D%0A%0Ashallow%20%3D%20even_nums%0Adeep%20%3D%20list%28odd_nums%29%0A%0Ashallow.append%280%29%0Adeep.append%280%29%0A%0Aprint%28%22even_nums%3A%20%25s%22%20%25even_nums%29%0Aprint%28%22shallow%3A%20%25s%22%20%25shallow%29%0Aprint%28%22odd_nums%3A%20%25s%22%20%25odd_nums%29%0Aprint%28%22deep%20%25s%22%20%25deep%29&cumulative=false&heapPrimitives=nevernest&mode=edit&origin=opt-frontend.js&py=3&rawInputLstJSON=%5B%5D&textReferences=false'>pythontutor</a></center>"
   ]
  },
  {
   "cell_type": "code",
   "execution_count": 3,
   "id": "adf58042",
   "metadata": {
    "slideshow": {
     "slide_type": "fragment"
    }
   },
   "outputs": [
    {
     "name": "stdout",
     "output_type": "stream",
     "text": [
      "even_nums: [2, 4, 6, 8, 10, 0]\n",
      "shallow: [2, 4, 6, 8, 10, 0]\n",
      "odd_nums: [1, 3, 5, 7, 9]\n",
      "deep [1, 3, 5, 7, 9, 0]\n"
     ]
    }
   ],
   "source": [
    "even_nums = [2,4,6,8,10]\n",
    "odd_nums = [1,3,5,7,9]\n",
    "\n",
    "shallow = even_nums\n",
    "deep = list(odd_nums)\n",
    "\n",
    "shallow.append(0)\n",
    "deep.append(0)\n",
    "\n",
    "print(\"even_nums: %s\" %even_nums)\n",
    "print(\"shallow: %s\" %shallow)\n",
    "print(\"odd_nums: %s\" %odd_nums)\n",
    "print(\"deep %s\" %deep)"
   ]
  },
  {
   "cell_type": "markdown",
   "id": "edf79ed4",
   "metadata": {
    "slideshow": {
     "slide_type": "slide"
    }
   },
   "source": [
    "<center> <h4> This concept extends to all objects, not just lists </h4></center>"
   ]
  },
  {
   "cell_type": "code",
   "execution_count": 4,
   "id": "ea825806",
   "metadata": {
    "slideshow": {
     "slide_type": "fragment"
    }
   },
   "outputs": [],
   "source": [
    "class counter:\n",
    "    def __init__(self, curr_val = 0):\n",
    "        self.curr_val = curr_val\n",
    "    def get_counter(self):\n",
    "        return self.curr_val\n",
    "    def increment(self, val=1):\n",
    "        self.curr_val += val\n",
    "    def decrement(self, val=1):\n",
    "        self.curr_val -= val"
   ]
  },
  {
   "cell_type": "code",
   "execution_count": 5,
   "id": "04c35b0b",
   "metadata": {
    "slideshow": {
     "slide_type": "fragment"
    }
   },
   "outputs": [
    {
     "name": "stdout",
     "output_type": "stream",
     "text": [
      "c1's value: -2\n",
      "shallow_c1's value: -2\n",
      "deep_c1's value: 2\n"
     ]
    }
   ],
   "source": [
    "c1 = counter()\n",
    "\n",
    "shallow_c1 = c1\n",
    "\n",
    "deep_c1 = counter(c1.get_counter())\n",
    "\n",
    "shallow_c1.decrement(2)\n",
    "deep_c1.increment(2)\n",
    "print(\"c1's value: %s\" %c1.get_counter())\n",
    "print(\"shallow_c1's value: %s\" %shallow_c1.get_counter())\n",
    "print(\"deep_c1's value: %s\" %deep_c1.get_counter())"
   ]
  },
  {
   "cell_type": "markdown",
   "id": "6c75fcea",
   "metadata": {
    "slideshow": {
     "slide_type": "slide"
    }
   },
   "source": [
    "<center><h2>practice questions</h2></center>\n",
    "\n",
    "<center>This week's questions will be a quiz on gradescope; note that this is purely for you to practice, your discussion participation grade is not contingent on your accuracy.</center>"
   ]
  },
  {
   "cell_type": "markdown",
   "id": "492f7fdf",
   "metadata": {
    "slideshow": {
     "slide_type": "slide"
    }
   },
   "source": [
    "<center><h2>practice question Solutions</h2></center>"
   ]
  },
  {
   "cell_type": "code",
   "execution_count": 22,
   "id": "ac1e7c91",
   "metadata": {
    "slideshow": {
     "slide_type": "slide"
    }
   },
   "outputs": [
    {
     "name": "stdout",
     "output_type": "stream",
     "text": [
      "0\n",
      "1\n",
      "2\n"
     ]
    }
   ],
   "source": [
    "class meal:\n",
    "    meal_id = 0\n",
    "    def __init__(self, food_groups, calories, meal_type):\n",
    "        self.food_groups = food_groups\n",
    "        self.calories = calories\n",
    "        self.meal_type = meal_type\n",
    "        \n",
    "        self.meal_id = meal.meal_id\n",
    "        meal.meal_id += 1\n",
    "\n",
    "    def add_food(self, food_group, calories):\n",
    "        self.food_groups.append(food_group)\n",
    "        self.calories+=calories\n",
    "\n",
    "m1 = meal(['a'], 100, 'lunch')\n",
    "m2 = meal(['b'], 700, 'dinner')\n",
    "print(m1.meal_id)\n",
    "print(m2.meal_id)\n",
    "print(meal.meal_id)"
   ]
  },
  {
   "cell_type": "code",
   "execution_count": 26,
   "id": "0ad65f3e",
   "metadata": {
    "slideshow": {
     "slide_type": "slide"
    }
   },
   "outputs": [
    {
     "name": "stdout",
     "output_type": "stream",
     "text": [
      "This is a simple class.\n"
     ]
    }
   ],
   "source": [
    "class SimpleClass:\n",
    "    def some_method(self):\n",
    "        print(\"This is a simple class.\")\n",
    "\n",
    "obj = SimpleClass()\n",
    "obj.some_method()"
   ]
  },
  {
   "cell_type": "code",
   "execution_count": 2,
   "id": "921e01d4",
   "metadata": {
    "slideshow": {
     "slide_type": "slide"
    }
   },
   "outputs": [
    {
     "name": "stdout",
     "output_type": "stream",
     "text": [
      "the starting list is [1, 2, 3]. x = [1, 2, 3, 4], y = [1, 2, 3, 4], and z = [1, 2, 3]\n"
     ]
    }
   ],
   "source": [
    "start = [1,2,3]\n",
    "x=[1,2,3]\n",
    "y=x\n",
    "z=list(x)\n",
    "x.append(4)\n",
    "print(f'the starting list is {start}. x = {x}, y = {y}, and z = {z}')"
   ]
  },
  {
   "cell_type": "code",
   "execution_count": 23,
   "id": "3b690f89",
   "metadata": {
    "slideshow": {
     "slide_type": "slide"
    }
   },
   "outputs": [
    {
     "data": {
      "text/plain": [
       "15"
      ]
     },
     "execution_count": 23,
     "metadata": {},
     "output_type": "execute_result"
    }
   ],
   "source": [
    "# sum of digits\n",
    "def foo(n):\n",
    "    if n < 10:\n",
    "        return n\n",
    "    else:\n",
    "        return  n % 10 + foo(n//10)\n",
    "    \n",
    "foo(12345)"
   ]
  },
  {
   "cell_type": "markdown",
   "id": "49030538",
   "metadata": {
    "slideshow": {
     "slide_type": "slide"
    }
   },
   "source": [
    "<center> <h1>Thanks for coming!</h1></center>"
   ]
  },
  {
   "cell_type": "code",
   "execution_count": null,
   "id": "aecf0425",
   "metadata": {
    "slideshow": {
     "slide_type": "skip"
    }
   },
   "outputs": [],
   "source": []
  }
 ],
 "metadata": {
  "celltoolbar": "Slideshow",
  "kernelspec": {
   "display_name": "Python 3 (ipykernel)",
   "language": "python",
   "name": "python3"
  },
  "language_info": {
   "codemirror_mode": {
    "name": "ipython",
    "version": 3
   },
   "file_extension": ".py",
   "mimetype": "text/x-python",
   "name": "python",
   "nbconvert_exporter": "python",
   "pygments_lexer": "ipython3",
   "version": "3.10.8"
  },
  "rise": {
   "enable_chalkboard": true
  }
 },
 "nbformat": 4,
 "nbformat_minor": 5
}
