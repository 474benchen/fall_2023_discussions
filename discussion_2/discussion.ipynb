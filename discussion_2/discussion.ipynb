{
 "cells": [
  {
   "cell_type": "markdown",
   "id": "9ac70a89",
   "metadata": {
    "slideshow": {
     "slide_type": "skip"
    }
   },
   "source": [
    "**note**: for anyone trying to view this as a slideshow, run 'pip install rise', reload your notebook, then click on the button that looks like a bar graph to the right of the command palette at the top."
   ]
  },
  {
   "cell_type": "markdown",
   "id": "0aaa7f3e",
   "metadata": {
    "slideshow": {
     "slide_type": "slide"
    }
   },
   "source": [
    "<center><h1>Discussion 2</h1></center>\n",
    "<center><h2>DSC 20, Fall 2023</h2><center>"
   ]
  },
  {
   "cell_type": "markdown",
   "id": "c0998204",
   "metadata": {
    "slideshow": {
     "slide_type": "skip"
    }
   },
   "source": [
    "<center><h2>Meme of the week</h2></center>\n",
    "\n",
    "<center><img src='imgs/meme.png' width=400></center>"
   ]
  },
  {
   "cell_type": "markdown",
   "id": "c8f91290",
   "metadata": {
    "slideshow": {
     "slide_type": "slide"
    }
   },
   "source": [
    "<center><h2>Agenda</h2></center>\n",
    "<ul>\n",
    "    <li> Discussion Attendance Update </li>\n",
    "    <li> imports </li>\n",
    "    <li> <b>Content</b> </li>\n",
    "    <ul>\n",
    "        <li> in-place vs not\n",
    "        <li> Indexing\n",
    "        <li> List Methods\n",
    "        <li> String Methods\n",
    "        <li> Dictionaries\n",
    "        <li> files\n",
    "        <li> text processing\n",
    "    </ul>\n",
    "    <li> Practice Questions </li>\n",
    "    <li> PythonTutor (if we have time)</li>\n",
    "</ul>"
   ]
  },
  {
   "cell_type": "markdown",
   "id": "fb5aea9d",
   "metadata": {
    "slideshow": {
     "slide_type": "slide"
    }
   },
   "source": [
    "<center><h2> How discussion will work this quarter (UPDATE)</h2></center>\n",
    "\n",
    "<center><img src='imgs/discussion_purpose.png' width=700></center>\n",
    "\n",
    "<center>Due to technical difficulties with Webclicker, how we record Discussion attendance will change. We will now be using a gradescope assignment that is open from beginning of discussion until 1 hour after - In order to receive credit, you need to respond to the multiple choice feedback questions and upload pictures to prove you attended lecture. You'll need to upload:</center>\n",
    "\n",
    "1. a picture of the slides with your student ID in the frame (or some ID)\n",
    "2. the front and back of your worksheet\n",
    "\n",
    "<center>(which do you prefer?)</center>"
   ]
  },
  {
   "cell_type": "markdown",
   "id": "f3b3c9e7",
   "metadata": {
    "slideshow": {
     "slide_type": "slide"
    }
   },
   "source": [
    "<center><h2> About Imports </h2></center>\n",
    "\n",
    "<center>\"import\" is another special keyword in python that has a unique function - it makes code from one body available in another. This can be something like a function from a different file or a whole package (ex. Pandas)</center>\n",
    "\n",
    "- We \"ban\" import in this class because many packages are too powerful (and out of the scope of this course)\n",
    "    - ex. If we asked you to calculate Mean Squared Error on a dataset, you could just import a package for it\n",
    "- When an import is necessary, we will explicitly import the package/module for you in the starter\n",
    "\n",
    "<center> Packages are powerful tools that you'll be using nonstop after this class, but for now they are a whole different beast that you will have to deal with later. </center>\n",
    "\n",
    "<b>note</b>: one of these makes you a better coder in the long run!"
   ]
  },
  {
   "cell_type": "code",
   "execution_count": 7,
   "id": "3514f637",
   "metadata": {
    "slideshow": {
     "slide_type": "fragment"
    }
   },
   "outputs": [
    {
     "data": {
      "text/plain": [
       "0.21606"
      ]
     },
     "execution_count": 7,
     "metadata": {},
     "output_type": "execute_result"
    }
   ],
   "source": [
    "def MSE(y_1, y_2):\n",
    "    sq_error = [(y_2[i] - y_1[i])**2 for i in range(len(y_1))]\n",
    "    return sum(sq_error) / len(y_1)\n",
    "MSE([1,1,2,2,4], [0.6,1.29,1.99,2.69,3.4])"
   ]
  },
  {
   "cell_type": "code",
   "execution_count": 8,
   "id": "c30b6ed8",
   "metadata": {
    "slideshow": {
     "slide_type": "fragment"
    }
   },
   "outputs": [
    {
     "data": {
      "text/plain": [
       "0.21606"
      ]
     },
     "execution_count": 8,
     "metadata": {},
     "output_type": "execute_result"
    }
   ],
   "source": [
    "from sklearn.metrics import mean_squared_error\n",
    "mean_squared_error([1,1,2,2,4], [0.6,1.29,1.99,2.69,3.4])"
   ]
  },
  {
   "cell_type": "markdown",
   "id": "c27b42c9",
   "metadata": {
    "slideshow": {
     "slide_type": "slide"
    }
   },
   "source": [
    "<center><h2> Content</h2></center>"
   ]
  },
  {
   "cell_type": "markdown",
   "id": "63d7978f",
   "metadata": {
    "slideshow": {
     "slide_type": "slide"
    }
   },
   "source": [
    "<center><h3>in-place operations</h3></center>\n",
    "\n",
    "<center>Before we start exploring functions, it's important to understand what in-place operations are.</center>\n",
    "<br>\n",
    "\n",
    "<center><b style='color:blue'>Definition</b>: an operation is in-place if the result occurs directly on the original object, rather than a copy. Many in-place functions return None for an output. </center>\n",
    "<br>\n",
    "\n",
    "<center>What does this actually mean?\n",
    "The result of a not in-place function is a copy, the original object is not modified and the result has to be assigned to a variable to be retained. In-place functions modify the actual object passed in. </center>"
   ]
  },
  {
   "cell_type": "code",
   "execution_count": null,
   "id": "34cece7c",
   "metadata": {
    "slideshow": {
     "slide_type": "fragment"
    }
   },
   "outputs": [],
   "source": [
    "lst = [1,2,3,4,5] # all of these work exactly the same on strings!\n",
    "lst[::-1] # reverse\n",
    "lst[1:] # every element after the first\n",
    "lst[-3::2] # from the last 3 elements, take every other"
   ]
  },
  {
   "cell_type": "code",
   "execution_count": 25,
   "id": "8595d0aa",
   "metadata": {
    "slideshow": {
     "slide_type": "fragment"
    }
   },
   "outputs": [
    {
     "name": "stdout",
     "output_type": "stream",
     "text": [
      "This result is temporary - unless I reassign lst to it, lst is not modified: [1, 2, 3, 4, 5, 6]\n",
      "lst's current state: [1, 2, 3, 4, 5]\n",
      "the reassigned lst -> lst_new[1, 2, 3, 4, 5, 6]\n"
     ]
    }
   ],
   "source": [
    "lst = [1,2,3,4,5]\n",
    "print('This result is temporary - unless I reassign \\\n",
    "lst to it, lst is not modified: ' + str(lst + [6]))\n",
    "print(\"lst's current state: \" + str(lst))\n",
    "lst_new = lst + [6] # reassigning the result retains the output\n",
    "print(\"the reassigned lst -> lst_new\" + str(lst_new))"
   ]
  },
  {
   "cell_type": "code",
   "execution_count": 21,
   "id": "7a5c61c3",
   "metadata": {
    "slideshow": {
     "slide_type": "fragment"
    }
   },
   "outputs": [
    {
     "name": "stdout",
     "output_type": "stream",
     "text": [
      "The result of .append() is: None\n",
      "but we can see that the original lst is modified: [1, 2, 3, 4, 5, 6]\n"
     ]
    }
   ],
   "source": [
    "lst = [1,2,3,4,5] # compare that to .append\n",
    "print(\"The result of .append() is: \" + str(lst.append(6))) # .append() is inplace\n",
    "print(\"but we can see that the original lst is modified: \" + str(lst))"
   ]
  },
  {
   "cell_type": "markdown",
   "id": "99893d83",
   "metadata": {
    "slideshow": {
     "slide_type": "slide"
    }
   },
   "source": [
    "<center><h3>Indexing/Slicing</h3></center>\n",
    "\n",
    "<center> Indexing/slicing refers to accessing specific element(s) from an iterable object. Two of the most common cases for this are lists and strings. Indexing results in a copy (unless reasssigned)!</center>\n",
    "\n",
    "- iterable[start:stop:skip] (start:inclusive, stop: NOT inclusive)\n",
    "- not every section needs to be specified (can just use start or stop or skip)\n",
    "- sub indexes can be applied (ex. lst[0][0] -> takes the first element of the first element)\n",
    "- Trying to access an index that doesn't exist in the list will result in an error"
   ]
  },
  {
   "cell_type": "code",
   "execution_count": 51,
   "id": "4dcb9070",
   "metadata": {
    "slideshow": {
     "slide_type": "fragment"
    }
   },
   "outputs": [
    {
     "name": "stdout",
     "output_type": "stream",
     "text": [
      "original list: [2, 3, 4, 5, 6, 7, 8, 9, 10, 11, 12]\n",
      "reversed list: [12, 11, 10, 9, 8, 7, 6, 5, 4, 3, 2]\n",
      "the 2nd to 4th element: [4, 5]\n",
      "every third element from the 1st to 10th element: [3, 6, 9]\n"
     ]
    }
   ],
   "source": [
    "lst = list(range(2,13))\n",
    "print(\"original list: \" + str(lst))\n",
    "print(\"reversed list: \" + str(lst[::-1]))\n",
    "print(\"the 2nd to 4th element: \" + str(lst[2:4]))\n",
    "print(\"every third element from the 1st to 10th element: \" + str(lst[1:10:3]))"
   ]
  },
  {
   "cell_type": "markdown",
   "id": "72d5bb8d",
   "metadata": {
    "slideshow": {
     "slide_type": "slide"
    }
   },
   "source": [
    "<center><h3>Broad Methods</h3></center>\n",
    "\n",
    "- iterable.index(element, start, end) -> returns the index of the iterable where the argument is located, otherwise an error is raised.\n",
    "- iterable.count(element) -> returns the number of times element occurs in the iterable."
   ]
  },
  {
   "cell_type": "code",
   "execution_count": 5,
   "id": "7c3dd1d5",
   "metadata": {
    "slideshow": {
     "slide_type": "fragment"
    }
   },
   "outputs": [
    {
     "name": "stdout",
     "output_type": "stream",
     "text": [
      "3\n",
      "2\n"
     ]
    }
   ],
   "source": [
    "lst = [5,4,3,2,1,0,0]\n",
    "print(lst.index(2))\n",
    "print(lst.count(0))"
   ]
  },
  {
   "cell_type": "markdown",
   "id": "30ecf6d7",
   "metadata": {
    "slideshow": {
     "slide_type": "slide"
    }
   },
   "source": [
    "<center><h3>List Methods</h3></center>\n",
    "\n",
    "- list.pop(index) -> removes the element at index. in-place operation; returns the value removed\n",
    "\n",
    "- list.append(element) -> adds the element to the end of the list. in-place operation\n",
    "\n",
    "- list.sort() -> sorts the list (as name implies). Can specify ascending or descending\n",
    "\n",
    "- list.insert(index, element) -> inserts the element at index. in-place operation"
   ]
  },
  {
   "cell_type": "code",
   "execution_count": 49,
   "id": "4725426d",
   "metadata": {
    "slideshow": {
     "slide_type": "fragment"
    }
   },
   "outputs": [
    {
     "name": "stdout",
     "output_type": "stream",
     "text": [
      "result of pop first element: 5\n",
      "after appending 19: [4, 3, 2, 1, 0, 0, 19]\n",
      "after sorting list: [0, 0, 1, 2, 3, 4, 19]\n",
      "after inserting 21 to index 2[0, 0, 21, 1, 2, 3, 4, 19]\n"
     ]
    }
   ],
   "source": [
    "lst = [5,4,3,2,1,0,0]\n",
    "print(\"result of pop first element: \" + str(lst.pop(0)))\n",
    "lst.append(19)\n",
    "print(\"after appending 19: \"+ str(lst))\n",
    "lst.sort()\n",
    "print(\"after sorting list: \" + str(lst))\n",
    "lst.insert(2, 21)\n",
    "print(\"after inserting 21 to index 2\" + str(lst))"
   ]
  },
  {
   "cell_type": "markdown",
   "id": "726260cf",
   "metadata": {
    "slideshow": {
     "slide_type": "slide"
    }
   },
   "source": [
    "<center><h3 style = 'color:blue'> Checkpoint </h3></center>\n",
    "\n",
    "<center>Assume the following code has been ran:</center>"
   ]
  },
  {
   "cell_type": "code",
   "execution_count": 7,
   "id": "30ad8e7f",
   "metadata": {
    "slideshow": {
     "slide_type": "fragment"
    }
   },
   "outputs": [],
   "source": [
    "lst = [10, [12,13,11,10], (2,3,10,4), [4,6, 10, [10,11]], 1]"
   ]
  },
  {
   "cell_type": "markdown",
   "id": "9861a617",
   "metadata": {
    "slideshow": {
     "slide_type": "fragment"
    }
   },
   "source": [
    "<center>Which statement will extract 10 from the list? Select all that apply.</center>\n",
    "\n",
    "1. lst[0]\n",
    "\n",
    "2. lst[1][-1]\n",
    "\n",
    "3. lst[2][3]\n",
    "\n",
    "4. lst[-2][-1][0]\n"
   ]
  },
  {
   "cell_type": "markdown",
   "id": "f71d8637",
   "metadata": {
    "slideshow": {
     "slide_type": "slide"
    }
   },
   "source": [
    "<center><h3 style = 'color:blue'> Checkpoint Solution </h3></center>"
   ]
  },
  {
   "cell_type": "code",
   "execution_count": 8,
   "id": "4028a479",
   "metadata": {
    "slideshow": {
     "slide_type": "fragment"
    }
   },
   "outputs": [
    {
     "name": "stdout",
     "output_type": "stream",
     "text": [
      "10\n",
      "10\n",
      "4\n",
      "10\n"
     ]
    }
   ],
   "source": [
    "print(lst[0])\n",
    "print(lst[1][-1])\n",
    "print(lst[2][3])\n",
    "print(lst[-2][-1][0])"
   ]
  },
  {
   "cell_type": "markdown",
   "id": "f705a269",
   "metadata": {
    "slideshow": {
     "slide_type": "slide"
    }
   },
   "source": [
    "<center><h3>String Methods</h3></center>\n",
    "\n",
    "- string.split(separator) -> splits a string into a list of elements on each separator\n",
    "\n",
    "- \"[string]\".join(iterable) -> returns the iterable \"joined\" with the [string] in between each element\n",
    "\n",
    "- string.lower()/string.upper() -> lowers/uppers all elements in a string\n",
    "\n",
    "- string.strip() -> removes whitespace from beginning and end of the string\n",
    "\n",
    "- string.format() -> method to format strings in sections"
   ]
  },
  {
   "cell_type": "code",
   "execution_count": 16,
   "id": "7c4c8096",
   "metadata": {
    "slideshow": {
     "slide_type": "fragment"
    }
   },
   "outputs": [
    {
     "name": "stdout",
     "output_type": "stream",
     "text": [
      "['Marina', 'Langlois']\n",
      "Marina-Langlois\n",
      "MARINA LANGLOIS\n",
      "marina is the professor for DSC20.\n"
     ]
    }
   ],
   "source": [
    "string = \"Marina Langlois\"\n",
    "print(string.split())\n",
    "print('-'.join(string.split()))\n",
    "print(string.upper())\n",
    "print(\"{} is the professor for {}.\".format(\"marina\", \"DSC20\"))"
   ]
  },
  {
   "cell_type": "markdown",
   "id": "f6fbdcc6",
   "metadata": {
    "slideshow": {
     "slide_type": "slide"
    }
   },
   "source": [
    "<center><h3 style = 'color:blue'> Checkpoint </h3></center>\n",
    "\n",
    "<center>Assume the following code has been ran:</center>"
   ]
  },
  {
   "cell_type": "code",
   "execution_count": 10,
   "id": "1a7884dc",
   "metadata": {
    "slideshow": {
     "slide_type": "fragment"
    }
   },
   "outputs": [],
   "source": [
    "statement = \"Marina Langlois is the best DSC20 professor ever.\"\n",
    "temp = ' '.join(statement.split())"
   ]
  },
  {
   "cell_type": "markdown",
   "id": "d3696155",
   "metadata": {
    "slideshow": {
     "slide_type": "fragment"
    }
   },
   "source": [
    "<center>Is the following statement True or False? temp is equal to statement</center>"
   ]
  },
  {
   "cell_type": "markdown",
   "id": "ded32790",
   "metadata": {
    "slideshow": {
     "slide_type": "slide"
    }
   },
   "source": [
    "<center><h3 style = 'color:blue'> Checkpoint Solution </h3></center>"
   ]
  },
  {
   "cell_type": "code",
   "execution_count": 11,
   "id": "9376ac26",
   "metadata": {
    "slideshow": {
     "slide_type": "fragment"
    }
   },
   "outputs": [
    {
     "data": {
      "text/plain": [
       "'Marina Langlois is the best DSC20 professor ever.'"
      ]
     },
     "execution_count": 11,
     "metadata": {},
     "output_type": "execute_result"
    }
   ],
   "source": [
    "temp"
   ]
  },
  {
   "cell_type": "markdown",
   "id": "78df39d0",
   "metadata": {
    "slideshow": {
     "slide_type": "slide"
    }
   },
   "source": [
    "<center><h3> Dictionaries </h3></center>\n",
    "<ul>\n",
    "    <li> Mutable storage of key, value pairs\n",
    "    <li> Can store any data type, multiple at a time\n",
    "    <li> Elements are acccessed via keys\n",
    "    <li> keys must be <b style = 'color:blue'>hashable</b> and <b style = 'color:blue'>unique</b>\n",
    "</ul>\n",
    "\n",
    "<u> methods </u>\n",
    "- accessing keys (as a list) -> dict.keys()\n",
    "- accessing values (as a list) -> dict.values()\n",
    "- accessing key,value pairs (as a list of tuples) -> dict.items()\n",
    "\n",
    "<center>\n",
    "<b style = 'color:blue'>note</b>: hashablility correlates to the stability of the data - essentially, <b>data that <b style = 'color:blue'>can't</b> change is hashable</b> (int, str, tuple, etc.) while <b>data that <b style = 'color:blue'>can</b> change is not hashable (list, dictionary). Basically, it's all about mutability!</b> </center>"
   ]
  },
  {
   "cell_type": "code",
   "execution_count": 39,
   "id": "085b3197",
   "metadata": {
    "slideshow": {
     "slide_type": "fragment"
    }
   },
   "outputs": [
    {
     "data": {
      "text/plain": [
       "5351313138256952545"
      ]
     },
     "execution_count": 39,
     "metadata": {},
     "output_type": "execute_result"
    }
   ],
   "source": [
    "hash('marina langlois')"
   ]
  },
  {
   "cell_type": "code",
   "execution_count": 40,
   "id": "7bd5b690",
   "metadata": {
    "slideshow": {
     "slide_type": "fragment"
    }
   },
   "outputs": [
    {
     "ename": "TypeError",
     "evalue": "unhashable type: 'list'",
     "output_type": "error",
     "traceback": [
      "\u001b[0;31m---------------------------------------------------------------------------\u001b[0m",
      "\u001b[0;31mTypeError\u001b[0m                                 Traceback (most recent call last)",
      "Cell \u001b[0;32mIn[40], line 1\u001b[0m\n\u001b[0;32m----> 1\u001b[0m \u001b[38;5;28;43mhash\u001b[39;49m\u001b[43m(\u001b[49m\u001b[43m[\u001b[49m\u001b[38;5;241;43m1\u001b[39;49m\u001b[43m,\u001b[49m\u001b[38;5;241;43m2\u001b[39;49m\u001b[43m,\u001b[49m\u001b[38;5;241;43m3\u001b[39;49m\u001b[43m]\u001b[49m\u001b[43m)\u001b[49m\n",
      "\u001b[0;31mTypeError\u001b[0m: unhashable type: 'list'"
     ]
    }
   ],
   "source": [
    "hash([1,2,3])"
   ]
  },
  {
   "cell_type": "markdown",
   "id": "7e597f68",
   "metadata": {
    "slideshow": {
     "slide_type": "slide"
    }
   },
   "source": [
    "<center><h3 style = 'color:blue'> Checkpoint </h3></center>\n",
    "\n",
    "<center>Assume the following code has been ran:</center>"
   ]
  },
  {
   "cell_type": "code",
   "execution_count": 14,
   "id": "be791d6e",
   "metadata": {
    "slideshow": {
     "slide_type": "fragment"
    }
   },
   "outputs": [],
   "source": [
    "dct = {\"nikki\":\"nikki\", ('a','b','c'):[1,2,3], 'max':'nikki'}"
   ]
  },
  {
   "cell_type": "markdown",
   "id": "a0864ee5",
   "metadata": {
    "slideshow": {
     "slide_type": "fragment"
    }
   },
   "source": [
    "<center>Which of the following statements will extract \"nikki\" from the dictionary? Select all that apply.</center>\n",
    "\n",
    "1. dct.items()[0][1]\n",
    "\n",
    "2. dct.keys[0]\n",
    "\n",
    "3. list(dct.values())[-1]\n",
    "\n",
    "4. dct['max']"
   ]
  },
  {
   "cell_type": "markdown",
   "id": "36c306f3",
   "metadata": {
    "slideshow": {
     "slide_type": "slide"
    }
   },
   "source": [
    "<center><h3 style = 'color:blue'> Checkpoint Solution </h3></center>"
   ]
  },
  {
   "cell_type": "code",
   "execution_count": 18,
   "id": "1ae6b868",
   "metadata": {
    "slideshow": {
     "slide_type": "fragment"
    }
   },
   "outputs": [
    {
     "name": "stdout",
     "output_type": "stream",
     "text": [
      "nikki\n",
      "nikki\n"
     ]
    }
   ],
   "source": [
    "print(list(dct.values())[-1])\n",
    "print(dct['max'])"
   ]
  },
  {
   "cell_type": "code",
   "execution_count": 21,
   "id": "c3b021db",
   "metadata": {
    "slideshow": {
     "slide_type": "fragment"
    }
   },
   "outputs": [
    {
     "ename": "TypeError",
     "evalue": "'dict_items' object is not subscriptable",
     "output_type": "error",
     "traceback": [
      "\u001b[0;31m---------------------------------------------------------------------------\u001b[0m",
      "\u001b[0;31mTypeError\u001b[0m                                 Traceback (most recent call last)",
      "Cell \u001b[0;32mIn[21], line 1\u001b[0m\n\u001b[0;32m----> 1\u001b[0m \u001b[43mdct\u001b[49m\u001b[38;5;241;43m.\u001b[39;49m\u001b[43mitems\u001b[49m\u001b[43m(\u001b[49m\u001b[43m)\u001b[49m\u001b[43m[\u001b[49m\u001b[38;5;241;43m0\u001b[39;49m\u001b[43m]\u001b[49m[\u001b[38;5;241m1\u001b[39m]\n",
      "\u001b[0;31mTypeError\u001b[0m: 'dict_items' object is not subscriptable"
     ]
    }
   ],
   "source": [
    "dct.items()[0][1]"
   ]
  },
  {
   "cell_type": "code",
   "execution_count": 20,
   "id": "8efb061c",
   "metadata": {
    "slideshow": {
     "slide_type": "fragment"
    }
   },
   "outputs": [
    {
     "ename": "TypeError",
     "evalue": "'dict_keys' object is not subscriptable",
     "output_type": "error",
     "traceback": [
      "\u001b[0;31m---------------------------------------------------------------------------\u001b[0m",
      "\u001b[0;31mTypeError\u001b[0m                                 Traceback (most recent call last)",
      "Cell \u001b[0;32mIn[20], line 1\u001b[0m\n\u001b[0;32m----> 1\u001b[0m \u001b[43mdct\u001b[49m\u001b[38;5;241;43m.\u001b[39;49m\u001b[43mkeys\u001b[49m\u001b[43m(\u001b[49m\u001b[43m)\u001b[49m\u001b[43m[\u001b[49m\u001b[38;5;241;43m0\u001b[39;49m\u001b[43m]\u001b[49m\n",
      "\u001b[0;31mTypeError\u001b[0m: 'dict_keys' object is not subscriptable"
     ]
    }
   ],
   "source": [
    "dct.keys()[0]"
   ]
  },
  {
   "cell_type": "markdown",
   "id": "79e2eff1",
   "metadata": {
    "slideshow": {
     "slide_type": "slide"
    }
   },
   "source": [
    "<center><h3> Files </h3></center>\n",
    "<ul>\n",
    "    <li> storage for data (think csv's from DSC10, txt's from assignments, etc.)\n",
    "    <li> unique methods to access within code\n",
    "</ul>\n",
    "\n",
    "<u> Access Modes </u>\n",
    "\n",
    "<b> Write </b>: 'w' -> every time the file is opened in write mode, the file is wiped. Calling file.write() will add in your data.\n",
    "\n",
    "<b> Append </b>: 'a' -> file.write() will append your data to what existed in the file beforehand.\n",
    "\n",
    "<b> Read </b>: 'r' -> no writing privilege, can only pull the data from the file with relevant methods.\n",
    "\n",
    "<b>note</b>: If you try to open a file in write mode that doesn't exist, python will create it.\n",
    "\n",
    "<b>note</b>: you should almost NEVER use the eval() function when opening files you don't trust -> eval() automatically runs any code without protections (you could get a virus, or worse)."
   ]
  },
  {
   "cell_type": "code",
   "execution_count": 48,
   "id": "f35f8dbc",
   "metadata": {
    "slideshow": {
     "slide_type": "fragment"
    }
   },
   "outputs": [],
   "source": [
    "# method 1\n",
    "file_object = open('files/disc.txt', 'w')\n",
    "file_object.write('Marina Langlois')\n",
    "file_object.close() # required for this method"
   ]
  },
  {
   "cell_type": "code",
   "execution_count": 57,
   "id": "fd34458c",
   "metadata": {
    "slideshow": {
     "slide_type": "fragment"
    }
   },
   "outputs": [],
   "source": [
    "# method 2\n",
    "with open('files/data.txt', 'w') as f:\n",
    "    f.write('Marina Langlois is the DSC20 professor\\nSuraj Rampure is the DSC180A professor')"
   ]
  },
  {
   "cell_type": "markdown",
   "id": "770a5a5f",
   "metadata": {
    "slideshow": {
     "slide_type": "slide"
    }
   },
   "source": [
    "<center><h3>Text Processing</h3></center>\n",
    "\n",
    "<u>reading data</u>:\n",
    "- file.read() -> reads in all the data as a single string\n",
    "- file.readline() -> reads in data line by line (has to be recalled)\n",
    "- file.readlines() -> reads in all the data as a list where each line is another element of the list\n",
    "\n",
    "<center> After reading in the data, you can transform it however you'd like, and then rewrite it back into the file using .write() (if this is relevant).</center>"
   ]
  },
  {
   "cell_type": "code",
   "execution_count": 67,
   "id": "fb053d98",
   "metadata": {
    "slideshow": {
     "slide_type": "fragment"
    }
   },
   "outputs": [
    {
     "name": "stdout",
     "output_type": "stream",
     "text": [
      "the data in the file currently is: \n",
      "Marina Langlois is the DSC20 professor\n",
      "Suraj Rampure is the DSC10 professor\n",
      "\n",
      "the data in the file is now: \n",
      "Marina Langlois is the DSC20 professor\n",
      "Suraj Rampure is the DSC10 professor\n"
     ]
    }
   ],
   "source": [
    "with open('files/data.txt', 'r') as f:\n",
    "    # notice to read the data, I have to open in 'r' mode first\n",
    "    data = f.read() \n",
    "print(\"the data in the file currently is: \")\n",
    "print(data)\n",
    "\n",
    "print()\n",
    "\n",
    "with open('files/data.txt', 'w') as f:\n",
    "    data = data.replace('DSC180A', 'DSC10')\n",
    "    f.write(data)\n",
    "print(\"the data in the file is now: \")\n",
    "with open('files/data.txt', 'r') as f: print(f.read())"
   ]
  },
  {
   "cell_type": "markdown",
   "id": "b40a280b",
   "metadata": {
    "slideshow": {
     "slide_type": "slide"
    }
   },
   "source": [
    "<center><h2>practice questions</h2></center>\n",
    "<br>\n",
    "<center>Time to do some practice questions! Take about 10-15 minutes to work on the questions. Feel free to flag me down if you need help/clarification.</center>\n",
    "<br>\n",
    "<center>Make sure to handwrite! This is practice for your own sake.</center>\n",
    "<br>\n",
    "<center>YOU MAY KEEP YOUR WORKSHEETS!!</center>\n",
    "<br>\n",
    "<center> If you finish early, feel free to head over to gradescope and complete the discussion attendance assignment </center>"
   ]
  },
  {
   "cell_type": "code",
   "execution_count": 32,
   "id": "f15ea8c1",
   "metadata": {
    "slideshow": {
     "slide_type": "skip"
    }
   },
   "outputs": [],
   "source": [
    "def yield_even_palindromes(lst):\n",
    "    \"\"\"\n",
    "    Write a function that returns the strings at even indices\n",
    "    that are also palindromes. Palindromes are words that are\n",
    "    the same spelled backwards.\n",
    "    \n",
    "    >>> yield_even_palindromes(['121', '232', '01', '443'])\n",
    "    ['121']\n",
    "    >>> yield_even_palindromes(['racecar', '0', '0', '1'])\n",
    "    ['racecar', '0']\n",
    "    \"\"\"\n",
    "    # Write your implementation here\n",
    "\n",
    "def flip_dct(input_dct):\n",
    "    \"\"\"\n",
    "    Write a function to invert the key, value of a dictionary where \n",
    "    the new keys are the old value and the new value is the old key\n",
    "    split into a list.\n",
    "    \n",
    "    >>> data = {\"ben chen\":42, \"nikki zhang\":\"genshin\", \"max wei\":(1,2,3)}\n",
    "    >>> change_dct(data)\n",
    "    {42:['ben', 'chen'], \"genshin\":['nikki', 'zhang'], \\\n",
    "    (1,2,3):['max', 'wei']}\n",
    "    \"\"\"\n",
    "    # Write your implementation here\n",
    "    return\n",
    "\n",
    "\n",
    "\n",
    "### MODIFYING\n",
    "def avg_grade(grades):\n",
    "    \"\"\"\n",
    "    Write a function that finds the average overall grade for each\n",
    "    student given a nested dictionary where keys are names and\n",
    "    values are a dictionary of subject:score. \n",
    "    Round the result to 2 digit accuracy.\n",
    "    \n",
    "    >>> avg_grade({\"Alice\": {\"math\": 85, \"dsc\": 90, \"english\": 80}, \n",
    "     \"Bob\": {\"math\": 92, \"dsc\": 88, \"english\": 95}})\n",
    "    {\"Alice\": 85.0, \"Bob\": 91.67}\n",
    "    \"\"\"\n",
    "    # Write your implementation here\n",
    "    return\n",
    "\n",
    "def resume_filler(application, resume):\n",
    "    \"\"\"\n",
    "    Write a function that fills an application \n",
    "    with information from the provided resume\n",
    "    if the field is missing.\n",
    "    \n",
    "    >>> application_1 = {\"loc\": \"SF\", \"job\": \"SWE\", \"company\":\"Delos\"}\n",
    "    >>> application_2 = {\"name\": \"nikki\" ,\"loc\": \"LA\", \"job\": \"DSC\"}\n",
    "    >>> resume = {\"name\":\"nikki\", \"exp\": \"intern\", \"loc\": \"USA\"}\n",
    "    >> resume_filler(application_1, resume)\n",
    "    {'loc': 'SF','job': 'SWE','company': 'Delos','name': 'nikki','exp': 'intern'}\n",
    "    >>> resume_filler(application_2, resume)\n",
    "    {'name': 'nikki', 'loc': 'LA', 'job': 'DSC', 'exp': 'intern'}\n",
    "    \"\"\"\n",
    "    # Write your implementation here\n",
    "    return\n",
    "\n",
    "### NOT USING\n",
    "def class_reviews(reviews_filepath):\n",
    "    \"\"\"\n",
    "    Write a function that finds all reviews that mention \"DSC20\".\n",
    "    Each review is separated by a newline character \"\\n\".\n",
    "    Write the result into a new file named \"files/DSC20_reviews\".\n",
    "    \n",
    "    >>> class_reviews('files/raw_reviews.txt')\n",
    "    >>> file = open('files/DSC20_reviews.txt')\n",
    "    >>> len(file.read().split('\\n'))\n",
    "    3\n",
    "    >>> file.close()\n",
    "    \"\"\"\n",
    "    # Write your implementation here\n",
    "    return"
   ]
  },
  {
   "cell_type": "markdown",
   "id": "fb1e47a3",
   "metadata": {
    "slideshow": {
     "slide_type": "slide"
    }
   },
   "source": [
    "<center><h2>practice question solutions</h2></center>"
   ]
  },
  {
   "cell_type": "code",
   "execution_count": 106,
   "id": "01dc3d13",
   "metadata": {
    "slideshow": {
     "slide_type": "slide"
    }
   },
   "outputs": [
    {
     "name": "stdout",
     "output_type": "stream",
     "text": [
      "['121']\n",
      "['racecar', '0']\n"
     ]
    }
   ],
   "source": [
    "def yield_even_palindromes(lst):\n",
    "    \"\"\"\n",
    "    Write a function that returns the strings at even indices\n",
    "    that are also palindromes. Palindromes are words that are\n",
    "    the same spelled backwards.\n",
    "    \n",
    "    >>> yield_even_palindromes(['121', '232', '01', '443'])\n",
    "    ['121']\n",
    "    >>> yield_even_palindromes(['racecar', '0', '0', '1'])\n",
    "    ['racecar', '0']\n",
    "    \"\"\"\n",
    "    output = []\n",
    "    even_indices = lst[::2]\n",
    "    for val in even_indices:\n",
    "        if val == val[::-1]:\n",
    "            output.append(val)\n",
    "    return output\n",
    "print(yield_even_palindromes(['121', '232', '01', '443']))\n",
    "print(yield_even_palindromes(['racecar', '0', '0', '1']))"
   ]
  },
  {
   "cell_type": "markdown",
   "id": "aaa874be",
   "metadata": {
    "slideshow": {
     "slide_type": "slide"
    }
   },
   "source": [
    "Assume the following code is ran:"
   ]
  },
  {
   "cell_type": "code",
   "execution_count": 33,
   "id": "bcec0735",
   "metadata": {
    "slideshow": {
     "slide_type": "fragment"
    }
   },
   "outputs": [],
   "source": [
    "data = {\n",
    "    \"nikki\": {\"math\": [20, 70, 40], \"dsc\": (100), \"philosophy\": 'socrates'}, \n",
    "     \"bobby\": {\"math\": [55, 42, 37, 2], \"dsc\": (88, 76), \"philosophy\": 'plato'},\n",
    "      \"max\": {\"math\": [0, 22, 43, 17, 0], \"dsc\": (66), \"philosophy\": 'friedrich nietzsche'}\n",
    "}"
   ]
  },
  {
   "cell_type": "markdown",
   "id": "93065564",
   "metadata": {
    "slideshow": {
     "slide_type": "fragment"
    }
   },
   "source": [
    "Write a statement that results in nikki's highest math score."
   ]
  },
  {
   "cell_type": "code",
   "execution_count": 34,
   "id": "e8687ef9",
   "metadata": {
    "slideshow": {
     "slide_type": "fragment"
    }
   },
   "outputs": [
    {
     "data": {
      "text/plain": [
       "70"
      ]
     },
     "execution_count": 34,
     "metadata": {},
     "output_type": "execute_result"
    }
   ],
   "source": [
    "max(data['nikki']['math'])"
   ]
  },
  {
   "cell_type": "markdown",
   "id": "8f94228d",
   "metadata": {
    "slideshow": {
     "slide_type": "fragment"
    }
   },
   "source": [
    "Write a statement that results in the 2nd score for bobby in dsc."
   ]
  },
  {
   "cell_type": "code",
   "execution_count": 35,
   "id": "ff998928",
   "metadata": {
    "slideshow": {
     "slide_type": "fragment"
    }
   },
   "outputs": [
    {
     "data": {
      "text/plain": [
       "76"
      ]
     },
     "execution_count": 35,
     "metadata": {},
     "output_type": "execute_result"
    }
   ],
   "source": [
    "data['bobby']['dsc'][1]"
   ]
  },
  {
   "cell_type": "markdown",
   "id": "2aabe982",
   "metadata": {
    "slideshow": {
     "slide_type": "fragment"
    }
   },
   "source": [
    "Write a statement that results in max' philosophy last name."
   ]
  },
  {
   "cell_type": "code",
   "execution_count": 36,
   "id": "f1617110",
   "metadata": {
    "slideshow": {
     "slide_type": "fragment"
    }
   },
   "outputs": [
    {
     "data": {
      "text/plain": [
       "'nietzsche'"
      ]
     },
     "execution_count": 36,
     "metadata": {},
     "output_type": "execute_result"
    }
   ],
   "source": [
    "data['max']['philosophy'].split()[-1]"
   ]
  },
  {
   "cell_type": "code",
   "execution_count": 103,
   "id": "1c7c2927",
   "metadata": {
    "slideshow": {
     "slide_type": "slide"
    }
   },
   "outputs": [
    {
     "data": {
      "text/plain": [
       "{42: ['ben', 'chen'], 'genshin': ['nikki', 'zhang'], (1, 2, 3): ['max', 'wei']}"
      ]
     },
     "execution_count": 103,
     "metadata": {},
     "output_type": "execute_result"
    }
   ],
   "source": [
    "def flip_dct(input_dct):\n",
    "    \"\"\"\n",
    "    Write a function to invert the key, value of a dictionary where \n",
    "    the new keys are the old value and the new value is the old key\n",
    "    split into a list.\n",
    "    \n",
    "    >>> data = {\"ben chen\":42, \"nikki zhang\":\"genshin\", \"max wei\":(1,2,3)}\n",
    "    >>> change_dct(data)\n",
    "    {42:['ben', 'chen'], \"genshin\":['nikki', 'zhang'], \\\n",
    "    (1,2,3):['max', 'wei']}\n",
    "    \"\"\"\n",
    "    output = {}\n",
    "    for key, value in input_dct.items():\n",
    "        output[value] = key.split(' ')\n",
    "    return output\n",
    "data = {\"ben chen\":42, \"nikki zhang\":\"genshin\", \"max wei\":(1,2,3)}\n",
    "flip_dct(data)"
   ]
  },
  {
   "cell_type": "code",
   "execution_count": 31,
   "id": "2de6aefa",
   "metadata": {
    "slideshow": {
     "slide_type": "slide"
    }
   },
   "outputs": [
    {
     "name": "stdout",
     "output_type": "stream",
     "text": [
      "{'loc': 'SF', 'job': 'SWE', 'company': 'Delos', 'name': 'nikki', 'exp': 'intern'}\n",
      "{'name': 'nikki', 'loc': 'LA', 'job': 'DSC', 'exp': 'intern'}\n"
     ]
    }
   ],
   "source": [
    "def resume_filler(application, resume):\n",
    "    \"\"\"\n",
    "    Write a function that fills an application \n",
    "    with information from the provided resume\n",
    "    if the field is missing.\n",
    "    \n",
    "    >>> application_1 = {\"loc\": \"SF\", \"job\": \"SWE\", \"company\":\"Delos\"}\n",
    "    >>> application_2 = {\"name\": \"nikki\" ,\"loc\": \"LA\", \"job\": \"DSC\"}\n",
    "    >>> resume = {\"name\":\"nikki\", \"exp\": \"intern\", \"loc\": \"USA\"}\n",
    "    >> resume_filler(application_1, resume)\n",
    "    {'loc': 'SF','job': 'SWE','company': 'Delos','name': 'nikki','exp': 'intern'}\n",
    "    >>> resume_filler(application_2, resume)\n",
    "    {'name': 'nikki', 'loc': 'LA', 'job': 'DSC', 'exp': 'intern'}\n",
    "    \"\"\"\n",
    "    for key in resume.keys():\n",
    "        if key not in application.keys():\n",
    "            application[key] = resume[key]\n",
    "            \n",
    "    return application\n",
    "\n",
    "application_1 = {\"loc\": \"SF\", \"job\": \"SWE\", \"company\":\"Delos\"}\n",
    "application_2 = {\"name\": \"nikki\" ,\"loc\": \"LA\", \"job\": \"DSC\"}\n",
    "resume = {\"name\":\"nikki\", \"exp\": \"intern\", \"loc\": \"USA\"}\n",
    "print(resume_filler(application_1, resume))\n",
    "print(resume_filler(application_2, resume))"
   ]
  },
  {
   "cell_type": "code",
   "execution_count": 120,
   "id": "5d431824",
   "metadata": {
    "slideshow": {
     "slide_type": "skip"
    }
   },
   "outputs": [
    {
     "data": {
      "text/plain": [
       "{'Alice': 85.0, 'Bob': 91.67}"
      ]
     },
     "execution_count": 120,
     "metadata": {},
     "output_type": "execute_result"
    }
   ],
   "source": [
    "def avg_grade(grades):\n",
    "    \"\"\"\n",
    "    Write a function that finds the average overall grade for each\n",
    "    student given a nested dictionary where keys are names and\n",
    "    values are a dictionary of subject:score. \n",
    "    Round the result to 2 digit accuracy.\n",
    "    \n",
    "    >>> avg_grade({\"Alice\": {\"math\": 85, \"dsc\": 90, \"english\": 80}, \n",
    "     \"Bob\": {\"math\": 92, \"dsc\": 88, \"english\": 95}})\n",
    "    {\"Alice\": 85.0, \"Bob\": 91.67}\n",
    "    \"\"\"\n",
    "    avg_grades = {}\n",
    "    for name, classes in grades.items():\n",
    "        grades = classes.values()\n",
    "        avg_grades[name] = round((sum(grades) / len(grades)), 2)\n",
    "    return avg_grades\n",
    "avg_grade({\"Alice\": {\"math\": 85, \"dsc\": 90, \"english\": 80}, \n",
    "     \"Bob\": {\"math\": 92, \"dsc\": 88, \"english\": 95}})"
   ]
  },
  {
   "cell_type": "code",
   "execution_count": 118,
   "id": "b93591d6",
   "metadata": {
    "slideshow": {
     "slide_type": "skip"
    }
   },
   "outputs": [
    {
     "name": "stdout",
     "output_type": "stream",
     "text": [
      "the number of reviews mentioning DSC20: 3\n"
     ]
    }
   ],
   "source": [
    "def class_reviews(reviews_filepath):\n",
    "    \"\"\"\n",
    "    Write a function that finds all reviews that mention \"DSC20\".\n",
    "    Each review is separated by a newline character \"\\n\".\n",
    "    Write the result into a new file named \"files/DSC20_reviews\".\n",
    "    \n",
    "    >>> class_reviews('files/raw_reviews.txt')\n",
    "    >>> file = open('files/DSC20_reviews.txt')\n",
    "    >>> len(file.read().split('\\n'))\n",
    "    3\n",
    "    >>> file.close()\n",
    "    \"\"\"\n",
    "    output = ''\n",
    "    with open(reviews_filepath, 'r') as f:\n",
    "        data = f.read()\n",
    "        \n",
    "    data = data.split('\\n')\n",
    "    for review in data:\n",
    "        if \"DSC20\" in review:\n",
    "            output+=(review + \"\\n\")\n",
    "    \n",
    "    with open(\"files/DSC20_reviews.txt\", 'w') as f:\n",
    "        f.write(output)\n",
    "class_reviews('files/raw_reviews.txt')\n",
    "file = open('files/DSC20_reviews.txt')\n",
    "print(\"the number of reviews mentioning DSC20: \" + \\\n",
    "      str(len(file.read().split('\\n'))))\n",
    "file.close()"
   ]
  },
  {
   "cell_type": "markdown",
   "id": "4cfad092",
   "metadata": {
    "slideshow": {
     "slide_type": "slide"
    }
   },
   "source": [
    "<center><h2>Discussion Attendance</h2></center>\n",
    "<center>Take 2 minutes and head to gradescope to complete discussion attendance. The assignment is called Discussion 2 Participation.</center>"
   ]
  },
  {
   "cell_type": "markdown",
   "id": "49030538",
   "metadata": {
    "slideshow": {
     "slide_type": "slide"
    }
   },
   "source": [
    "<center> <h1>Thanks for coming!</h1></center>"
   ]
  },
  {
   "cell_type": "code",
   "execution_count": null,
   "id": "1e60d5be",
   "metadata": {
    "slideshow": {
     "slide_type": "skip"
    }
   },
   "outputs": [],
   "source": []
  }
 ],
 "metadata": {
  "celltoolbar": "Slideshow",
  "kernelspec": {
   "display_name": "Python 3 (ipykernel)",
   "language": "python",
   "name": "python3"
  },
  "language_info": {
   "codemirror_mode": {
    "name": "ipython",
    "version": 3
   },
   "file_extension": ".py",
   "mimetype": "text/x-python",
   "name": "python",
   "nbconvert_exporter": "python",
   "pygments_lexer": "ipython3",
   "version": "3.10.8"
  },
  "rise": {
   "enable_chalkboard": true
  }
 },
 "nbformat": 4,
 "nbformat_minor": 5
}
