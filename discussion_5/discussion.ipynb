{
 "cells": [
  {
   "cell_type": "markdown",
   "id": "9ac70a89",
   "metadata": {
    "slideshow": {
     "slide_type": "skip"
    }
   },
   "source": [
    "**note**: for anyone trying to view this as a slideshow, run 'pip install rise', reload your notebook, then click on the button that looks like a bar graph to the right of the command palette at the top."
   ]
  },
  {
   "cell_type": "code",
   "execution_count": 29,
   "id": "abd2ba1c",
   "metadata": {
    "slideshow": {
     "slide_type": "skip"
    }
   },
   "outputs": [
    {
     "name": "stdout",
     "output_type": "stream",
     "text": [
      "Intel MKL WARNING: Support of Intel(R) Streaming SIMD Extensions 4.2 (Intel(R) SSE4.2) enabled only processors has been deprecated. Intel oneAPI Math Kernel Library 2025.0 will require Intel(R) Advanced Vector Extensions (Intel(R) AVX) instructions.\n",
      "Intel MKL WARNING: Support of Intel(R) Streaming SIMD Extensions 4.2 (Intel(R) SSE4.2) enabled only processors has been deprecated. Intel oneAPI Math Kernel Library 2025.0 will require Intel(R) Advanced Vector Extensions (Intel(R) AVX) instructions.\n"
     ]
    },
    {
     "name": "stderr",
     "output_type": "stream",
     "text": [
      "/opt/anaconda3/envs/tutor/lib/python3.10/site-packages/scipy/__init__.py:155: UserWarning: A NumPy version >=1.18.5 and <1.26.0 is required for this version of SciPy (detected version 1.26.0\n",
      "  warnings.warn(f\"A NumPy version >={np_minversion} and <{np_maxversion}\"\n"
     ]
    }
   ],
   "source": [
    "import numpy as np\n",
    "import pandas as pd\n",
    "import matplotlib.pyplot as plt\n",
    "import seaborn as sns\n",
    "\n",
    "sns.set_theme(style = 'darkgrid')\n",
    "\n",
    "from sklearn.neighbors import KNeighborsClassifier as knn\n",
    "from sklearn.linear_model import LinearRegression\n",
    "from sklearn.svm import SVC\n",
    "from sklearn.model_selection import train_test_split\n",
    "from sklearn.metrics import mean_squared_error as MSE"
   ]
  },
  {
   "cell_type": "code",
   "execution_count": 30,
   "id": "ab3c8393",
   "metadata": {
    "slideshow": {
     "slide_type": "skip"
    }
   },
   "outputs": [
    {
     "data": {
      "text/html": [
       "\n",
       "<style>\n",
       ".output_png {\n",
       "    display: table-cell;\n",
       "    text-align: center;\n",
       "    vertical-align: middle;\n",
       "}\n",
       "</style>\n"
      ],
      "text/plain": [
       "<IPython.core.display.HTML object>"
      ]
     },
     "execution_count": 30,
     "metadata": {},
     "output_type": "execute_result"
    }
   ],
   "source": [
    "from IPython.core.display import HTML\n",
    "HTML(\"\"\"\n",
    "<style>\n",
    ".output_png {\n",
    "    display: table-cell;\n",
    "    text-align: center;\n",
    "    vertical-align: middle;\n",
    "}\n",
    "</style>\n",
    "\"\"\")"
   ]
  },
  {
   "cell_type": "markdown",
   "id": "0aaa7f3e",
   "metadata": {
    "slideshow": {
     "slide_type": "slide"
    }
   },
   "source": [
    "<center><h1>Discussion 5</h1></center>\n",
    "<center><h2>DSC 20, Fall 2023</h2><center>"
   ]
  },
  {
   "cell_type": "markdown",
   "id": "54229441",
   "metadata": {
    "slideshow": {
     "slide_type": "slide"
    }
   },
   "source": [
    "<center><h2>Meme of the week</h2></center>\n",
    "\n",
    "<center><img src='imgs/meme.png' width=800></center>"
   ]
  },
  {
   "cell_type": "markdown",
   "id": "c8f91290",
   "metadata": {
    "slideshow": {
     "slide_type": "slide"
    }
   },
   "source": [
    "<center><h2>Agenda</h2></center>\n",
    "<ul>\n",
    "    <li> Midterm Feedback</li>\n",
    "    <li> <b>Content</b> </li>\n",
    "    <ul>\n",
    "        <li> lambda\n",
    "        <li> map/filter\n",
    "        <li> HOF\n",
    "        <li> args, kwargs, defaults\n",
    "    </ul>\n",
    "    <li> Practice Questions </li>\n",
    "    <li> (if we have time) project foreshadowing: machine learning </li>\n",
    "</ul>"
   ]
  },
  {
   "cell_type": "markdown",
   "id": "2b7d6fee",
   "metadata": {
    "slideshow": {
     "slide_type": "slide"
    }
   },
   "source": [
    "<center><h2> About the Midterm </h2> </center>\n",
    "\n",
    "- grades will come out when they do\n",
    "\n",
    "- make sure to look through your score and submit regrade requests for sections you disagree with\n",
    "\n",
    "reminder:\n",
    "<center><img src='imgs/exam.png' height = 200></center>"
   ]
  },
  {
   "cell_type": "markdown",
   "id": "84faa9e6",
   "metadata": {
    "slideshow": {
     "slide_type": "slide"
    }
   },
   "source": [
    "<center><h3> Lambda Functions </h3></center>\n",
    "<ul>\n",
    "    <li> known as anonymous functions (their functions are so simple, they don't need a name)\n",
    "    <li> syntax: lambda (input): (some operation)\n",
    "    <li> within the scope of this course, lambda is used in conjunction with map and filter"
   ]
  },
  {
   "cell_type": "code",
   "execution_count": 4,
   "id": "3cb616ce",
   "metadata": {
    "slideshow": {
     "slide_type": "fragment"
    }
   },
   "outputs": [
    {
     "data": {
      "text/plain": [
       "3"
      ]
     },
     "execution_count": 4,
     "metadata": {},
     "output_type": "execute_result"
    }
   ],
   "source": [
    "def add_2(x):\n",
    "    return x+2\n",
    "add_2(1)"
   ]
  },
  {
   "cell_type": "code",
   "execution_count": 3,
   "id": "8c00a796",
   "metadata": {
    "slideshow": {
     "slide_type": "fragment"
    }
   },
   "outputs": [
    {
     "data": {
      "text/plain": [
       "3"
      ]
     },
     "execution_count": 3,
     "metadata": {},
     "output_type": "execute_result"
    }
   ],
   "source": [
    "func = lambda x: x+2\n",
    "func(1)"
   ]
  },
  {
   "cell_type": "markdown",
   "id": "c377cf43",
   "metadata": {
    "slideshow": {
     "slide_type": "slide"
    }
   },
   "source": [
    "<center><h3 style = 'color:blue'> Checkpoint </h3></center>\n",
    "\n",
    "<center>Are the following 2 functions equivalent?</center>"
   ]
  },
  {
   "cell_type": "code",
   "execution_count": 5,
   "id": "743979c7",
   "metadata": {
    "slideshow": {
     "slide_type": "fragment"
    }
   },
   "outputs": [],
   "source": [
    "def strip_caps(string):\n",
    "    output = ''\n",
    "    for char in string:\n",
    "        if not char.isupper():\n",
    "            output+=char\n",
    "    return output"
   ]
  },
  {
   "cell_type": "code",
   "execution_count": 7,
   "id": "8d79800c",
   "metadata": {
    "slideshow": {
     "slide_type": "fragment"
    }
   },
   "outputs": [],
   "source": [
    "lambda_strip = lambda x: x if x.isupper() else ''"
   ]
  },
  {
   "cell_type": "markdown",
   "id": "3f3ea69f",
   "metadata": {
    "slideshow": {
     "slide_type": "slide"
    }
   },
   "source": [
    "<center><h3 style = 'color:blue'> Checkpoint Solution</h3></center>\n",
    "\n",
    "<center> nope! </center>"
   ]
  },
  {
   "cell_type": "code",
   "execution_count": 8,
   "id": "0696c505",
   "metadata": {
    "slideshow": {
     "slide_type": "fragment"
    }
   },
   "outputs": [],
   "source": [
    "example = 'AEIOUaeiou'"
   ]
  },
  {
   "cell_type": "code",
   "execution_count": 9,
   "id": "894be9eb",
   "metadata": {
    "slideshow": {
     "slide_type": "fragment"
    }
   },
   "outputs": [
    {
     "data": {
      "text/plain": [
       "'aeiou'"
      ]
     },
     "execution_count": 9,
     "metadata": {},
     "output_type": "execute_result"
    }
   ],
   "source": [
    "strip_caps(example)"
   ]
  },
  {
   "cell_type": "code",
   "execution_count": 14,
   "id": "99d45a5c",
   "metadata": {
    "slideshow": {
     "slide_type": "fragment"
    }
   },
   "outputs": [
    {
     "data": {
      "text/plain": [
       "'AEIOU'"
      ]
     },
     "execution_count": 14,
     "metadata": {},
     "output_type": "execute_result"
    }
   ],
   "source": [
    "''.join(list(map(lambda_strip, example)))"
   ]
  },
  {
   "cell_type": "markdown",
   "id": "57b59eb2",
   "metadata": {
    "slideshow": {
     "slide_type": "slide"
    }
   },
   "source": [
    "<center><h3>Map</h3></center>\n",
    "Map -\n",
    "<b>Syntax: map(function, iterable)</b>\n",
    "<ul>\n",
    "    <li> Map allows you to apply a function to all elements to an iterable input\n",
    "    <li> very common to use a lambda function as the function to apply\n",
    "    <li> returns an iterator through the iterable object, applying the function as it traverses\n",
    "</ul>"
   ]
  },
  {
   "cell_type": "code",
   "execution_count": 5,
   "id": "9d08c26e",
   "metadata": {
    "slideshow": {
     "slide_type": "fragment"
    }
   },
   "outputs": [
    {
     "data": {
      "text/plain": [
       "[3, 4, 5, 6, 7]"
      ]
     },
     "execution_count": 5,
     "metadata": {},
     "output_type": "execute_result"
    }
   ],
   "source": [
    "data = [1,2,3,4,5]\n",
    "list(map(lambda x:x+2, data))"
   ]
  },
  {
   "cell_type": "markdown",
   "id": "1e66ae6d",
   "metadata": {
    "slideshow": {
     "slide_type": "slide"
    }
   },
   "source": [
    "<center><h3>Filter</h3></center>\n",
    "\n",
    "Filter - \n",
    "<b>Syntax: filter(function, iterable)</b>\n",
    "<ul>\n",
    "    <li> Filter takes in a function that returns a boolean and only keeps elements that satisfy the function (i.e. return True).\n",
    "    <li> Very common to use a lambda function as the function to apply, but keep in mind the function <b>must return a boolean</b>.\n",
    "    <li> Returns an iterator through the iterable object that only yields values that pass the function.\n",
    "</ul>"
   ]
  },
  {
   "cell_type": "code",
   "execution_count": 1,
   "id": "b6cb7753",
   "metadata": {
    "slideshow": {
     "slide_type": "fragment"
    }
   },
   "outputs": [
    {
     "data": {
      "text/plain": [
       "[2, 4]"
      ]
     },
     "execution_count": 1,
     "metadata": {},
     "output_type": "execute_result"
    }
   ],
   "source": [
    "data = [1,2,3,4,5]\n",
    "list(filter(lambda x:x%2==0,data))"
   ]
  },
  {
   "cell_type": "markdown",
   "id": "82eafdba",
   "metadata": {
    "slideshow": {
     "slide_type": "slide"
    }
   },
   "source": [
    "<center><h3 style = 'color:blue'> Checkpoint </h3></center>\n",
    "\n",
    "<center>Are the following 2 statements equivalent?</center>"
   ]
  },
  {
   "cell_type": "code",
   "execution_count": 15,
   "id": "a1199116",
   "metadata": {
    "slideshow": {
     "slide_type": "fragment"
    }
   },
   "outputs": [],
   "source": [
    "data = list(range(0,101))"
   ]
  },
  {
   "cell_type": "code",
   "execution_count": null,
   "id": "41f0967a",
   "metadata": {
    "slideshow": {
     "slide_type": "fragment"
    }
   },
   "outputs": [],
   "source": [
    "lambda_map = lambda x: x*2 if x%2==0 else 0\n",
    "sum(map(lambda_map, data))"
   ]
  },
  {
   "cell_type": "code",
   "execution_count": null,
   "id": "b1558ec2",
   "metadata": {
    "slideshow": {
     "slide_type": "fragment"
    }
   },
   "outputs": [],
   "source": [
    "lambda_filter = lambda x: x%2==0\n",
    "sum(map(lambda_map, filter(lambda_filter, data)))"
   ]
  },
  {
   "cell_type": "markdown",
   "id": "7d8614ca",
   "metadata": {
    "slideshow": {
     "slide_type": "slide"
    }
   },
   "source": [
    "<center><h3 style = 'color:blue'> Checkpoint Solution</h3></center>\n",
    "\n",
    "<center> yep! </center>"
   ]
  },
  {
   "cell_type": "code",
   "execution_count": 16,
   "id": "fbd51e2d",
   "metadata": {
    "slideshow": {
     "slide_type": "fragment"
    }
   },
   "outputs": [],
   "source": [
    "data = list(range(0,101))"
   ]
  },
  {
   "cell_type": "code",
   "execution_count": 21,
   "id": "157f8592",
   "metadata": {
    "slideshow": {
     "slide_type": "fragment"
    }
   },
   "outputs": [
    {
     "data": {
      "text/plain": [
       "5100"
      ]
     },
     "execution_count": 21,
     "metadata": {},
     "output_type": "execute_result"
    }
   ],
   "source": [
    "lambda_map = lambda x: x*2 if x%2==0 else 0\n",
    "sum(map(lambda_map, data))"
   ]
  },
  {
   "cell_type": "code",
   "execution_count": 22,
   "id": "5af1247b",
   "metadata": {
    "slideshow": {
     "slide_type": "fragment"
    }
   },
   "outputs": [
    {
     "data": {
      "text/plain": [
       "5100"
      ]
     },
     "execution_count": 22,
     "metadata": {},
     "output_type": "execute_result"
    }
   ],
   "source": [
    "lambda_filter = lambda x: x%2==0\n",
    "sum(map(lambda_map, filter(lambda_filter, data)))"
   ]
  },
  {
   "cell_type": "markdown",
   "id": "a8c1b45f",
   "metadata": {
    "slideshow": {
     "slide_type": "slide"
    }
   },
   "source": [
    "<center><h3>HOF</h3></center>\n",
    "\n",
    "- Algorithm design framework to create generalized code\n",
    "\n",
    "- Functions that either return functions or use other functions\n",
    "\n",
    "- Helper functions!\n",
    "\n",
    "- Many uses, including abstraction, scope protection, etc."
   ]
  },
  {
   "cell_type": "code",
   "execution_count": 1,
   "id": "010ec5c9",
   "metadata": {
    "slideshow": {
     "slide_type": "fragment"
    }
   },
   "outputs": [],
   "source": [
    "def summation_i(n):\n",
    "    return (n*(n+1)) / 2\n",
    "\n",
    "def summation_i2(n):\n",
    "    return (n*(n+1)*(2*n+1)) / 6\n",
    "\n",
    "def summation_formulas(n, form):\n",
    "    if form=='i':\n",
    "        return summation_i(n)\n",
    "    if form=='i**2':\n",
    "        return summation_i2(n)\n",
    "    else:\n",
    "        raise ValueError(\"unfacilitated i value\")"
   ]
  },
  {
   "cell_type": "markdown",
   "id": "be8cc402",
   "metadata": {
    "slideshow": {
     "slide_type": "slide"
    }
   },
   "source": [
    "<center><h3>HOF (cont.)</h3></center>"
   ]
  },
  {
   "cell_type": "code",
   "execution_count": 3,
   "id": "f06cf4ce",
   "metadata": {
    "slideshow": {
     "slide_type": "fragment"
    }
   },
   "outputs": [
    {
     "data": {
      "text/plain": [
       "<function __main__.add_1(x)>"
      ]
     },
     "execution_count": 3,
     "metadata": {},
     "output_type": "execute_result"
    }
   ],
   "source": [
    "def add_1(x):\n",
    "    return x + 1\n",
    "def minus_1(x):\n",
    "    return x - 1\n",
    "\n",
    "def operate(op_type):\n",
    "    if op_type == 'add':\n",
    "        return add_1\n",
    "    else:\n",
    "        return minus_1\n",
    "operate('add')"
   ]
  },
  {
   "cell_type": "markdown",
   "id": "3e5cfc19",
   "metadata": {
    "slideshow": {
     "slide_type": "slide"
    }
   },
   "source": [
    "<center><h3 style = 'color:blue'> Checkpoint </h3></center>\n",
    "\n",
    "<center>Given the previous code, what is the result of these calls?</center>"
   ]
  },
  {
   "cell_type": "code",
   "execution_count": 31,
   "id": "cb8dfcfe",
   "metadata": {
    "slideshow": {
     "slide_type": "fragment"
    }
   },
   "outputs": [],
   "source": [
    "def add_1(x): # code from last slide\n",
    "    return x + 1\n",
    "def minus_1(x):\n",
    "    return x - 1\n",
    "\n",
    "def operate(op_type):\n",
    "    if op_type == 'add':\n",
    "        return add_1\n",
    "    else:\n",
    "        return minus_1"
   ]
  },
  {
   "cell_type": "code",
   "execution_count": 34,
   "id": "9bc1093a",
   "metadata": {
    "slideshow": {
     "slide_type": "fragment"
    }
   },
   "outputs": [],
   "source": [
    "temp = operate('add')"
   ]
  },
  {
   "cell_type": "code",
   "execution_count": null,
   "id": "de3f6738",
   "metadata": {
    "slideshow": {
     "slide_type": "fragment"
    }
   },
   "outputs": [],
   "source": [
    "temp(1)"
   ]
  },
  {
   "cell_type": "markdown",
   "id": "44abf01e",
   "metadata": {
    "slideshow": {
     "slide_type": "slide"
    }
   },
   "source": [
    "<center><h3 style = 'color:blue'> Checkpoint Solution</h3></center>"
   ]
  },
  {
   "cell_type": "code",
   "execution_count": 35,
   "id": "5b5fc920",
   "metadata": {
    "slideshow": {
     "slide_type": "fragment"
    }
   },
   "outputs": [
    {
     "data": {
      "text/plain": [
       "<function __main__.add_1(x)>"
      ]
     },
     "execution_count": 35,
     "metadata": {},
     "output_type": "execute_result"
    }
   ],
   "source": [
    "temp"
   ]
  },
  {
   "cell_type": "code",
   "execution_count": 36,
   "id": "d9a22872",
   "metadata": {
    "slideshow": {
     "slide_type": "fragment"
    }
   },
   "outputs": [
    {
     "data": {
      "text/plain": [
       "2"
      ]
     },
     "execution_count": 36,
     "metadata": {},
     "output_type": "execute_result"
    }
   ],
   "source": [
    "temp(1)"
   ]
  },
  {
   "cell_type": "markdown",
   "id": "383ea5f2",
   "metadata": {
    "slideshow": {
     "slide_type": "slide"
    }
   },
   "source": [
    "<center><h3>*args</h3></center>\n",
    "\n",
    "<ul>\n",
    "    <li> Used when an unknown number of arguments will be passed into a function\n",
    "    <li> Denoted by * in the method header (IMPORTANT)\n",
    "    <li> processed in a similar manner to a list\n",
    "</ul>"
   ]
  },
  {
   "cell_type": "code",
   "execution_count": 10,
   "id": "e317d64a",
   "metadata": {
    "slideshow": {
     "slide_type": "fragment"
    }
   },
   "outputs": [
    {
     "name": "stdout",
     "output_type": "stream",
     "text": [
      "0\n",
      "15\n"
     ]
    }
   ],
   "source": [
    "def summation(*nums):\n",
    "    return sum(nums)\n",
    "print(summation())\n",
    "print(summation(1,2,3,4,5))"
   ]
  },
  {
   "cell_type": "markdown",
   "id": "975e1657",
   "metadata": {
    "slideshow": {
     "slide_type": "slide"
    }
   },
   "source": [
    "<center><h3 style = 'color:blue'> Checkpoint </h3></center>\n",
    "\n",
    "<center>What is the result of this function call?</center>"
   ]
  },
  {
   "cell_type": "code",
   "execution_count": null,
   "id": "cbaff1da",
   "metadata": {
    "slideshow": {
     "slide_type": "fragment"
    }
   },
   "outputs": [],
   "source": [
    "def generate_names(*name_parts):\n",
    "    output = []\n",
    "    for name in name_parts:\n",
    "        output.append(name*2)\n",
    "    return output\n",
    "generate_names('pika', 'niko', 'oro')"
   ]
  },
  {
   "cell_type": "markdown",
   "id": "1e42beef",
   "metadata": {
    "slideshow": {
     "slide_type": "slide"
    }
   },
   "source": [
    "<center><h3 style = 'color:blue'> Checkpoint Solution </h3></center>"
   ]
  },
  {
   "cell_type": "code",
   "execution_count": 28,
   "id": "cdc40eb1",
   "metadata": {
    "slideshow": {
     "slide_type": "fragment"
    }
   },
   "outputs": [
    {
     "data": {
      "text/plain": [
       "['pikapika', 'nikoniko', 'orooro']"
      ]
     },
     "execution_count": 28,
     "metadata": {},
     "output_type": "execute_result"
    }
   ],
   "source": [
    "def generate_names(*name_parts):\n",
    "    output = []\n",
    "    for name in name_parts:\n",
    "        output.append(name*2)\n",
    "    return output\n",
    "generate_names('pika', 'niko', 'oro')"
   ]
  },
  {
   "cell_type": "markdown",
   "id": "f065f4f4",
   "metadata": {
    "slideshow": {
     "slide_type": "slide"
    }
   },
   "source": [
    "<center><h3>**kwargs</h3></center>\n",
    "\n",
    "<ul>\n",
    "    <li> Used when an unknown number of <b>keyworded</b> arguments will be passed into a function\n",
    "    <li> Denoted by ** in the method header (IMPORTANT)\n",
    "    <li> processed in a similar manner to a dictionary\n",
    "</ul>"
   ]
  },
  {
   "cell_type": "code",
   "execution_count": 15,
   "id": "f52b45f9",
   "metadata": {
    "slideshow": {
     "slide_type": "fragment"
    }
   },
   "outputs": [
    {
     "name": "stdout",
     "output_type": "stream",
     "text": [
      "{}\n",
      "{'marina': 1, 'langlois': 2}\n",
      "{'marina': 1}\n"
     ]
    }
   ],
   "source": [
    "marina = {'marina':1}\n",
    "def create_dct(**entry):\n",
    "    return dict(entry)\n",
    "print(create_dct())\n",
    "print(create_dct(marina=1, langlois=2))\n",
    "print(marina)"
   ]
  },
  {
   "cell_type": "markdown",
   "id": "478b8a88",
   "metadata": {
    "slideshow": {
     "slide_type": "slide"
    }
   },
   "source": [
    "<center><h3>default_arguments</h3></center>\n",
    "\n",
    "<ul>\n",
    "    <li> Basically normal arguments, but with a default value\n",
    "    <li> if no value is passed, default value is set\n",
    "    <li> if a value is passed, default value is overwritten\n",
    "</ul>"
   ]
  },
  {
   "cell_type": "code",
   "execution_count": 23,
   "id": "7b91c56f",
   "metadata": {
    "slideshow": {
     "slide_type": "fragment"
    }
   },
   "outputs": [
    {
     "name": "stdout",
     "output_type": "stream",
     "text": [
      "False\n",
      "True\n"
     ]
    }
   ],
   "source": [
    "def check_legal_age(age=18):\n",
    "    return age>=21\n",
    "print(check_legal_age())\n",
    "print(check_legal_age(21))"
   ]
  },
  {
   "cell_type": "markdown",
   "id": "6137ea92",
   "metadata": {
    "slideshow": {
     "slide_type": "slide"
    }
   },
   "source": [
    "<center><h3 style = 'color:blue'> Checkpoint </h3></center>\n",
    "\n",
    "<center>What is the result of this function call?</center>"
   ]
  },
  {
   "cell_type": "code",
   "execution_count": 30,
   "id": "0e5a0985",
   "metadata": {
    "slideshow": {
     "slide_type": "fragment"
    }
   },
   "outputs": [],
   "source": [
    "def filter_dict(t=2, **items_in):\n",
    "    return {k:v for k,v in items_in.items() if len(v)>t}\n",
    "filter_dict(0, temp=[1,2], test=[3,4,5])"
   ]
  },
  {
   "cell_type": "markdown",
   "id": "be8f9429",
   "metadata": {
    "slideshow": {
     "slide_type": "slide"
    }
   },
   "source": [
    "<center><h3 style = 'color:blue'> Checkpoint Solution </h3></center>"
   ]
  },
  {
   "cell_type": "code",
   "execution_count": 18,
   "id": "be11aa06",
   "metadata": {
    "slideshow": {
     "slide_type": "fragment"
    }
   },
   "outputs": [
    {
     "data": {
      "text/plain": [
       "{'temp': [1, 2], 'test': [3, 4, 5]}"
      ]
     },
     "execution_count": 18,
     "metadata": {},
     "output_type": "execute_result"
    }
   ],
   "source": [
    "def filter_dict(t=2, **items_in):\n",
    "    return {k:v for k,v in items_in.items() if len(v)>t}\n",
    "filter_dict(0, temp=[1,2], test=[3,4,5], a=[])"
   ]
  },
  {
   "cell_type": "markdown",
   "id": "05e99f2d",
   "metadata": {
    "slideshow": {
     "slide_type": "slide"
    }
   },
   "source": [
    "<center><h3>note</h3></center>\n",
    "\n",
    "<center>complex argument ordering gets really messy</center>"
   ]
  },
  {
   "cell_type": "code",
   "execution_count": 40,
   "id": "2f126342",
   "metadata": {
    "slideshow": {
     "slide_type": "fragment"
    }
   },
   "outputs": [
    {
     "data": {
      "text/plain": [
       "[42, [1, 1, 1, 1, 1, 1, 3], 4, {'test': 1}]"
      ]
     },
     "execution_count": 40,
     "metadata": {},
     "output_type": "execute_result"
    }
   ],
   "source": [
    "def func(norm, *args, darg=2, **kwargs):\n",
    "    return [norm, list(args), darg, dict(kwargs)]\n",
    "func(42,1,1,1,1,1,1,3,darg=4, test=1)"
   ]
  },
  {
   "cell_type": "code",
   "execution_count": 2,
   "id": "01b3a87d",
   "metadata": {
    "slideshow": {
     "slide_type": "fragment"
    }
   },
   "outputs": [
    {
     "data": {
      "text/plain": [
       "[42, [1, 1, 1, 1, 1, 1, 3], 4, {'test': 1}]"
      ]
     },
     "execution_count": 2,
     "metadata": {},
     "output_type": "execute_result"
    }
   ],
   "source": [
    "def func(norm, darg=2, *args, **kwargs):\n",
    "    return [norm, list(args), darg, dict(kwargs)]\n",
    "func(42,4,1,1,1,1,1,1,3,test=1)"
   ]
  },
  {
   "cell_type": "markdown",
   "id": "b40a280b",
   "metadata": {
    "slideshow": {
     "slide_type": "slide"
    }
   },
   "source": [
    "<center><h2>practice questions</h2></center>\n",
    "<br>\n",
    "<center>Time to do some practice questions! Take about 10-15 minutes to work on the questions. Feel free to flag me down if you need help/clarification.</center>\n",
    "<br>\n",
    "<center> If you finish early, head over to gradescope and complete the discussion attendance assignment </center>"
   ]
  },
  {
   "cell_type": "code",
   "execution_count": 32,
   "id": "f15ea8c1",
   "metadata": {
    "slideshow": {
     "slide_type": "skip"
    }
   },
   "outputs": [],
   "source": [
    "def query_data(database, source, quality):\n",
    "    \"\"\"\n",
    "    Write a function that takes in a dictionary and returns a list \n",
    "    of items from source that are at least of quality level.\n",
    "    Requirement: map/filter/lambda only\n",
    "    args:\n",
    "        database(list): list of dictionary data entries\n",
    "        source (str): string for source of items to be pulled\n",
    "        quality(int): numerical representation of quality\n",
    "    returns:\n",
    "        a list of items from source that are at least of quality level\n",
    "    \n",
    "    >>> data = [\n",
    "    {'name':'a', 'quality':4, 'source':'dsc'}, \n",
    "    {'name':'b','quality':10, 'source':'lign'}, \n",
    "    {'name':'c','quality':2, 'source':'dsc'}, \n",
    "    {'name':'d','quality':5, 'source':'dsc'}\n",
    "    ]\n",
    "    >>> query_data(data, 'dsc', 4)\n",
    "    ['a','d']\n",
    "    \"\"\"\n",
    "    # Write your implementation here\n",
    "    return\n",
    "\n",
    "def summary_stat(operation):\n",
    "    \"\"\"\n",
    "    Write a function that takes in a specified operation and returns a function that \n",
    "    will take in a set of numbers and calculate the operation accordingly.\n",
    "    \n",
    "    possible operations:\n",
    "        min -> finds the minimum value\n",
    "        max -> finds the maximum value\n",
    "        range -> finds the range of the values\n",
    "        median -> finds the median of the values\n",
    "\n",
    "    >>> med = summary_stat('median')\n",
    "    >>> med([1,2,3,4,5,6])\n",
    "    3.5\n",
    "    >>> ran = summary_stat('range')\n",
    "    >>> ran([1,2,3,4,5,6])\n",
    "    5\n",
    "    \"\"\"\n",
    "    # Write your implementation here\n",
    "    return\n",
    "\n",
    "\n",
    "# args, default // SPLIT INTO MULTIPLE QUESTIONSS -> write method header for the description\n",
    "# -> implement the code\n",
    "def count_len_lsts(*lists, counter=4):\n",
    "    \"\"\"\n",
    "    Write a function that takes in an unknown\n",
    "    number of lists and returns the sum of the\n",
    "    length of the first 'counter' lists, default\n",
    "    value of 4.\n",
    "    \n",
    "    Args:\n",
    "        lists(args): unknown number of lists\n",
    "        counter(int): number of lists length to count\n",
    "    Returns:\n",
    "        sum of the lengths of the first counter lists\n",
    "    \n",
    "    >>> count_len_lsts([],[1],[1],[1])\n",
    "    3\n",
    "    >>> count_len_lsts([],[],[1,2,3],[4,5], counter=2)\n",
    "    0\n",
    "    \"\"\"\n",
    "    # Write your implementation here\n",
    "    return\n",
    "\n",
    "# kwargs\n",
    "def foo(**kwargs):\n",
    "    output = []\n",
    "    for k,v in kwargs:\n",
    "        output.append((k,v))\n",
    "    return output\n",
    "foo(temp=1,fizz=2,buzz=3)"
   ]
  },
  {
   "cell_type": "markdown",
   "id": "fb1e47a3",
   "metadata": {
    "slideshow": {
     "slide_type": "slide"
    }
   },
   "source": [
    "<center><h2>practice question solutions</h2></center>"
   ]
  },
  {
   "cell_type": "markdown",
   "id": "4acb5904",
   "metadata": {
    "slideshow": {
     "slide_type": "slide"
    }
   },
   "source": [
    "<center>Write 2 functions, one to calculate the median and another to calculate the spread of a set of numbers.</center>"
   ]
  },
  {
   "cell_type": "code",
   "execution_count": 25,
   "id": "3a038f21",
   "metadata": {
    "slideshow": {
     "slide_type": "slide"
    }
   },
   "outputs": [],
   "source": [
    "def median(vals):\n",
    "    length = len(vals)\n",
    "    data = sorted(vals)\n",
    "    if length%2==0:\n",
    "        return (data[(length-1)//2] + data[length//2])/2\n",
    "    return data[length//2]\n",
    "\n",
    "def spread(vals):\n",
    "    return max(vals) - min(vals)"
   ]
  },
  {
   "cell_type": "code",
   "execution_count": 29,
   "id": "2a4a557c",
   "metadata": {
    "slideshow": {
     "slide_type": "slide"
    }
   },
   "outputs": [
    {
     "name": "stdout",
     "output_type": "stream",
     "text": [
      "3.5\n",
      "5\n"
     ]
    }
   ],
   "source": [
    "def summary_stat(operation):\n",
    "    \"\"\"\n",
    "    Write a function that takes in a specified operation \n",
    "    and returns a function that will take in a set of \n",
    "    numbers and calculate the operation accordingly.\n",
    "    \n",
    "    possible operations:\n",
    "        min -> finds the minimum value\n",
    "        max -> finds the maximum value\n",
    "        range -> finds the range of the values\n",
    "        median -> finds the median of the values\n",
    "\n",
    "    >>> med = summary_stat('median')\n",
    "    >>> med([1,2,3,4,5,6])\n",
    "    3.5\n",
    "    >>> ran = summary_stat('range')\n",
    "    >>> ran([1,2,3,4,5,6])\n",
    "    5\n",
    "    \"\"\"\n",
    "    if operation=='min':\n",
    "        return min\n",
    "    if operation=='max':\n",
    "        return max\n",
    "    if operation=='median':\n",
    "        return median\n",
    "    else:\n",
    "        return spread\n",
    "print(summary_stat('median')([1,2,3,4,5,6]))\n",
    "print(summary_stat('range')([1,2,3,4,5,6]))"
   ]
  },
  {
   "cell_type": "markdown",
   "id": "29b8a4ba",
   "metadata": {
    "slideshow": {
     "slide_type": "skip"
    }
   },
   "source": [
    "<center>Write a function that takes in an <b>unknown</b> number of lists \n",
    "and returns the sum of the length of the first 'counter' \n",
    "    lists, default value of 4.</center>"
   ]
  },
  {
   "cell_type": "code",
   "execution_count": 10,
   "id": "fe992d06",
   "metadata": {
    "slideshow": {
     "slide_type": "slide"
    }
   },
   "outputs": [
    {
     "name": "stdout",
     "output_type": "stream",
     "text": [
      "3\n",
      "0\n"
     ]
    }
   ],
   "source": [
    "def count_len_lsts(*lists, counter=4):\n",
    "    \"\"\"\n",
    "    Write a function that takes in an unknown\n",
    "    number of lists and returns the sum of the\n",
    "    length of the first 'counter' lists, default\n",
    "    value of 4.\n",
    "    \n",
    "    Args:\n",
    "        lists(args): unknown number of lists\n",
    "        counter(int): number of lists length to count\n",
    "    Returns:\n",
    "        sum of the lengths of the first counter lists\n",
    "    \n",
    "    >>> count_len_lsts([],[1],[1],[1])\n",
    "    3\n",
    "    >>> count_len_lsts([],[],[1,2,3],[4,5], counter=2)\n",
    "    0\n",
    "    \"\"\"\n",
    "    return sum([len(x) for x in lists[:counter]])\n",
    "print(count_len_lsts([],[1],[1],[1]))\n",
    "print(count_len_lsts([],[],[1,2,3],[4,5], counter=2))"
   ]
  },
  {
   "cell_type": "code",
   "execution_count": 2,
   "id": "a78b3cb8",
   "metadata": {
    "slideshow": {
     "slide_type": "skip"
    }
   },
   "outputs": [],
   "source": [
    "data = [{'name':'a', 'quality':4, 'source':'dsc'}, \n",
    "    {'name':'b','quality':10, 'source':'lign'}, \n",
    "    {'name':'c','quality':2, 'source':'dsc'}, \n",
    "    {'name':'d','quality':5, 'source':'dsc'}]"
   ]
  },
  {
   "cell_type": "code",
   "execution_count": 4,
   "id": "c5a81b2f",
   "metadata": {
    "slideshow": {
     "slide_type": "slide"
    }
   },
   "outputs": [
    {
     "data": {
      "text/plain": [
       "['a', 'd']"
      ]
     },
     "execution_count": 4,
     "metadata": {},
     "output_type": "execute_result"
    }
   ],
   "source": [
    "def query_data(database, source, quality):\n",
    "    \"\"\"\n",
    "    Write a function that takes in a dictionary \n",
    "    and returns a list of items from source that \n",
    "    are at least of quality level.\n",
    "\n",
    "    >>> data = [{'name':'a', 'quality':4, 'source':'dsc'}, \n",
    "    {'name':'b','quality':10, 'source':'lign'}, \n",
    "    {'name':'c','quality':2, 'source':'dsc'}, \n",
    "    {'name':'d','quality':5, 'source':'dsc'}]\n",
    "    >>> query_data(data, 'dsc', 4)\n",
    "    ['a','d']\n",
    "    \"\"\"\n",
    "    data_check = lambda x: x['source']==source and x['quality']>=quality\n",
    "    filtered = filter(data_check, database)\n",
    "    data_yield = lambda x:x['name']\n",
    "    return list(map(data_yield, filtered))\n",
    "query_data(data, 'dsc', 4)"
   ]
  },
  {
   "cell_type": "markdown",
   "id": "799d788f",
   "metadata": {
    "slideshow": {
     "slide_type": "slide"
    }
   },
   "source": [
    "<center>What is the result of the following function and function call?</center>"
   ]
  },
  {
   "cell_type": "code",
   "execution_count": 20,
   "id": "a5a714ba",
   "metadata": {
    "slideshow": {
     "slide_type": "fragment"
    }
   },
   "outputs": [
    {
     "ename": "ValueError",
     "evalue": "too many values to unpack (expected 2)",
     "output_type": "error",
     "traceback": [
      "\u001b[0;31m---------------------------------------------------------------------------\u001b[0m",
      "\u001b[0;31mValueError\u001b[0m                                Traceback (most recent call last)",
      "Cell \u001b[0;32mIn[20], line 6\u001b[0m\n\u001b[1;32m      4\u001b[0m         output\u001b[38;5;241m.\u001b[39mappend((k,v))\n\u001b[1;32m      5\u001b[0m     \u001b[38;5;28;01mreturn\u001b[39;00m output\n\u001b[0;32m----> 6\u001b[0m \u001b[43mfoo\u001b[49m\u001b[43m(\u001b[49m\u001b[43mtemp\u001b[49m\u001b[38;5;241;43m=\u001b[39;49m\u001b[38;5;241;43m1\u001b[39;49m\u001b[43m,\u001b[49m\u001b[43mfizz\u001b[49m\u001b[38;5;241;43m=\u001b[39;49m\u001b[38;5;241;43m2\u001b[39;49m\u001b[43m,\u001b[49m\u001b[43mbuzz\u001b[49m\u001b[38;5;241;43m=\u001b[39;49m\u001b[38;5;241;43m3\u001b[39;49m\u001b[43m)\u001b[49m\n",
      "Cell \u001b[0;32mIn[20], line 3\u001b[0m, in \u001b[0;36mfoo\u001b[0;34m(**kwargs)\u001b[0m\n\u001b[1;32m      1\u001b[0m \u001b[38;5;28;01mdef\u001b[39;00m \u001b[38;5;21mfoo\u001b[39m(\u001b[38;5;241m*\u001b[39m\u001b[38;5;241m*\u001b[39mkwargs):\n\u001b[1;32m      2\u001b[0m     output \u001b[38;5;241m=\u001b[39m []\n\u001b[0;32m----> 3\u001b[0m     \u001b[38;5;28;01mfor\u001b[39;00m k,v \u001b[38;5;129;01min\u001b[39;00m kwargs:\n\u001b[1;32m      4\u001b[0m         output\u001b[38;5;241m.\u001b[39mappend((k,v))\n\u001b[1;32m      5\u001b[0m     \u001b[38;5;28;01mreturn\u001b[39;00m output\n",
      "\u001b[0;31mValueError\u001b[0m: too many values to unpack (expected 2)"
     ]
    }
   ],
   "source": [
    "def foo(**kwargs):\n",
    "    output = []\n",
    "    for k,v in kwargs:\n",
    "        output.append((k,v))\n",
    "    return output\n",
    "foo(temp=1,fizz=2,buzz=3)"
   ]
  },
  {
   "cell_type": "markdown",
   "id": "4cfad092",
   "metadata": {
    "slideshow": {
     "slide_type": "slide"
    }
   },
   "source": [
    "<center><h2>Discussion Attendance</h2></center>\n",
    "<center>Take 2 minutes and head to gradescope to complete discussion attendance. The assignment is called Discussion 5 Participation.</center>"
   ]
  },
  {
   "cell_type": "markdown",
   "id": "5e5fc952",
   "metadata": {
    "slideshow": {
     "slide_type": "slide"
    }
   },
   "source": [
    "<center><h2>Machine Learning</h2></center>"
   ]
  },
  {
   "cell_type": "markdown",
   "id": "c7e88bbf",
   "metadata": {
    "slideshow": {
     "slide_type": "slide"
    }
   },
   "source": [
    "<center><h3>Preface</h3></center>\n",
    "\n",
    "<center><b style='color:blue'>Recall from discussion 1:</b></center>\n",
    "\n",
    "<center>\"Why bother learning how to code? So that we can do cool things with the tools that people have invented!\"</center>\n",
    "\n",
    "<center>The start of those cool things is always foundational machine learning - solving problems and finding answers through code that can \"learn\".</center>\n",
    "\n",
    "<center> Learning always starts with data. Without having some \"ground truth\" to base your learning on, whatever you learn is ultimately meaningless. For today's discussion, we'll take a look at a hallmark dataset for data science, penguins: </center>\n",
    "\n",
    "<center> To simplify the problem, we will not be using all features. Instead, we will only consider <b>'body_mass_g', 'flipper_length', and 'species'</b>.</center>\n",
    "\n",
    "<center><img src='imgs/penguins_set.png' width=400></center>"
   ]
  },
  {
   "cell_type": "code",
   "execution_count": 31,
   "id": "8f7fcde8",
   "metadata": {
    "slideshow": {
     "slide_type": "skip"
    }
   },
   "outputs": [],
   "source": [
    "data = pd.read_csv('data/penguins.csv')\n",
    "data = data.dropna()[['flipper_length_mm', 'body_mass_g','species']]"
   ]
  },
  {
   "cell_type": "code",
   "execution_count": 33,
   "id": "c27d597a",
   "metadata": {
    "slideshow": {
     "slide_type": "skip"
    }
   },
   "outputs": [],
   "source": [
    "X = data[['flipper_length_mm', 'body_mass_g']]\n",
    "y = data['species']\n",
    "X_train, X_test, y_train, y_test = train_test_split(X, y, test_size=0.4, random_state=69)"
   ]
  },
  {
   "cell_type": "markdown",
   "id": "cbdd0efd",
   "metadata": {
    "slideshow": {
     "slide_type": "slide"
    }
   },
   "source": [
    "<center><h3>Classifiers</h3></center>\n",
    "\n",
    "<center>Classification is one of the major tasks in machine learning. Its goal (as its name implies) is to ingest data associated with a label and be able to predict the label of future unseen data by learning some sort of pattern. Within our penguins dataset, this would involve predicting the penguin species ('species') based on its 'flipper_length_mm' and 'body_mass_g'.</center>\n",
    "\n",
    "<center><img src='imgs/class_scatter.png' width=600></center>"
   ]
  },
  {
   "cell_type": "code",
   "execution_count": 34,
   "id": "9ba75759",
   "metadata": {
    "slideshow": {
     "slide_type": "skip"
    }
   },
   "outputs": [],
   "source": [
    "clf = SVC()"
   ]
  },
  {
   "cell_type": "code",
   "execution_count": 35,
   "id": "18763702",
   "metadata": {
    "slideshow": {
     "slide_type": "fragment"
    }
   },
   "outputs": [],
   "source": [
    "clf.fit(X_train, y_train);\n",
    "training_accuracy = (clf.predict(X_train) == y_train).mean()\n",
    "testing_accuracy = (clf.predict(X_test) == y_test).mean()"
   ]
  },
  {
   "cell_type": "markdown",
   "id": "6f95c9c9",
   "metadata": {
    "slideshow": {
     "slide_type": "fragment"
    }
   },
   "source": [
    "<center>training accuracy: 0.745</center>\n",
    "<center>testing accuracy: 0.6940298507462687</center>"
   ]
  },
  {
   "cell_type": "markdown",
   "id": "5faf0698",
   "metadata": {
    "slideshow": {
     "slide_type": "slide"
    }
   },
   "source": [
    "<center><h2>Why are we talking about this?</h2></center>\n",
    "\n",
    "<center>Foreshadowing! You may (or may not) need to apply some of this knowledge (relatively) soon! Possibly for your project</center>"
   ]
  },
  {
   "cell_type": "markdown",
   "id": "f99fdbbf",
   "metadata": {
    "slideshow": {
     "slide_type": "slide"
    }
   },
   "source": [
    "<center><h3>K Nearest Neighbors (KNN) for Classification</h3></center>\n",
    "\n",
    "<center><b style='color:blue'>idea</b>: Given an unseen value of flipper_length and body_mass, how can we determine what species of penguins it belongs to? </center>\n",
    "\n",
    "<center>The KNN approach is simple - if I look at the k nearest points to this new value, and I take the most common species among them, then this point is <b>most likely</b> the same species as the most common species among the neighbors. </center>\n",
    "\n",
    "<center><img src='imgs/class_scatter.png' width=600></center>"
   ]
  },
  {
   "cell_type": "markdown",
   "id": "fc93b7ae",
   "metadata": {
    "slideshow": {
     "slide_type": "slide"
    }
   },
   "source": [
    "<center><h3>Procedure</h3></center>\n",
    "<br>\n",
    "\n",
    "<center><b>Step 1</b>: Given a new point <i>X</i>, quantify the distance between all points and <i>X</i></center>\n",
    "\n",
    "<center><b>Step 2</b>: Take the <b style = 'color:blue'>k-nearest</b> points to <i>X</i> into consideration</center>\n",
    "\n",
    "<center><b>Step 3</b>: Classify <i>X</i> as the most common label among the neighbors</center>\n",
    "\n",
    "<br>\n",
    "\n",
    "<center><b>note: </b> As the name implies, the key parts of this algorithm are <b style = 'color:blue'>k</b> and <b style = 'color:blue'>nearest</b>. </center> \n",
    "    \n",
    "<center><b style = 'color:blue'>k</b> is often referred to as a <b>hyper-parameter</b>, or a value that you choose independently. There are often procedures to select a good k, but this varies depending on the context. </center>\n",
    "    \n",
    "<center><b style = 'color:blue'>Nearest</b> refers to quantifying distance - one such way is to use euclidian distance (distance formula), but there are many other \"distances\" that can be used (ex. Manhattan Distance).</center>"
   ]
  },
  {
   "cell_type": "markdown",
   "id": "0c047298",
   "metadata": {
    "slideshow": {
     "slide_type": "slide"
    }
   },
   "source": [
    "<center> <h2 style = \"color:blue\">Checkpoint</h2> </center>\n",
    "<center>Given the new data point (201, 4750), what would a KNN classifier classify the new point as for <b>k=1</b>? What about for <b>k=4</b>? What about for <b>k=10</b>?</center>\n",
    "<center><img src='imgs/knn_inject_new.png' width=600></center>"
   ]
  },
  {
   "cell_type": "markdown",
   "id": "41d11d97",
   "metadata": {
    "slideshow": {
     "slide_type": "slide"
    }
   },
   "source": [
    "<center> <h2 style = \"color:blue\">Checkpoint Solution</h2> </center>\n",
    "\n",
    "<b>for k=1</b>: Seems like the orange point is closest according to an eye test, so Chinstrap\n",
    "\n",
    "<b>for k=4</b>: The 3 closest points seem to all be from unique colors, the fourth point is hard to determine by eye. Could easily be Adelie or Chinstrap\n",
    "\n",
    "<b>for k=10</b>: The bulk of the points nearby are blue, so Adelie\n"
   ]
  },
  {
   "cell_type": "markdown",
   "id": "49030538",
   "metadata": {
    "slideshow": {
     "slide_type": "slide"
    }
   },
   "source": [
    "<center> <h1>Thanks for coming!</h1></center>"
   ]
  },
  {
   "cell_type": "code",
   "execution_count": null,
   "id": "1e60d5be",
   "metadata": {
    "slideshow": {
     "slide_type": "skip"
    }
   },
   "outputs": [],
   "source": []
  }
 ],
 "metadata": {
  "celltoolbar": "Slideshow",
  "kernelspec": {
   "display_name": "Python 3 (ipykernel)",
   "language": "python",
   "name": "python3"
  },
  "language_info": {
   "codemirror_mode": {
    "name": "ipython",
    "version": 3
   },
   "file_extension": ".py",
   "mimetype": "text/x-python",
   "name": "python",
   "nbconvert_exporter": "python",
   "pygments_lexer": "ipython3",
   "version": "3.10.8"
  },
  "rise": {
   "enable_chalkboard": true
  }
 },
 "nbformat": 4,
 "nbformat_minor": 5
}
